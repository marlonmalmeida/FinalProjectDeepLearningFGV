{
  "cells": [
    {
      "cell_type": "markdown",
      "metadata": {
        "id": "VMIfg3scWOMn"
      },
      "source": [
        "**FGV EPGE - Escola de Pós-graduação em Economia**\n",
        "==\n",
        "**Trabalho da Disciplina Deep Learning**\n",
        "==\n",
        "Professores: Renato Rocha Souza\n",
        "\n",
        "\n",
        "Monitora: Maria Gabriela Gontijo\n",
        "\n",
        "**Tema: Análise de Sentimento Segmentado no Varejo - Um comparativo de modelos**\n",
        "==\n",
        "Alunos: Marlon Marques Almeida e Thamiris\n",
        "\n",
        "Data: 21/01/2022"
      ]
    },
    {
      "cell_type": "code",
      "execution_count": 1,
      "metadata": {
        "colab": {
          "base_uri": "https://localhost:8080/"
        },
        "id": "yGTjud09eZCb",
        "outputId": "3e914fbf-86eb-4abd-9629-ed867f9faa4a"
      },
      "outputs": [
        {
          "output_type": "stream",
          "name": "stdout",
          "text": [
            "Not connected to a GPU\n"
          ]
        }
      ],
      "source": [
        "gpu_info = !nvidia-smi\n",
        "gpu_info = '\\n'.join(gpu_info)\n",
        "if gpu_info.find('failed') >= 0:\n",
        "  print('Not connected to a GPU')\n",
        "else: \n",
        "  print(gpu_info)"
      ]
    },
    {
      "cell_type": "code",
      "execution_count": 2,
      "metadata": {
        "colab": {
          "base_uri": "https://localhost:8080/"
        },
        "id": "fci8ILyWWAuG",
        "outputId": "a07685b0-49d2-4d6d-919a-c2e96a39f7d8"
      },
      "outputs": [
        {
          "output_type": "stream",
          "name": "stdout",
          "text": [
            "Drive already mounted at /content/drive; to attempt to forcibly remount, call drive.mount(\"/content/drive\", force_remount=True).\n"
          ]
        }
      ],
      "source": [
        "import pandas as pd\n",
        "import numpy as np\n",
        "import matplotlib.pyplot as plt\n",
        "import os\n",
        "import seaborn as sns\n",
        "from google.colab import drive \n",
        "drive.mount('/content/drive')\n",
        "np.random.seed(42)"
      ]
    },
    {
      "cell_type": "code",
      "execution_count": 3,
      "metadata": {
        "id": "PNN8Ow4c0Vg1"
      },
      "outputs": [],
      "source": [
        "#pip install nltk"
      ]
    },
    {
      "cell_type": "code",
      "execution_count": 4,
      "metadata": {
        "colab": {
          "base_uri": "https://localhost:8080/"
        },
        "id": "oUM9Hq5IfI9I",
        "outputId": "a6dbd33e-8a42-4635-ca6a-38e127dc9465"
      },
      "outputs": [
        {
          "output_type": "stream",
          "name": "stdout",
          "text": [
            "[nltk_data] Downloading package stopwords to /root/nltk_data...\n",
            "[nltk_data]   Package stopwords is already up-to-date!\n",
            "[nltk_data] Downloading package punkt to /root/nltk_data...\n",
            "[nltk_data]   Package punkt is already up-to-date!\n"
          ]
        }
      ],
      "source": [
        "import requests as re\n",
        "import re # for regex\n",
        "import nltk\n",
        "import nltk\n",
        "nltk.download('stopwords')\n",
        "nltk.download('punkt')\n",
        "from nltk.corpus import stopwords\n",
        "from nltk.tokenize import word_tokenize\n",
        "from nltk.stem import SnowballStemmer\n",
        "from sklearn.feature_extraction.text import CountVectorizer\n",
        "from sklearn.model_selection import train_test_split\n",
        "from sklearn.naive_bayes import GaussianNB,MultinomialNB,BernoulliNB\n",
        "from sklearn.metrics import accuracy_score\n",
        "import pickle\n"
      ]
    },
    {
      "cell_type": "code",
      "execution_count": 5,
      "metadata": {
        "id": "ilzBZOqM0Vg2"
      },
      "outputs": [],
      "source": [
        "#cd deepprojetos"
      ]
    },
    {
      "cell_type": "markdown",
      "metadata": {
        "id": "PWr2q6UR0Vg2"
      },
      "source": [
        "*I - Bussiness Understanding*\n",
        "==\n",
        "\n",
        "Objetive: Get predicted and classify a text to capture negative reviews in an e-commerce system to treat these classifications more quickly and assertively, enabling a reconquest approach avoiding customer loss\n",
        "Assess situation:\n",
        "Data mining goals:Descriptive analysis of data, treatment of missing values, and interpretation for evaluation of data unbalance\n",
        "\n",
        "==\n",
        "\n",
        "> O que é feedback negativo?\n",
        "\n",
        "Hoje em dia, o feedback é toda e qualquer opinião e avaliação do cliente a respeito de algo que comprou.\n",
        "\n",
        "Ele aponta as insatisfações dos clientes e quais os pontos que a empresa deve melhorar ou se aprimorar. Por isso, é enganoso acreditar que um feedback negativo é algo ruim, que determina apenas que seus serviços não possuem excelência. Um feedback negativo deve ser visto como uma forma de aprimorar o que você vende e/ou seus serviços.\n",
        "\n",
        "> Quanto custa uma avaliação negativa para sua empresa?\n",
        "\n",
        "Um levantamento realizado pela Zuberance, uma das principais empresas de marketing de defensores dos Estados Unidos, estima o impacto negativo do marketing boca a boca pode atingir 25% de sua receita anual. Portanto, para uma empresa que estima movimentar R$ 1 milhão ao longo do ano, ter avaliações ruinso marketing boca a boca pode reduzir em R$ 250 mil este faturamento.\n",
        "\n",
        "Esses números podem parecer muito elevados, mas é preciso entender que as consequências das avaliações negativas podem ser sentidas em várias frentes. Alguns dos impactos mais percebidos:\n",
        "\n",
        "– Diminuição das vendas e da receita total da empresa: os clientes deixam de comprar ao saber que outras pessoas ficaram insatisfeitas com um produto ou serviço;\n",
        "\n",
        "– Redução da lealdade dos consumidores: eles deixam de comprar mais de uma vez com uma empresa, especialmente se estiverem insatisfeitos;\n",
        "\n",
        "– Aumento na dificuldade para atrair e reter colaboradores: devido aos maus comentários, muitas pessoas pensam duas vezes antes de se envolver nestes negócios, inclusive como funcionários.\n",
        "\n",
        "– Capacidade de atração de parceiros e investidores: é preciso muito mais esforço para convencer pessoas de que seus produtos e serviços têm qualidade e valem o aporte de recursos.\n",
        "\n",
        "\n",
        "https://peepi.com.br/blog/avaliacao-negativa/\n",
        "\n",
        "https://sernotavel.com.br/o-que-e-um-feedback-negativo-e-como-afeta-um-negocio-digital/\n",
        "\n",
        "\n"
      ]
    },
    {
      "cell_type": "markdown",
      "metadata": {
        "id": "iw6KNSlR0Vg3"
      },
      "source": [
        "*II - Data Understanding*\n",
        "==\n",
        "Collect initial data:\n",
        "Describe data:\n",
        "Explore data:\n",
        "Verify data quality:\n"
      ]
    },
    {
      "cell_type": "markdown",
      "metadata": {
        "id": "JjCfDpa90Vg3"
      },
      "source": [
        "**Importing the datasets**"
      ]
    },
    {
      "cell_type": "code",
      "execution_count": 6,
      "metadata": {
        "id": "IzKeDIFqYQa9"
      },
      "outputs": [],
      "source": [
        "#https://www.kaggle.com/muhammedabdulazeem/amazon-electronics-items-reviews\n",
        "##Importing the datasets\n",
        "\n",
        "#df2 = pd.read_csv(r\"C://Users//marlo//deepprojetos//amazonReview.csv\")\n",
        "#df = pd.read_csv(r\"C://Users//marlo//deepprojetos//Reviews.csv\")\n",
        "\n",
        "#Importando base de dados princial de trabalho\n",
        "df2=pd.read_csv('/content/drive/MyDrive/DeepLearning/amazonReview.csv')"
      ]
    },
    {
      "cell_type": "code",
      "execution_count": 7,
      "metadata": {
        "colab": {
          "base_uri": "https://localhost:8080/",
          "height": 319
        },
        "id": "duCPOT9W8B6G",
        "outputId": "da052905-818a-4b42-94bd-cdb5e5e99994"
      },
      "outputs": [
        {
          "output_type": "execute_result",
          "data": {
            "text/plain": [
              "   Unnamed: 0  Unnamed: 0.1        asin  helpful  rating  \\\n",
              "0           0         11539  B0033UV8HI  [8, 10]       3   \n",
              "1           1          5957  B002HJV4DE   [1, 1]       5   \n",
              "2           2          9146  B002ZG96I4   [0, 0]       3   \n",
              "3           3          7038  B002QHWOEU   [1, 3]       3   \n",
              "4           4          1776  B001A06VJ8   [0, 1]       4   \n",
              "\n",
              "                                          reviewText   reviewTime  \\\n",
              "0  Jace Rankin may be short, but he's nothing to ...   09 2, 2010   \n",
              "1  Great short read.  I didn't want to put it dow...   10 8, 2013   \n",
              "2  I'll start by saying this is the first of four...  04 11, 2014   \n",
              "3  Aggie is Angela Lansbury who carries pocketboo...   07 5, 2014   \n",
              "4  I did not expect this type of book to be in li...  12 31, 2012   \n",
              "\n",
              "       reviewerID  reviewerName                   summary  unixReviewTime  \n",
              "0  A3HHXRELK8BHQG        Ridley  Entertaining But Average      1283385600  \n",
              "1  A2RGNZ0TRF578I  Holly Butler   Terrific menage scenes!      1381190400  \n",
              "2  A3S0H2HV6U1I7F       Merissa          Snapdragon Alley      1397174400  \n",
              "3   AC4OQW3GZ919J    Cleargrace    very light murder cozy      1404518400  \n",
              "4  A3C9V987IQHOQD      Rjostler                      Book      1356912000  "
            ],
            "text/html": [
              "\n",
              "  <div id=\"df-55d90254-38d4-4851-bf9f-f4db43f7141d\">\n",
              "    <div class=\"colab-df-container\">\n",
              "      <div>\n",
              "<style scoped>\n",
              "    .dataframe tbody tr th:only-of-type {\n",
              "        vertical-align: middle;\n",
              "    }\n",
              "\n",
              "    .dataframe tbody tr th {\n",
              "        vertical-align: top;\n",
              "    }\n",
              "\n",
              "    .dataframe thead th {\n",
              "        text-align: right;\n",
              "    }\n",
              "</style>\n",
              "<table border=\"1\" class=\"dataframe\">\n",
              "  <thead>\n",
              "    <tr style=\"text-align: right;\">\n",
              "      <th></th>\n",
              "      <th>Unnamed: 0</th>\n",
              "      <th>Unnamed: 0.1</th>\n",
              "      <th>asin</th>\n",
              "      <th>helpful</th>\n",
              "      <th>rating</th>\n",
              "      <th>reviewText</th>\n",
              "      <th>reviewTime</th>\n",
              "      <th>reviewerID</th>\n",
              "      <th>reviewerName</th>\n",
              "      <th>summary</th>\n",
              "      <th>unixReviewTime</th>\n",
              "    </tr>\n",
              "  </thead>\n",
              "  <tbody>\n",
              "    <tr>\n",
              "      <th>0</th>\n",
              "      <td>0</td>\n",
              "      <td>11539</td>\n",
              "      <td>B0033UV8HI</td>\n",
              "      <td>[8, 10]</td>\n",
              "      <td>3</td>\n",
              "      <td>Jace Rankin may be short, but he's nothing to ...</td>\n",
              "      <td>09 2, 2010</td>\n",
              "      <td>A3HHXRELK8BHQG</td>\n",
              "      <td>Ridley</td>\n",
              "      <td>Entertaining But Average</td>\n",
              "      <td>1283385600</td>\n",
              "    </tr>\n",
              "    <tr>\n",
              "      <th>1</th>\n",
              "      <td>1</td>\n",
              "      <td>5957</td>\n",
              "      <td>B002HJV4DE</td>\n",
              "      <td>[1, 1]</td>\n",
              "      <td>5</td>\n",
              "      <td>Great short read.  I didn't want to put it dow...</td>\n",
              "      <td>10 8, 2013</td>\n",
              "      <td>A2RGNZ0TRF578I</td>\n",
              "      <td>Holly Butler</td>\n",
              "      <td>Terrific menage scenes!</td>\n",
              "      <td>1381190400</td>\n",
              "    </tr>\n",
              "    <tr>\n",
              "      <th>2</th>\n",
              "      <td>2</td>\n",
              "      <td>9146</td>\n",
              "      <td>B002ZG96I4</td>\n",
              "      <td>[0, 0]</td>\n",
              "      <td>3</td>\n",
              "      <td>I'll start by saying this is the first of four...</td>\n",
              "      <td>04 11, 2014</td>\n",
              "      <td>A3S0H2HV6U1I7F</td>\n",
              "      <td>Merissa</td>\n",
              "      <td>Snapdragon Alley</td>\n",
              "      <td>1397174400</td>\n",
              "    </tr>\n",
              "    <tr>\n",
              "      <th>3</th>\n",
              "      <td>3</td>\n",
              "      <td>7038</td>\n",
              "      <td>B002QHWOEU</td>\n",
              "      <td>[1, 3]</td>\n",
              "      <td>3</td>\n",
              "      <td>Aggie is Angela Lansbury who carries pocketboo...</td>\n",
              "      <td>07 5, 2014</td>\n",
              "      <td>AC4OQW3GZ919J</td>\n",
              "      <td>Cleargrace</td>\n",
              "      <td>very light murder cozy</td>\n",
              "      <td>1404518400</td>\n",
              "    </tr>\n",
              "    <tr>\n",
              "      <th>4</th>\n",
              "      <td>4</td>\n",
              "      <td>1776</td>\n",
              "      <td>B001A06VJ8</td>\n",
              "      <td>[0, 1]</td>\n",
              "      <td>4</td>\n",
              "      <td>I did not expect this type of book to be in li...</td>\n",
              "      <td>12 31, 2012</td>\n",
              "      <td>A3C9V987IQHOQD</td>\n",
              "      <td>Rjostler</td>\n",
              "      <td>Book</td>\n",
              "      <td>1356912000</td>\n",
              "    </tr>\n",
              "  </tbody>\n",
              "</table>\n",
              "</div>\n",
              "      <button class=\"colab-df-convert\" onclick=\"convertToInteractive('df-55d90254-38d4-4851-bf9f-f4db43f7141d')\"\n",
              "              title=\"Convert this dataframe to an interactive table.\"\n",
              "              style=\"display:none;\">\n",
              "        \n",
              "  <svg xmlns=\"http://www.w3.org/2000/svg\" height=\"24px\"viewBox=\"0 0 24 24\"\n",
              "       width=\"24px\">\n",
              "    <path d=\"M0 0h24v24H0V0z\" fill=\"none\"/>\n",
              "    <path d=\"M18.56 5.44l.94 2.06.94-2.06 2.06-.94-2.06-.94-.94-2.06-.94 2.06-2.06.94zm-11 1L8.5 8.5l.94-2.06 2.06-.94-2.06-.94L8.5 2.5l-.94 2.06-2.06.94zm10 10l.94 2.06.94-2.06 2.06-.94-2.06-.94-.94-2.06-.94 2.06-2.06.94z\"/><path d=\"M17.41 7.96l-1.37-1.37c-.4-.4-.92-.59-1.43-.59-.52 0-1.04.2-1.43.59L10.3 9.45l-7.72 7.72c-.78.78-.78 2.05 0 2.83L4 21.41c.39.39.9.59 1.41.59.51 0 1.02-.2 1.41-.59l7.78-7.78 2.81-2.81c.8-.78.8-2.07 0-2.86zM5.41 20L4 18.59l7.72-7.72 1.47 1.35L5.41 20z\"/>\n",
              "  </svg>\n",
              "      </button>\n",
              "      \n",
              "  <style>\n",
              "    .colab-df-container {\n",
              "      display:flex;\n",
              "      flex-wrap:wrap;\n",
              "      gap: 12px;\n",
              "    }\n",
              "\n",
              "    .colab-df-convert {\n",
              "      background-color: #E8F0FE;\n",
              "      border: none;\n",
              "      border-radius: 50%;\n",
              "      cursor: pointer;\n",
              "      display: none;\n",
              "      fill: #1967D2;\n",
              "      height: 32px;\n",
              "      padding: 0 0 0 0;\n",
              "      width: 32px;\n",
              "    }\n",
              "\n",
              "    .colab-df-convert:hover {\n",
              "      background-color: #E2EBFA;\n",
              "      box-shadow: 0px 1px 2px rgba(60, 64, 67, 0.3), 0px 1px 3px 1px rgba(60, 64, 67, 0.15);\n",
              "      fill: #174EA6;\n",
              "    }\n",
              "\n",
              "    [theme=dark] .colab-df-convert {\n",
              "      background-color: #3B4455;\n",
              "      fill: #D2E3FC;\n",
              "    }\n",
              "\n",
              "    [theme=dark] .colab-df-convert:hover {\n",
              "      background-color: #434B5C;\n",
              "      box-shadow: 0px 1px 3px 1px rgba(0, 0, 0, 0.15);\n",
              "      filter: drop-shadow(0px 1px 2px rgba(0, 0, 0, 0.3));\n",
              "      fill: #FFFFFF;\n",
              "    }\n",
              "  </style>\n",
              "\n",
              "      <script>\n",
              "        const buttonEl =\n",
              "          document.querySelector('#df-55d90254-38d4-4851-bf9f-f4db43f7141d button.colab-df-convert');\n",
              "        buttonEl.style.display =\n",
              "          google.colab.kernel.accessAllowed ? 'block' : 'none';\n",
              "\n",
              "        async function convertToInteractive(key) {\n",
              "          const element = document.querySelector('#df-55d90254-38d4-4851-bf9f-f4db43f7141d');\n",
              "          const dataTable =\n",
              "            await google.colab.kernel.invokeFunction('convertToInteractive',\n",
              "                                                     [key], {});\n",
              "          if (!dataTable) return;\n",
              "\n",
              "          const docLinkHtml = 'Like what you see? Visit the ' +\n",
              "            '<a target=\"_blank\" href=https://colab.research.google.com/notebooks/data_table.ipynb>data table notebook</a>'\n",
              "            + ' to learn more about interactive tables.';\n",
              "          element.innerHTML = '';\n",
              "          dataTable['output_type'] = 'display_data';\n",
              "          await google.colab.output.renderOutput(dataTable, element);\n",
              "          const docLink = document.createElement('div');\n",
              "          docLink.innerHTML = docLinkHtml;\n",
              "          element.appendChild(docLink);\n",
              "        }\n",
              "      </script>\n",
              "    </div>\n",
              "  </div>\n",
              "  "
            ]
          },
          "metadata": {},
          "execution_count": 7
        }
      ],
      "source": [
        "#https://www.kaggle.com/meetnagadia/amazon-kindle-book-review-for-sentiment-analysis?select=all_kindle_review+.csv\n",
        "\n",
        "#Importando base secundária \n",
        "df_books =pd.read_csv('/content/drive/MyDrive/DeepLearning/all_kindle_review .csv')\n",
        "df_books.head()"
      ]
    },
    {
      "cell_type": "markdown",
      "metadata": {
        "id": "YN098qfD0Vg4"
      },
      "source": [
        "**Exploring Data**"
      ]
    },
    {
      "cell_type": "code",
      "execution_count": 8,
      "metadata": {
        "colab": {
          "base_uri": "https://localhost:8080/",
          "height": 206
        },
        "id": "3y3V4f6fYpKD",
        "outputId": "38872c33-2094-49cd-b183-213e12ed16f4"
      },
      "outputs": [
        {
          "output_type": "execute_result",
          "data": {
            "text/plain": [
              "         Reviewer name                                              title  \\\n",
              "0        Genuine buyer                                      Pros and cons   \n",
              "1       CHETAN SHETTER  Never Expected in this price range... I Assure...   \n",
              "2        Kiran Kumar M  Bass bastler, Awesome HD quality sound, rockin...   \n",
              "3            Raj Patel                        Maybe buy boat basshead 100   \n",
              "4  SANJAY KUMAR TIWARI     Superb head stereo better than leading brands.   \n",
              "\n",
              "                                         Review body       Review rating  \\\n",
              "0  Great quality and the sound is actually great....  5.0 out of 5 stars   \n",
              "1  I've been using this from past 6 months. This ...  5.0 out of 5 stars   \n",
              "2  Perfect bass and nice one. Superb sound and it...  5.0 out of 5 stars   \n",
              "3  Here is the review after 1 week of usePros:1.B...  4.0 out of 5 stars   \n",
              "4  Purchased after seeing review with suspicion t...  5.0 out of 5 stars   \n",
              "\n",
              "  sentiment  \n",
              "0  positive  \n",
              "1  positive  \n",
              "2  positive  \n",
              "3  positive  \n",
              "4  positive  "
            ],
            "text/html": [
              "\n",
              "  <div id=\"df-2c634f18-6fbe-4a44-9f8c-751bc7bafd14\">\n",
              "    <div class=\"colab-df-container\">\n",
              "      <div>\n",
              "<style scoped>\n",
              "    .dataframe tbody tr th:only-of-type {\n",
              "        vertical-align: middle;\n",
              "    }\n",
              "\n",
              "    .dataframe tbody tr th {\n",
              "        vertical-align: top;\n",
              "    }\n",
              "\n",
              "    .dataframe thead th {\n",
              "        text-align: right;\n",
              "    }\n",
              "</style>\n",
              "<table border=\"1\" class=\"dataframe\">\n",
              "  <thead>\n",
              "    <tr style=\"text-align: right;\">\n",
              "      <th></th>\n",
              "      <th>Reviewer name</th>\n",
              "      <th>title</th>\n",
              "      <th>Review body</th>\n",
              "      <th>Review rating</th>\n",
              "      <th>sentiment</th>\n",
              "    </tr>\n",
              "  </thead>\n",
              "  <tbody>\n",
              "    <tr>\n",
              "      <th>0</th>\n",
              "      <td>Genuine buyer</td>\n",
              "      <td>Pros and cons</td>\n",
              "      <td>Great quality and the sound is actually great....</td>\n",
              "      <td>5.0 out of 5 stars</td>\n",
              "      <td>positive</td>\n",
              "    </tr>\n",
              "    <tr>\n",
              "      <th>1</th>\n",
              "      <td>CHETAN SHETTER</td>\n",
              "      <td>Never Expected in this price range... I Assure...</td>\n",
              "      <td>I've been using this from past 6 months. This ...</td>\n",
              "      <td>5.0 out of 5 stars</td>\n",
              "      <td>positive</td>\n",
              "    </tr>\n",
              "    <tr>\n",
              "      <th>2</th>\n",
              "      <td>Kiran Kumar M</td>\n",
              "      <td>Bass bastler, Awesome HD quality sound, rockin...</td>\n",
              "      <td>Perfect bass and nice one. Superb sound and it...</td>\n",
              "      <td>5.0 out of 5 stars</td>\n",
              "      <td>positive</td>\n",
              "    </tr>\n",
              "    <tr>\n",
              "      <th>3</th>\n",
              "      <td>Raj Patel</td>\n",
              "      <td>Maybe buy boat basshead 100</td>\n",
              "      <td>Here is the review after 1 week of usePros:1.B...</td>\n",
              "      <td>4.0 out of 5 stars</td>\n",
              "      <td>positive</td>\n",
              "    </tr>\n",
              "    <tr>\n",
              "      <th>4</th>\n",
              "      <td>SANJAY KUMAR TIWARI</td>\n",
              "      <td>Superb head stereo better than leading brands.</td>\n",
              "      <td>Purchased after seeing review with suspicion t...</td>\n",
              "      <td>5.0 out of 5 stars</td>\n",
              "      <td>positive</td>\n",
              "    </tr>\n",
              "  </tbody>\n",
              "</table>\n",
              "</div>\n",
              "      <button class=\"colab-df-convert\" onclick=\"convertToInteractive('df-2c634f18-6fbe-4a44-9f8c-751bc7bafd14')\"\n",
              "              title=\"Convert this dataframe to an interactive table.\"\n",
              "              style=\"display:none;\">\n",
              "        \n",
              "  <svg xmlns=\"http://www.w3.org/2000/svg\" height=\"24px\"viewBox=\"0 0 24 24\"\n",
              "       width=\"24px\">\n",
              "    <path d=\"M0 0h24v24H0V0z\" fill=\"none\"/>\n",
              "    <path d=\"M18.56 5.44l.94 2.06.94-2.06 2.06-.94-2.06-.94-.94-2.06-.94 2.06-2.06.94zm-11 1L8.5 8.5l.94-2.06 2.06-.94-2.06-.94L8.5 2.5l-.94 2.06-2.06.94zm10 10l.94 2.06.94-2.06 2.06-.94-2.06-.94-.94-2.06-.94 2.06-2.06.94z\"/><path d=\"M17.41 7.96l-1.37-1.37c-.4-.4-.92-.59-1.43-.59-.52 0-1.04.2-1.43.59L10.3 9.45l-7.72 7.72c-.78.78-.78 2.05 0 2.83L4 21.41c.39.39.9.59 1.41.59.51 0 1.02-.2 1.41-.59l7.78-7.78 2.81-2.81c.8-.78.8-2.07 0-2.86zM5.41 20L4 18.59l7.72-7.72 1.47 1.35L5.41 20z\"/>\n",
              "  </svg>\n",
              "      </button>\n",
              "      \n",
              "  <style>\n",
              "    .colab-df-container {\n",
              "      display:flex;\n",
              "      flex-wrap:wrap;\n",
              "      gap: 12px;\n",
              "    }\n",
              "\n",
              "    .colab-df-convert {\n",
              "      background-color: #E8F0FE;\n",
              "      border: none;\n",
              "      border-radius: 50%;\n",
              "      cursor: pointer;\n",
              "      display: none;\n",
              "      fill: #1967D2;\n",
              "      height: 32px;\n",
              "      padding: 0 0 0 0;\n",
              "      width: 32px;\n",
              "    }\n",
              "\n",
              "    .colab-df-convert:hover {\n",
              "      background-color: #E2EBFA;\n",
              "      box-shadow: 0px 1px 2px rgba(60, 64, 67, 0.3), 0px 1px 3px 1px rgba(60, 64, 67, 0.15);\n",
              "      fill: #174EA6;\n",
              "    }\n",
              "\n",
              "    [theme=dark] .colab-df-convert {\n",
              "      background-color: #3B4455;\n",
              "      fill: #D2E3FC;\n",
              "    }\n",
              "\n",
              "    [theme=dark] .colab-df-convert:hover {\n",
              "      background-color: #434B5C;\n",
              "      box-shadow: 0px 1px 3px 1px rgba(0, 0, 0, 0.15);\n",
              "      filter: drop-shadow(0px 1px 2px rgba(0, 0, 0, 0.3));\n",
              "      fill: #FFFFFF;\n",
              "    }\n",
              "  </style>\n",
              "\n",
              "      <script>\n",
              "        const buttonEl =\n",
              "          document.querySelector('#df-2c634f18-6fbe-4a44-9f8c-751bc7bafd14 button.colab-df-convert');\n",
              "        buttonEl.style.display =\n",
              "          google.colab.kernel.accessAllowed ? 'block' : 'none';\n",
              "\n",
              "        async function convertToInteractive(key) {\n",
              "          const element = document.querySelector('#df-2c634f18-6fbe-4a44-9f8c-751bc7bafd14');\n",
              "          const dataTable =\n",
              "            await google.colab.kernel.invokeFunction('convertToInteractive',\n",
              "                                                     [key], {});\n",
              "          if (!dataTable) return;\n",
              "\n",
              "          const docLinkHtml = 'Like what you see? Visit the ' +\n",
              "            '<a target=\"_blank\" href=https://colab.research.google.com/notebooks/data_table.ipynb>data table notebook</a>'\n",
              "            + ' to learn more about interactive tables.';\n",
              "          element.innerHTML = '';\n",
              "          dataTable['output_type'] = 'display_data';\n",
              "          await google.colab.output.renderOutput(dataTable, element);\n",
              "          const docLink = document.createElement('div');\n",
              "          docLink.innerHTML = docLinkHtml;\n",
              "          element.appendChild(docLink);\n",
              "        }\n",
              "      </script>\n",
              "    </div>\n",
              "  </div>\n",
              "  "
            ]
          },
          "metadata": {},
          "execution_count": 8
        }
      ],
      "source": [
        "df2.head()"
      ]
    },
    {
      "cell_type": "code",
      "execution_count": 9,
      "metadata": {
        "colab": {
          "base_uri": "https://localhost:8080/"
        },
        "id": "Ej9mirF9Yunj",
        "outputId": "098717dc-1ebd-4ec3-8244-3dc10e89735b"
      },
      "outputs": [
        {
          "output_type": "stream",
          "name": "stdout",
          "text": [
            "<class 'pandas.core.frame.DataFrame'>\n",
            "RangeIndex: 449779 entries, 0 to 449778\n",
            "Data columns (total 5 columns):\n",
            " #   Column         Non-Null Count   Dtype \n",
            "---  ------         --------------   ----- \n",
            " 0   Reviewer name  449774 non-null  object\n",
            " 1   title          449723 non-null  object\n",
            " 2   Review body    449715 non-null  object\n",
            " 3   Review rating  411744 non-null  object\n",
            " 4   sentiment      449779 non-null  object\n",
            "dtypes: object(5)\n",
            "memory usage: 17.2+ MB\n"
          ]
        }
      ],
      "source": [
        "df2.info()"
      ]
    },
    {
      "cell_type": "code",
      "execution_count": 10,
      "metadata": {
        "colab": {
          "base_uri": "https://localhost:8080/",
          "height": 174
        },
        "id": "aWnsh8SmZNaz",
        "outputId": "eb6fd07b-054e-4d2a-b012-a99bc841d65f"
      },
      "outputs": [
        {
          "output_type": "execute_result",
          "data": {
            "text/plain": [
              "          Reviewer name   title Review body       Review rating sentiment\n",
              "count            449774  449723      449715              411744    449779\n",
              "unique           232431  189791      309670                   5         2\n",
              "top     Amazon Customer    Good        Good  5.0 out of 5 stars  positive\n",
              "freq              31234   21917       13919              240739    383122"
            ],
            "text/html": [
              "\n",
              "  <div id=\"df-84c9dfe2-ec91-4100-9648-937fef9e8f22\">\n",
              "    <div class=\"colab-df-container\">\n",
              "      <div>\n",
              "<style scoped>\n",
              "    .dataframe tbody tr th:only-of-type {\n",
              "        vertical-align: middle;\n",
              "    }\n",
              "\n",
              "    .dataframe tbody tr th {\n",
              "        vertical-align: top;\n",
              "    }\n",
              "\n",
              "    .dataframe thead th {\n",
              "        text-align: right;\n",
              "    }\n",
              "</style>\n",
              "<table border=\"1\" class=\"dataframe\">\n",
              "  <thead>\n",
              "    <tr style=\"text-align: right;\">\n",
              "      <th></th>\n",
              "      <th>Reviewer name</th>\n",
              "      <th>title</th>\n",
              "      <th>Review body</th>\n",
              "      <th>Review rating</th>\n",
              "      <th>sentiment</th>\n",
              "    </tr>\n",
              "  </thead>\n",
              "  <tbody>\n",
              "    <tr>\n",
              "      <th>count</th>\n",
              "      <td>449774</td>\n",
              "      <td>449723</td>\n",
              "      <td>449715</td>\n",
              "      <td>411744</td>\n",
              "      <td>449779</td>\n",
              "    </tr>\n",
              "    <tr>\n",
              "      <th>unique</th>\n",
              "      <td>232431</td>\n",
              "      <td>189791</td>\n",
              "      <td>309670</td>\n",
              "      <td>5</td>\n",
              "      <td>2</td>\n",
              "    </tr>\n",
              "    <tr>\n",
              "      <th>top</th>\n",
              "      <td>Amazon Customer</td>\n",
              "      <td>Good</td>\n",
              "      <td>Good</td>\n",
              "      <td>5.0 out of 5 stars</td>\n",
              "      <td>positive</td>\n",
              "    </tr>\n",
              "    <tr>\n",
              "      <th>freq</th>\n",
              "      <td>31234</td>\n",
              "      <td>21917</td>\n",
              "      <td>13919</td>\n",
              "      <td>240739</td>\n",
              "      <td>383122</td>\n",
              "    </tr>\n",
              "  </tbody>\n",
              "</table>\n",
              "</div>\n",
              "      <button class=\"colab-df-convert\" onclick=\"convertToInteractive('df-84c9dfe2-ec91-4100-9648-937fef9e8f22')\"\n",
              "              title=\"Convert this dataframe to an interactive table.\"\n",
              "              style=\"display:none;\">\n",
              "        \n",
              "  <svg xmlns=\"http://www.w3.org/2000/svg\" height=\"24px\"viewBox=\"0 0 24 24\"\n",
              "       width=\"24px\">\n",
              "    <path d=\"M0 0h24v24H0V0z\" fill=\"none\"/>\n",
              "    <path d=\"M18.56 5.44l.94 2.06.94-2.06 2.06-.94-2.06-.94-.94-2.06-.94 2.06-2.06.94zm-11 1L8.5 8.5l.94-2.06 2.06-.94-2.06-.94L8.5 2.5l-.94 2.06-2.06.94zm10 10l.94 2.06.94-2.06 2.06-.94-2.06-.94-.94-2.06-.94 2.06-2.06.94z\"/><path d=\"M17.41 7.96l-1.37-1.37c-.4-.4-.92-.59-1.43-.59-.52 0-1.04.2-1.43.59L10.3 9.45l-7.72 7.72c-.78.78-.78 2.05 0 2.83L4 21.41c.39.39.9.59 1.41.59.51 0 1.02-.2 1.41-.59l7.78-7.78 2.81-2.81c.8-.78.8-2.07 0-2.86zM5.41 20L4 18.59l7.72-7.72 1.47 1.35L5.41 20z\"/>\n",
              "  </svg>\n",
              "      </button>\n",
              "      \n",
              "  <style>\n",
              "    .colab-df-container {\n",
              "      display:flex;\n",
              "      flex-wrap:wrap;\n",
              "      gap: 12px;\n",
              "    }\n",
              "\n",
              "    .colab-df-convert {\n",
              "      background-color: #E8F0FE;\n",
              "      border: none;\n",
              "      border-radius: 50%;\n",
              "      cursor: pointer;\n",
              "      display: none;\n",
              "      fill: #1967D2;\n",
              "      height: 32px;\n",
              "      padding: 0 0 0 0;\n",
              "      width: 32px;\n",
              "    }\n",
              "\n",
              "    .colab-df-convert:hover {\n",
              "      background-color: #E2EBFA;\n",
              "      box-shadow: 0px 1px 2px rgba(60, 64, 67, 0.3), 0px 1px 3px 1px rgba(60, 64, 67, 0.15);\n",
              "      fill: #174EA6;\n",
              "    }\n",
              "\n",
              "    [theme=dark] .colab-df-convert {\n",
              "      background-color: #3B4455;\n",
              "      fill: #D2E3FC;\n",
              "    }\n",
              "\n",
              "    [theme=dark] .colab-df-convert:hover {\n",
              "      background-color: #434B5C;\n",
              "      box-shadow: 0px 1px 3px 1px rgba(0, 0, 0, 0.15);\n",
              "      filter: drop-shadow(0px 1px 2px rgba(0, 0, 0, 0.3));\n",
              "      fill: #FFFFFF;\n",
              "    }\n",
              "  </style>\n",
              "\n",
              "      <script>\n",
              "        const buttonEl =\n",
              "          document.querySelector('#df-84c9dfe2-ec91-4100-9648-937fef9e8f22 button.colab-df-convert');\n",
              "        buttonEl.style.display =\n",
              "          google.colab.kernel.accessAllowed ? 'block' : 'none';\n",
              "\n",
              "        async function convertToInteractive(key) {\n",
              "          const element = document.querySelector('#df-84c9dfe2-ec91-4100-9648-937fef9e8f22');\n",
              "          const dataTable =\n",
              "            await google.colab.kernel.invokeFunction('convertToInteractive',\n",
              "                                                     [key], {});\n",
              "          if (!dataTable) return;\n",
              "\n",
              "          const docLinkHtml = 'Like what you see? Visit the ' +\n",
              "            '<a target=\"_blank\" href=https://colab.research.google.com/notebooks/data_table.ipynb>data table notebook</a>'\n",
              "            + ' to learn more about interactive tables.';\n",
              "          element.innerHTML = '';\n",
              "          dataTable['output_type'] = 'display_data';\n",
              "          await google.colab.output.renderOutput(dataTable, element);\n",
              "          const docLink = document.createElement('div');\n",
              "          docLink.innerHTML = docLinkHtml;\n",
              "          element.appendChild(docLink);\n",
              "        }\n",
              "      </script>\n",
              "    </div>\n",
              "  </div>\n",
              "  "
            ]
          },
          "metadata": {},
          "execution_count": 10
        }
      ],
      "source": [
        "df2.describe()"
      ]
    },
    {
      "cell_type": "code",
      "execution_count": 11,
      "metadata": {
        "colab": {
          "base_uri": "https://localhost:8080/"
        },
        "id": "Qr5nLTnZX0m8",
        "outputId": "4832c652-135a-4808-baba-2dd43577f63f"
      },
      "outputs": [
        {
          "output_type": "execute_result",
          "data": {
            "text/plain": [
              "positive    0.851801\n",
              "negative    0.148199\n",
              "Name: sentiment, dtype: float64"
            ]
          },
          "metadata": {},
          "execution_count": 11
        }
      ],
      "source": [
        "sentiment_prop = df2[\"sentiment\"].value_counts()/len(df2)\n",
        "sentiment_prop"
      ]
    },
    {
      "cell_type": "code",
      "execution_count": 12,
      "metadata": {
        "colab": {
          "base_uri": "https://localhost:8080/"
        },
        "id": "o2Nb9DZIQCfB",
        "outputId": "12a52f2b-71ac-48df-bc2d-80d9fbfa5462"
      },
      "outputs": [
        {
          "output_type": "execute_result",
          "data": {
            "text/plain": [
              "positive    383122\n",
              "negative     66657\n",
              "Name: sentiment, dtype: int64"
            ]
          },
          "metadata": {},
          "execution_count": 12
        }
      ],
      "source": [
        "df2[\"sentiment\"].value_counts()"
      ]
    },
    {
      "cell_type": "code",
      "execution_count": 13,
      "metadata": {
        "colab": {
          "base_uri": "https://localhost:8080/"
        },
        "id": "TpD-AeOoQjw8",
        "outputId": "861b173c-2177-45c9-9b7a-a408393d4574"
      },
      "outputs": [
        {
          "output_type": "stream",
          "name": "stdout",
          "text": [
            "0\n",
            "64\n"
          ]
        }
      ],
      "source": [
        "print(df2['sentiment'].isna().sum())\n",
        "print(df2['Review body'].isna().sum())\n",
        "\n"
      ]
    },
    {
      "cell_type": "code",
      "execution_count": 14,
      "metadata": {
        "colab": {
          "base_uri": "https://localhost:8080/"
        },
        "id": "vod08TqtUSY7",
        "outputId": "d229aa1a-921a-4a7b-d4ec-91a103f7c005"
      },
      "outputs": [
        {
          "output_type": "execute_result",
          "data": {
            "text/plain": [
              "0"
            ]
          },
          "metadata": {},
          "execution_count": 14
        }
      ],
      "source": [
        "#Dealing with missing values\n",
        "df2.drop(df2[df2['Review body'].isna()].index, inplace=True)\n",
        "df2['Review body'].isna().sum()"
      ]
    },
    {
      "cell_type": "code",
      "execution_count": 15,
      "metadata": {
        "colab": {
          "base_uri": "https://localhost:8080/",
          "height": 206
        },
        "id": "LQk3Z-kQTtdF",
        "outputId": "5f2f92bd-9bdd-436d-82fa-502b1afbb0e4"
      },
      "outputs": [
        {
          "output_type": "execute_result",
          "data": {
            "text/plain": [
              "   index        Reviewer name  \\\n",
              "0      0        Genuine buyer   \n",
              "1      1       CHETAN SHETTER   \n",
              "2      2        Kiran Kumar M   \n",
              "3      3            Raj Patel   \n",
              "4      4  SANJAY KUMAR TIWARI   \n",
              "\n",
              "                                               title  \\\n",
              "0                                      Pros and cons   \n",
              "1  Never Expected in this price range... I Assure...   \n",
              "2  Bass bastler, Awesome HD quality sound, rockin...   \n",
              "3                        Maybe buy boat basshead 100   \n",
              "4     Superb head stereo better than leading brands.   \n",
              "\n",
              "                                         Review body       Review rating  \\\n",
              "0  Great quality and the sound is actually great....  5.0 out of 5 stars   \n",
              "1  I've been using this from past 6 months. This ...  5.0 out of 5 stars   \n",
              "2  Perfect bass and nice one. Superb sound and it...  5.0 out of 5 stars   \n",
              "3  Here is the review after 1 week of usePros:1.B...  4.0 out of 5 stars   \n",
              "4  Purchased after seeing review with suspicion t...  5.0 out of 5 stars   \n",
              "\n",
              "  sentiment  \n",
              "0  positive  \n",
              "1  positive  \n",
              "2  positive  \n",
              "3  positive  \n",
              "4  positive  "
            ],
            "text/html": [
              "\n",
              "  <div id=\"df-9a62d416-655a-4838-a1ad-a5f0f3ca10c2\">\n",
              "    <div class=\"colab-df-container\">\n",
              "      <div>\n",
              "<style scoped>\n",
              "    .dataframe tbody tr th:only-of-type {\n",
              "        vertical-align: middle;\n",
              "    }\n",
              "\n",
              "    .dataframe tbody tr th {\n",
              "        vertical-align: top;\n",
              "    }\n",
              "\n",
              "    .dataframe thead th {\n",
              "        text-align: right;\n",
              "    }\n",
              "</style>\n",
              "<table border=\"1\" class=\"dataframe\">\n",
              "  <thead>\n",
              "    <tr style=\"text-align: right;\">\n",
              "      <th></th>\n",
              "      <th>index</th>\n",
              "      <th>Reviewer name</th>\n",
              "      <th>title</th>\n",
              "      <th>Review body</th>\n",
              "      <th>Review rating</th>\n",
              "      <th>sentiment</th>\n",
              "    </tr>\n",
              "  </thead>\n",
              "  <tbody>\n",
              "    <tr>\n",
              "      <th>0</th>\n",
              "      <td>0</td>\n",
              "      <td>Genuine buyer</td>\n",
              "      <td>Pros and cons</td>\n",
              "      <td>Great quality and the sound is actually great....</td>\n",
              "      <td>5.0 out of 5 stars</td>\n",
              "      <td>positive</td>\n",
              "    </tr>\n",
              "    <tr>\n",
              "      <th>1</th>\n",
              "      <td>1</td>\n",
              "      <td>CHETAN SHETTER</td>\n",
              "      <td>Never Expected in this price range... I Assure...</td>\n",
              "      <td>I've been using this from past 6 months. This ...</td>\n",
              "      <td>5.0 out of 5 stars</td>\n",
              "      <td>positive</td>\n",
              "    </tr>\n",
              "    <tr>\n",
              "      <th>2</th>\n",
              "      <td>2</td>\n",
              "      <td>Kiran Kumar M</td>\n",
              "      <td>Bass bastler, Awesome HD quality sound, rockin...</td>\n",
              "      <td>Perfect bass and nice one. Superb sound and it...</td>\n",
              "      <td>5.0 out of 5 stars</td>\n",
              "      <td>positive</td>\n",
              "    </tr>\n",
              "    <tr>\n",
              "      <th>3</th>\n",
              "      <td>3</td>\n",
              "      <td>Raj Patel</td>\n",
              "      <td>Maybe buy boat basshead 100</td>\n",
              "      <td>Here is the review after 1 week of usePros:1.B...</td>\n",
              "      <td>4.0 out of 5 stars</td>\n",
              "      <td>positive</td>\n",
              "    </tr>\n",
              "    <tr>\n",
              "      <th>4</th>\n",
              "      <td>4</td>\n",
              "      <td>SANJAY KUMAR TIWARI</td>\n",
              "      <td>Superb head stereo better than leading brands.</td>\n",
              "      <td>Purchased after seeing review with suspicion t...</td>\n",
              "      <td>5.0 out of 5 stars</td>\n",
              "      <td>positive</td>\n",
              "    </tr>\n",
              "  </tbody>\n",
              "</table>\n",
              "</div>\n",
              "      <button class=\"colab-df-convert\" onclick=\"convertToInteractive('df-9a62d416-655a-4838-a1ad-a5f0f3ca10c2')\"\n",
              "              title=\"Convert this dataframe to an interactive table.\"\n",
              "              style=\"display:none;\">\n",
              "        \n",
              "  <svg xmlns=\"http://www.w3.org/2000/svg\" height=\"24px\"viewBox=\"0 0 24 24\"\n",
              "       width=\"24px\">\n",
              "    <path d=\"M0 0h24v24H0V0z\" fill=\"none\"/>\n",
              "    <path d=\"M18.56 5.44l.94 2.06.94-2.06 2.06-.94-2.06-.94-.94-2.06-.94 2.06-2.06.94zm-11 1L8.5 8.5l.94-2.06 2.06-.94-2.06-.94L8.5 2.5l-.94 2.06-2.06.94zm10 10l.94 2.06.94-2.06 2.06-.94-2.06-.94-.94-2.06-.94 2.06-2.06.94z\"/><path d=\"M17.41 7.96l-1.37-1.37c-.4-.4-.92-.59-1.43-.59-.52 0-1.04.2-1.43.59L10.3 9.45l-7.72 7.72c-.78.78-.78 2.05 0 2.83L4 21.41c.39.39.9.59 1.41.59.51 0 1.02-.2 1.41-.59l7.78-7.78 2.81-2.81c.8-.78.8-2.07 0-2.86zM5.41 20L4 18.59l7.72-7.72 1.47 1.35L5.41 20z\"/>\n",
              "  </svg>\n",
              "      </button>\n",
              "      \n",
              "  <style>\n",
              "    .colab-df-container {\n",
              "      display:flex;\n",
              "      flex-wrap:wrap;\n",
              "      gap: 12px;\n",
              "    }\n",
              "\n",
              "    .colab-df-convert {\n",
              "      background-color: #E8F0FE;\n",
              "      border: none;\n",
              "      border-radius: 50%;\n",
              "      cursor: pointer;\n",
              "      display: none;\n",
              "      fill: #1967D2;\n",
              "      height: 32px;\n",
              "      padding: 0 0 0 0;\n",
              "      width: 32px;\n",
              "    }\n",
              "\n",
              "    .colab-df-convert:hover {\n",
              "      background-color: #E2EBFA;\n",
              "      box-shadow: 0px 1px 2px rgba(60, 64, 67, 0.3), 0px 1px 3px 1px rgba(60, 64, 67, 0.15);\n",
              "      fill: #174EA6;\n",
              "    }\n",
              "\n",
              "    [theme=dark] .colab-df-convert {\n",
              "      background-color: #3B4455;\n",
              "      fill: #D2E3FC;\n",
              "    }\n",
              "\n",
              "    [theme=dark] .colab-df-convert:hover {\n",
              "      background-color: #434B5C;\n",
              "      box-shadow: 0px 1px 3px 1px rgba(0, 0, 0, 0.15);\n",
              "      filter: drop-shadow(0px 1px 2px rgba(0, 0, 0, 0.3));\n",
              "      fill: #FFFFFF;\n",
              "    }\n",
              "  </style>\n",
              "\n",
              "      <script>\n",
              "        const buttonEl =\n",
              "          document.querySelector('#df-9a62d416-655a-4838-a1ad-a5f0f3ca10c2 button.colab-df-convert');\n",
              "        buttonEl.style.display =\n",
              "          google.colab.kernel.accessAllowed ? 'block' : 'none';\n",
              "\n",
              "        async function convertToInteractive(key) {\n",
              "          const element = document.querySelector('#df-9a62d416-655a-4838-a1ad-a5f0f3ca10c2');\n",
              "          const dataTable =\n",
              "            await google.colab.kernel.invokeFunction('convertToInteractive',\n",
              "                                                     [key], {});\n",
              "          if (!dataTable) return;\n",
              "\n",
              "          const docLinkHtml = 'Like what you see? Visit the ' +\n",
              "            '<a target=\"_blank\" href=https://colab.research.google.com/notebooks/data_table.ipynb>data table notebook</a>'\n",
              "            + ' to learn more about interactive tables.';\n",
              "          element.innerHTML = '';\n",
              "          dataTable['output_type'] = 'display_data';\n",
              "          await google.colab.output.renderOutput(dataTable, element);\n",
              "          const docLink = document.createElement('div');\n",
              "          docLink.innerHTML = docLinkHtml;\n",
              "          element.appendChild(docLink);\n",
              "        }\n",
              "      </script>\n",
              "    </div>\n",
              "  </div>\n",
              "  "
            ]
          },
          "metadata": {},
          "execution_count": 15
        }
      ],
      "source": [
        "df3 = df2.reset_index()\n",
        "df3.head()"
      ]
    },
    {
      "cell_type": "code",
      "execution_count": 16,
      "metadata": {
        "colab": {
          "base_uri": "https://localhost:8080/",
          "height": 423
        },
        "id": "VRtzwUrbgkxU",
        "outputId": "35725b13-1778-43b2-af38-e578ce3dffe1"
      },
      "outputs": [
        {
          "output_type": "execute_result",
          "data": {
            "text/plain": [
              "         index        reviewer_name  \\\n",
              "0            0        Genuine buyer   \n",
              "1            1       CHETAN SHETTER   \n",
              "2            2        Kiran Kumar M   \n",
              "3            3            Raj Patel   \n",
              "4            4  SANJAY KUMAR TIWARI   \n",
              "...        ...                  ...   \n",
              "449710  449774             Dipchand   \n",
              "449711  449775      Amazon Customer   \n",
              "449712  449776        MAYANK MISHRA   \n",
              "449713  449777                  Zan   \n",
              "449714  449778              SK Raju   \n",
              "\n",
              "                                                    title  \\\n",
              "0                                           Pros and cons   \n",
              "1       Never Expected in this price range... I Assure...   \n",
              "2       Bass bastler, Awesome HD quality sound, rockin...   \n",
              "3                             Maybe buy boat basshead 100   \n",
              "4          Superb head stereo better than leading brands.   \n",
              "...                                                   ...   \n",
              "449710                                           Not good   \n",
              "449711                                   Need replacement   \n",
              "449712                     Stopped working after 1 month.   \n",
              "449713                                     Cheap Quality.   \n",
              "449714                       First few days only it works   \n",
              "\n",
              "                                              review_body       review_rating  \\\n",
              "0       Great quality and the sound is actually great....  5.0 out of 5 stars   \n",
              "1       I've been using this from past 6 months. This ...  5.0 out of 5 stars   \n",
              "2       Perfect bass and nice one. Superb sound and it...  5.0 out of 5 stars   \n",
              "3       Here is the review after 1 week of usePros:1.B...  4.0 out of 5 stars   \n",
              "4       Purchased after seeing review with suspicion t...  5.0 out of 5 stars   \n",
              "...                                                   ...                 ...   \n",
              "449710  One side head phone is not working within 10 d...  1.0 out of 5 stars   \n",
              "449711  Quality is good. And there is some damage near...  1.0 out of 5 stars   \n",
              "449712  Your browser does not support HTML5 video.  Af...  3.0 out of 5 stars   \n",
              "449713  This product is of very cheap quality. Wouldn'...  1.0 out of 5 stars   \n",
              "449714  Bad luck to buy, within month went bad does no...  2.0 out of 5 stars   \n",
              "\n",
              "       sentiment  \n",
              "0       positive  \n",
              "1       positive  \n",
              "2       positive  \n",
              "3       positive  \n",
              "4       positive  \n",
              "...          ...  \n",
              "449710  negative  \n",
              "449711  negative  \n",
              "449712  negative  \n",
              "449713  negative  \n",
              "449714  negative  \n",
              "\n",
              "[449715 rows x 6 columns]"
            ],
            "text/html": [
              "\n",
              "  <div id=\"df-be0d56c9-2e13-41df-b1c2-be5b3040e0b8\">\n",
              "    <div class=\"colab-df-container\">\n",
              "      <div>\n",
              "<style scoped>\n",
              "    .dataframe tbody tr th:only-of-type {\n",
              "        vertical-align: middle;\n",
              "    }\n",
              "\n",
              "    .dataframe tbody tr th {\n",
              "        vertical-align: top;\n",
              "    }\n",
              "\n",
              "    .dataframe thead th {\n",
              "        text-align: right;\n",
              "    }\n",
              "</style>\n",
              "<table border=\"1\" class=\"dataframe\">\n",
              "  <thead>\n",
              "    <tr style=\"text-align: right;\">\n",
              "      <th></th>\n",
              "      <th>index</th>\n",
              "      <th>reviewer_name</th>\n",
              "      <th>title</th>\n",
              "      <th>review_body</th>\n",
              "      <th>review_rating</th>\n",
              "      <th>sentiment</th>\n",
              "    </tr>\n",
              "  </thead>\n",
              "  <tbody>\n",
              "    <tr>\n",
              "      <th>0</th>\n",
              "      <td>0</td>\n",
              "      <td>Genuine buyer</td>\n",
              "      <td>Pros and cons</td>\n",
              "      <td>Great quality and the sound is actually great....</td>\n",
              "      <td>5.0 out of 5 stars</td>\n",
              "      <td>positive</td>\n",
              "    </tr>\n",
              "    <tr>\n",
              "      <th>1</th>\n",
              "      <td>1</td>\n",
              "      <td>CHETAN SHETTER</td>\n",
              "      <td>Never Expected in this price range... I Assure...</td>\n",
              "      <td>I've been using this from past 6 months. This ...</td>\n",
              "      <td>5.0 out of 5 stars</td>\n",
              "      <td>positive</td>\n",
              "    </tr>\n",
              "    <tr>\n",
              "      <th>2</th>\n",
              "      <td>2</td>\n",
              "      <td>Kiran Kumar M</td>\n",
              "      <td>Bass bastler, Awesome HD quality sound, rockin...</td>\n",
              "      <td>Perfect bass and nice one. Superb sound and it...</td>\n",
              "      <td>5.0 out of 5 stars</td>\n",
              "      <td>positive</td>\n",
              "    </tr>\n",
              "    <tr>\n",
              "      <th>3</th>\n",
              "      <td>3</td>\n",
              "      <td>Raj Patel</td>\n",
              "      <td>Maybe buy boat basshead 100</td>\n",
              "      <td>Here is the review after 1 week of usePros:1.B...</td>\n",
              "      <td>4.0 out of 5 stars</td>\n",
              "      <td>positive</td>\n",
              "    </tr>\n",
              "    <tr>\n",
              "      <th>4</th>\n",
              "      <td>4</td>\n",
              "      <td>SANJAY KUMAR TIWARI</td>\n",
              "      <td>Superb head stereo better than leading brands.</td>\n",
              "      <td>Purchased after seeing review with suspicion t...</td>\n",
              "      <td>5.0 out of 5 stars</td>\n",
              "      <td>positive</td>\n",
              "    </tr>\n",
              "    <tr>\n",
              "      <th>...</th>\n",
              "      <td>...</td>\n",
              "      <td>...</td>\n",
              "      <td>...</td>\n",
              "      <td>...</td>\n",
              "      <td>...</td>\n",
              "      <td>...</td>\n",
              "    </tr>\n",
              "    <tr>\n",
              "      <th>449710</th>\n",
              "      <td>449774</td>\n",
              "      <td>Dipchand</td>\n",
              "      <td>Not good</td>\n",
              "      <td>One side head phone is not working within 10 d...</td>\n",
              "      <td>1.0 out of 5 stars</td>\n",
              "      <td>negative</td>\n",
              "    </tr>\n",
              "    <tr>\n",
              "      <th>449711</th>\n",
              "      <td>449775</td>\n",
              "      <td>Amazon Customer</td>\n",
              "      <td>Need replacement</td>\n",
              "      <td>Quality is good. And there is some damage near...</td>\n",
              "      <td>1.0 out of 5 stars</td>\n",
              "      <td>negative</td>\n",
              "    </tr>\n",
              "    <tr>\n",
              "      <th>449712</th>\n",
              "      <td>449776</td>\n",
              "      <td>MAYANK MISHRA</td>\n",
              "      <td>Stopped working after 1 month.</td>\n",
              "      <td>Your browser does not support HTML5 video.  Af...</td>\n",
              "      <td>3.0 out of 5 stars</td>\n",
              "      <td>negative</td>\n",
              "    </tr>\n",
              "    <tr>\n",
              "      <th>449713</th>\n",
              "      <td>449777</td>\n",
              "      <td>Zan</td>\n",
              "      <td>Cheap Quality.</td>\n",
              "      <td>This product is of very cheap quality. Wouldn'...</td>\n",
              "      <td>1.0 out of 5 stars</td>\n",
              "      <td>negative</td>\n",
              "    </tr>\n",
              "    <tr>\n",
              "      <th>449714</th>\n",
              "      <td>449778</td>\n",
              "      <td>SK Raju</td>\n",
              "      <td>First few days only it works</td>\n",
              "      <td>Bad luck to buy, within month went bad does no...</td>\n",
              "      <td>2.0 out of 5 stars</td>\n",
              "      <td>negative</td>\n",
              "    </tr>\n",
              "  </tbody>\n",
              "</table>\n",
              "<p>449715 rows × 6 columns</p>\n",
              "</div>\n",
              "      <button class=\"colab-df-convert\" onclick=\"convertToInteractive('df-be0d56c9-2e13-41df-b1c2-be5b3040e0b8')\"\n",
              "              title=\"Convert this dataframe to an interactive table.\"\n",
              "              style=\"display:none;\">\n",
              "        \n",
              "  <svg xmlns=\"http://www.w3.org/2000/svg\" height=\"24px\"viewBox=\"0 0 24 24\"\n",
              "       width=\"24px\">\n",
              "    <path d=\"M0 0h24v24H0V0z\" fill=\"none\"/>\n",
              "    <path d=\"M18.56 5.44l.94 2.06.94-2.06 2.06-.94-2.06-.94-.94-2.06-.94 2.06-2.06.94zm-11 1L8.5 8.5l.94-2.06 2.06-.94-2.06-.94L8.5 2.5l-.94 2.06-2.06.94zm10 10l.94 2.06.94-2.06 2.06-.94-2.06-.94-.94-2.06-.94 2.06-2.06.94z\"/><path d=\"M17.41 7.96l-1.37-1.37c-.4-.4-.92-.59-1.43-.59-.52 0-1.04.2-1.43.59L10.3 9.45l-7.72 7.72c-.78.78-.78 2.05 0 2.83L4 21.41c.39.39.9.59 1.41.59.51 0 1.02-.2 1.41-.59l7.78-7.78 2.81-2.81c.8-.78.8-2.07 0-2.86zM5.41 20L4 18.59l7.72-7.72 1.47 1.35L5.41 20z\"/>\n",
              "  </svg>\n",
              "      </button>\n",
              "      \n",
              "  <style>\n",
              "    .colab-df-container {\n",
              "      display:flex;\n",
              "      flex-wrap:wrap;\n",
              "      gap: 12px;\n",
              "    }\n",
              "\n",
              "    .colab-df-convert {\n",
              "      background-color: #E8F0FE;\n",
              "      border: none;\n",
              "      border-radius: 50%;\n",
              "      cursor: pointer;\n",
              "      display: none;\n",
              "      fill: #1967D2;\n",
              "      height: 32px;\n",
              "      padding: 0 0 0 0;\n",
              "      width: 32px;\n",
              "    }\n",
              "\n",
              "    .colab-df-convert:hover {\n",
              "      background-color: #E2EBFA;\n",
              "      box-shadow: 0px 1px 2px rgba(60, 64, 67, 0.3), 0px 1px 3px 1px rgba(60, 64, 67, 0.15);\n",
              "      fill: #174EA6;\n",
              "    }\n",
              "\n",
              "    [theme=dark] .colab-df-convert {\n",
              "      background-color: #3B4455;\n",
              "      fill: #D2E3FC;\n",
              "    }\n",
              "\n",
              "    [theme=dark] .colab-df-convert:hover {\n",
              "      background-color: #434B5C;\n",
              "      box-shadow: 0px 1px 3px 1px rgba(0, 0, 0, 0.15);\n",
              "      filter: drop-shadow(0px 1px 2px rgba(0, 0, 0, 0.3));\n",
              "      fill: #FFFFFF;\n",
              "    }\n",
              "  </style>\n",
              "\n",
              "      <script>\n",
              "        const buttonEl =\n",
              "          document.querySelector('#df-be0d56c9-2e13-41df-b1c2-be5b3040e0b8 button.colab-df-convert');\n",
              "        buttonEl.style.display =\n",
              "          google.colab.kernel.accessAllowed ? 'block' : 'none';\n",
              "\n",
              "        async function convertToInteractive(key) {\n",
              "          const element = document.querySelector('#df-be0d56c9-2e13-41df-b1c2-be5b3040e0b8');\n",
              "          const dataTable =\n",
              "            await google.colab.kernel.invokeFunction('convertToInteractive',\n",
              "                                                     [key], {});\n",
              "          if (!dataTable) return;\n",
              "\n",
              "          const docLinkHtml = 'Like what you see? Visit the ' +\n",
              "            '<a target=\"_blank\" href=https://colab.research.google.com/notebooks/data_table.ipynb>data table notebook</a>'\n",
              "            + ' to learn more about interactive tables.';\n",
              "          element.innerHTML = '';\n",
              "          dataTable['output_type'] = 'display_data';\n",
              "          await google.colab.output.renderOutput(dataTable, element);\n",
              "          const docLink = document.createElement('div');\n",
              "          docLink.innerHTML = docLinkHtml;\n",
              "          element.appendChild(docLink);\n",
              "        }\n",
              "      </script>\n",
              "    </div>\n",
              "  </div>\n",
              "  "
            ]
          },
          "metadata": {},
          "execution_count": 16
        }
      ],
      "source": [
        "#Rename the Features.\n",
        "df3 = df3.rename(columns={'Review body': 'review_body','Reviewer name':'reviewer_name','Review rating':'review_rating'})\n",
        "df3"
      ]
    },
    {
      "cell_type": "code",
      "execution_count": 17,
      "metadata": {
        "colab": {
          "base_uri": "https://localhost:8080/",
          "height": 423
        },
        "id": "KUi_wwUB0Vg8",
        "outputId": "7640c0e8-90f4-4c84-cab5-48185b16f53e"
      },
      "outputs": [
        {
          "output_type": "execute_result",
          "data": {
            "text/plain": [
              "         index        reviewer_name  \\\n",
              "0            0        Genuine buyer   \n",
              "1            1       CHETAN SHETTER   \n",
              "2            2        Kiran Kumar M   \n",
              "3            3            Raj Patel   \n",
              "4            4  SANJAY KUMAR TIWARI   \n",
              "...        ...                  ...   \n",
              "449710  449774             Dipchand   \n",
              "449711  449775      Amazon Customer   \n",
              "449712  449776        MAYANK MISHRA   \n",
              "449713  449777                  Zan   \n",
              "449714  449778              SK Raju   \n",
              "\n",
              "                                                    title  \\\n",
              "0                                           Pros and cons   \n",
              "1       Never Expected in this price range... I Assure...   \n",
              "2       Bass bastler, Awesome HD quality sound, rockin...   \n",
              "3                             Maybe buy boat basshead 100   \n",
              "4          Superb head stereo better than leading brands.   \n",
              "...                                                   ...   \n",
              "449710                                           Not good   \n",
              "449711                                   Need replacement   \n",
              "449712                     Stopped working after 1 month.   \n",
              "449713                                     Cheap Quality.   \n",
              "449714                       First few days only it works   \n",
              "\n",
              "                                              review_body       review_rating  \\\n",
              "0       Great quality and the sound is actually great....  5.0 out of 5 stars   \n",
              "1       I've been using this from past 6 months. This ...  5.0 out of 5 stars   \n",
              "2       Perfect bass and nice one. Superb sound and it...  5.0 out of 5 stars   \n",
              "3       Here is the review after 1 week of usePros:1.B...  4.0 out of 5 stars   \n",
              "4       Purchased after seeing review with suspicion t...  5.0 out of 5 stars   \n",
              "...                                                   ...                 ...   \n",
              "449710  One side head phone is not working within 10 d...  1.0 out of 5 stars   \n",
              "449711  Quality is good. And there is some damage near...  1.0 out of 5 stars   \n",
              "449712  Your browser does not support HTML5 video.  Af...  3.0 out of 5 stars   \n",
              "449713  This product is of very cheap quality. Wouldn'...  1.0 out of 5 stars   \n",
              "449714  Bad luck to buy, within month went bad does no...  2.0 out of 5 stars   \n",
              "\n",
              "       sentiment  Negativo  \n",
              "0       positive         0  \n",
              "1       positive         0  \n",
              "2       positive         0  \n",
              "3       positive         0  \n",
              "4       positive         0  \n",
              "...          ...       ...  \n",
              "449710  negative         1  \n",
              "449711  negative         1  \n",
              "449712  negative         1  \n",
              "449713  negative         1  \n",
              "449714  negative         1  \n",
              "\n",
              "[449715 rows x 7 columns]"
            ],
            "text/html": [
              "\n",
              "  <div id=\"df-da5711f1-7c03-4542-831b-107a014bf640\">\n",
              "    <div class=\"colab-df-container\">\n",
              "      <div>\n",
              "<style scoped>\n",
              "    .dataframe tbody tr th:only-of-type {\n",
              "        vertical-align: middle;\n",
              "    }\n",
              "\n",
              "    .dataframe tbody tr th {\n",
              "        vertical-align: top;\n",
              "    }\n",
              "\n",
              "    .dataframe thead th {\n",
              "        text-align: right;\n",
              "    }\n",
              "</style>\n",
              "<table border=\"1\" class=\"dataframe\">\n",
              "  <thead>\n",
              "    <tr style=\"text-align: right;\">\n",
              "      <th></th>\n",
              "      <th>index</th>\n",
              "      <th>reviewer_name</th>\n",
              "      <th>title</th>\n",
              "      <th>review_body</th>\n",
              "      <th>review_rating</th>\n",
              "      <th>sentiment</th>\n",
              "      <th>Negativo</th>\n",
              "    </tr>\n",
              "  </thead>\n",
              "  <tbody>\n",
              "    <tr>\n",
              "      <th>0</th>\n",
              "      <td>0</td>\n",
              "      <td>Genuine buyer</td>\n",
              "      <td>Pros and cons</td>\n",
              "      <td>Great quality and the sound is actually great....</td>\n",
              "      <td>5.0 out of 5 stars</td>\n",
              "      <td>positive</td>\n",
              "      <td>0</td>\n",
              "    </tr>\n",
              "    <tr>\n",
              "      <th>1</th>\n",
              "      <td>1</td>\n",
              "      <td>CHETAN SHETTER</td>\n",
              "      <td>Never Expected in this price range... I Assure...</td>\n",
              "      <td>I've been using this from past 6 months. This ...</td>\n",
              "      <td>5.0 out of 5 stars</td>\n",
              "      <td>positive</td>\n",
              "      <td>0</td>\n",
              "    </tr>\n",
              "    <tr>\n",
              "      <th>2</th>\n",
              "      <td>2</td>\n",
              "      <td>Kiran Kumar M</td>\n",
              "      <td>Bass bastler, Awesome HD quality sound, rockin...</td>\n",
              "      <td>Perfect bass and nice one. Superb sound and it...</td>\n",
              "      <td>5.0 out of 5 stars</td>\n",
              "      <td>positive</td>\n",
              "      <td>0</td>\n",
              "    </tr>\n",
              "    <tr>\n",
              "      <th>3</th>\n",
              "      <td>3</td>\n",
              "      <td>Raj Patel</td>\n",
              "      <td>Maybe buy boat basshead 100</td>\n",
              "      <td>Here is the review after 1 week of usePros:1.B...</td>\n",
              "      <td>4.0 out of 5 stars</td>\n",
              "      <td>positive</td>\n",
              "      <td>0</td>\n",
              "    </tr>\n",
              "    <tr>\n",
              "      <th>4</th>\n",
              "      <td>4</td>\n",
              "      <td>SANJAY KUMAR TIWARI</td>\n",
              "      <td>Superb head stereo better than leading brands.</td>\n",
              "      <td>Purchased after seeing review with suspicion t...</td>\n",
              "      <td>5.0 out of 5 stars</td>\n",
              "      <td>positive</td>\n",
              "      <td>0</td>\n",
              "    </tr>\n",
              "    <tr>\n",
              "      <th>...</th>\n",
              "      <td>...</td>\n",
              "      <td>...</td>\n",
              "      <td>...</td>\n",
              "      <td>...</td>\n",
              "      <td>...</td>\n",
              "      <td>...</td>\n",
              "      <td>...</td>\n",
              "    </tr>\n",
              "    <tr>\n",
              "      <th>449710</th>\n",
              "      <td>449774</td>\n",
              "      <td>Dipchand</td>\n",
              "      <td>Not good</td>\n",
              "      <td>One side head phone is not working within 10 d...</td>\n",
              "      <td>1.0 out of 5 stars</td>\n",
              "      <td>negative</td>\n",
              "      <td>1</td>\n",
              "    </tr>\n",
              "    <tr>\n",
              "      <th>449711</th>\n",
              "      <td>449775</td>\n",
              "      <td>Amazon Customer</td>\n",
              "      <td>Need replacement</td>\n",
              "      <td>Quality is good. And there is some damage near...</td>\n",
              "      <td>1.0 out of 5 stars</td>\n",
              "      <td>negative</td>\n",
              "      <td>1</td>\n",
              "    </tr>\n",
              "    <tr>\n",
              "      <th>449712</th>\n",
              "      <td>449776</td>\n",
              "      <td>MAYANK MISHRA</td>\n",
              "      <td>Stopped working after 1 month.</td>\n",
              "      <td>Your browser does not support HTML5 video.  Af...</td>\n",
              "      <td>3.0 out of 5 stars</td>\n",
              "      <td>negative</td>\n",
              "      <td>1</td>\n",
              "    </tr>\n",
              "    <tr>\n",
              "      <th>449713</th>\n",
              "      <td>449777</td>\n",
              "      <td>Zan</td>\n",
              "      <td>Cheap Quality.</td>\n",
              "      <td>This product is of very cheap quality. Wouldn'...</td>\n",
              "      <td>1.0 out of 5 stars</td>\n",
              "      <td>negative</td>\n",
              "      <td>1</td>\n",
              "    </tr>\n",
              "    <tr>\n",
              "      <th>449714</th>\n",
              "      <td>449778</td>\n",
              "      <td>SK Raju</td>\n",
              "      <td>First few days only it works</td>\n",
              "      <td>Bad luck to buy, within month went bad does no...</td>\n",
              "      <td>2.0 out of 5 stars</td>\n",
              "      <td>negative</td>\n",
              "      <td>1</td>\n",
              "    </tr>\n",
              "  </tbody>\n",
              "</table>\n",
              "<p>449715 rows × 7 columns</p>\n",
              "</div>\n",
              "      <button class=\"colab-df-convert\" onclick=\"convertToInteractive('df-da5711f1-7c03-4542-831b-107a014bf640')\"\n",
              "              title=\"Convert this dataframe to an interactive table.\"\n",
              "              style=\"display:none;\">\n",
              "        \n",
              "  <svg xmlns=\"http://www.w3.org/2000/svg\" height=\"24px\"viewBox=\"0 0 24 24\"\n",
              "       width=\"24px\">\n",
              "    <path d=\"M0 0h24v24H0V0z\" fill=\"none\"/>\n",
              "    <path d=\"M18.56 5.44l.94 2.06.94-2.06 2.06-.94-2.06-.94-.94-2.06-.94 2.06-2.06.94zm-11 1L8.5 8.5l.94-2.06 2.06-.94-2.06-.94L8.5 2.5l-.94 2.06-2.06.94zm10 10l.94 2.06.94-2.06 2.06-.94-2.06-.94-.94-2.06-.94 2.06-2.06.94z\"/><path d=\"M17.41 7.96l-1.37-1.37c-.4-.4-.92-.59-1.43-.59-.52 0-1.04.2-1.43.59L10.3 9.45l-7.72 7.72c-.78.78-.78 2.05 0 2.83L4 21.41c.39.39.9.59 1.41.59.51 0 1.02-.2 1.41-.59l7.78-7.78 2.81-2.81c.8-.78.8-2.07 0-2.86zM5.41 20L4 18.59l7.72-7.72 1.47 1.35L5.41 20z\"/>\n",
              "  </svg>\n",
              "      </button>\n",
              "      \n",
              "  <style>\n",
              "    .colab-df-container {\n",
              "      display:flex;\n",
              "      flex-wrap:wrap;\n",
              "      gap: 12px;\n",
              "    }\n",
              "\n",
              "    .colab-df-convert {\n",
              "      background-color: #E8F0FE;\n",
              "      border: none;\n",
              "      border-radius: 50%;\n",
              "      cursor: pointer;\n",
              "      display: none;\n",
              "      fill: #1967D2;\n",
              "      height: 32px;\n",
              "      padding: 0 0 0 0;\n",
              "      width: 32px;\n",
              "    }\n",
              "\n",
              "    .colab-df-convert:hover {\n",
              "      background-color: #E2EBFA;\n",
              "      box-shadow: 0px 1px 2px rgba(60, 64, 67, 0.3), 0px 1px 3px 1px rgba(60, 64, 67, 0.15);\n",
              "      fill: #174EA6;\n",
              "    }\n",
              "\n",
              "    [theme=dark] .colab-df-convert {\n",
              "      background-color: #3B4455;\n",
              "      fill: #D2E3FC;\n",
              "    }\n",
              "\n",
              "    [theme=dark] .colab-df-convert:hover {\n",
              "      background-color: #434B5C;\n",
              "      box-shadow: 0px 1px 3px 1px rgba(0, 0, 0, 0.15);\n",
              "      filter: drop-shadow(0px 1px 2px rgba(0, 0, 0, 0.3));\n",
              "      fill: #FFFFFF;\n",
              "    }\n",
              "  </style>\n",
              "\n",
              "      <script>\n",
              "        const buttonEl =\n",
              "          document.querySelector('#df-da5711f1-7c03-4542-831b-107a014bf640 button.colab-df-convert');\n",
              "        buttonEl.style.display =\n",
              "          google.colab.kernel.accessAllowed ? 'block' : 'none';\n",
              "\n",
              "        async function convertToInteractive(key) {\n",
              "          const element = document.querySelector('#df-da5711f1-7c03-4542-831b-107a014bf640');\n",
              "          const dataTable =\n",
              "            await google.colab.kernel.invokeFunction('convertToInteractive',\n",
              "                                                     [key], {});\n",
              "          if (!dataTable) return;\n",
              "\n",
              "          const docLinkHtml = 'Like what you see? Visit the ' +\n",
              "            '<a target=\"_blank\" href=https://colab.research.google.com/notebooks/data_table.ipynb>data table notebook</a>'\n",
              "            + ' to learn more about interactive tables.';\n",
              "          element.innerHTML = '';\n",
              "          dataTable['output_type'] = 'display_data';\n",
              "          await google.colab.output.renderOutput(dataTable, element);\n",
              "          const docLink = document.createElement('div');\n",
              "          docLink.innerHTML = docLinkHtml;\n",
              "          element.appendChild(docLink);\n",
              "        }\n",
              "      </script>\n",
              "    </div>\n",
              "  </div>\n",
              "  "
            ]
          },
          "metadata": {},
          "execution_count": 17
        }
      ],
      "source": [
        "#Encoding the \"Negative Value\" \n",
        "df3['Negativo'] = df3['sentiment'].map( {'negative': 1, 'positive': 0} ).astype(int)\n",
        "df3"
      ]
    },
    {
      "cell_type": "code",
      "execution_count": 18,
      "metadata": {
        "colab": {
          "base_uri": "https://localhost:8080/",
          "height": 423
        },
        "id": "kV81xFI3KYpU",
        "outputId": "a050aab9-d846-4cf0-ef6e-b7ac2966ff72"
      },
      "outputs": [
        {
          "output_type": "execute_result",
          "data": {
            "text/plain": [
              "         index            reviewer_name  \\\n",
              "318809  318855  chava venkata Subba rao   \n",
              "385319  385380              Ayesha khan   \n",
              "259108  259148                   SKumar   \n",
              "118237  118255             Prasad Patil   \n",
              "404049  404110                      rev   \n",
              "...        ...                      ...   \n",
              "149476  149500                      Joy   \n",
              "434287  434350               Syed SADAD   \n",
              "200181  200212             Ayush Sharma   \n",
              "152937  152961                   Anisha   \n",
              "249996  250033             Raja mohamed   \n",
              "\n",
              "                                                    title  \\\n",
              "318809                                              Super   \n",
              "385319            Speakers Good but Call Quality not good   \n",
              "259108                        Febelo Case for Samsung M21   \n",
              "118237                                          satisfied   \n",
              "404049               Works for about a month. That's it!!   \n",
              "...                                                   ...   \n",
              "149476                                     Sound and bass   \n",
              "434287          Suction power not mobile holder vibration   \n",
              "200181  4 for sound quality but with this price its de...   \n",
              "152937                             Sound quality is nice.   \n",
              "249996                                         Five Stars   \n",
              "\n",
              "                                              review_body       review_rating  \\\n",
              "318809                                    Easy to install  5.0 out of 5 stars   \n",
              "385319  I have been using it for last 4 months but it'...  3.0 out of 5 stars   \n",
              "259108                                       Good product  5.0 out of 5 stars   \n",
              "118237                     satisfiedthis earphone is best  5.0 out of 5 stars   \n",
              "404049  I bought it just over a month ago and it's alr...  1.0 out of 5 stars   \n",
              "...                                                   ...                 ...   \n",
              "149476  Nice sound qualityNice bass qualityAnd little ...  5.0 out of 5 stars   \n",
              "434287            Suction cup problem shake mobile holder  1.0 out of 5 stars   \n",
              "200181  Sound quality is pretty decent but bass is a b...  4.0 out of 5 stars   \n",
              "152937                             Sound quality is nice.  4.0 out of 5 stars   \n",
              "249996                                          good one.  5.0 out of 5 stars   \n",
              "\n",
              "       sentiment  Negativo  \n",
              "318809  positive         0  \n",
              "385319  negative         1  \n",
              "259108  positive         0  \n",
              "118237  positive         0  \n",
              "404049  negative         1  \n",
              "...          ...       ...  \n",
              "149476  positive         0  \n",
              "434287  negative         1  \n",
              "200181  positive         0  \n",
              "152937  positive         0  \n",
              "249996  positive         0  \n",
              "\n",
              "[80000 rows x 7 columns]"
            ],
            "text/html": [
              "\n",
              "  <div id=\"df-fb3a219e-8880-4f66-82e8-2e92ed92298b\">\n",
              "    <div class=\"colab-df-container\">\n",
              "      <div>\n",
              "<style scoped>\n",
              "    .dataframe tbody tr th:only-of-type {\n",
              "        vertical-align: middle;\n",
              "    }\n",
              "\n",
              "    .dataframe tbody tr th {\n",
              "        vertical-align: top;\n",
              "    }\n",
              "\n",
              "    .dataframe thead th {\n",
              "        text-align: right;\n",
              "    }\n",
              "</style>\n",
              "<table border=\"1\" class=\"dataframe\">\n",
              "  <thead>\n",
              "    <tr style=\"text-align: right;\">\n",
              "      <th></th>\n",
              "      <th>index</th>\n",
              "      <th>reviewer_name</th>\n",
              "      <th>title</th>\n",
              "      <th>review_body</th>\n",
              "      <th>review_rating</th>\n",
              "      <th>sentiment</th>\n",
              "      <th>Negativo</th>\n",
              "    </tr>\n",
              "  </thead>\n",
              "  <tbody>\n",
              "    <tr>\n",
              "      <th>318809</th>\n",
              "      <td>318855</td>\n",
              "      <td>chava venkata Subba rao</td>\n",
              "      <td>Super</td>\n",
              "      <td>Easy to install</td>\n",
              "      <td>5.0 out of 5 stars</td>\n",
              "      <td>positive</td>\n",
              "      <td>0</td>\n",
              "    </tr>\n",
              "    <tr>\n",
              "      <th>385319</th>\n",
              "      <td>385380</td>\n",
              "      <td>Ayesha khan</td>\n",
              "      <td>Speakers Good but Call Quality not good</td>\n",
              "      <td>I have been using it for last 4 months but it'...</td>\n",
              "      <td>3.0 out of 5 stars</td>\n",
              "      <td>negative</td>\n",
              "      <td>1</td>\n",
              "    </tr>\n",
              "    <tr>\n",
              "      <th>259108</th>\n",
              "      <td>259148</td>\n",
              "      <td>SKumar</td>\n",
              "      <td>Febelo Case for Samsung M21</td>\n",
              "      <td>Good product</td>\n",
              "      <td>5.0 out of 5 stars</td>\n",
              "      <td>positive</td>\n",
              "      <td>0</td>\n",
              "    </tr>\n",
              "    <tr>\n",
              "      <th>118237</th>\n",
              "      <td>118255</td>\n",
              "      <td>Prasad Patil</td>\n",
              "      <td>satisfied</td>\n",
              "      <td>satisfiedthis earphone is best</td>\n",
              "      <td>5.0 out of 5 stars</td>\n",
              "      <td>positive</td>\n",
              "      <td>0</td>\n",
              "    </tr>\n",
              "    <tr>\n",
              "      <th>404049</th>\n",
              "      <td>404110</td>\n",
              "      <td>rev</td>\n",
              "      <td>Works for about a month. That's it!!</td>\n",
              "      <td>I bought it just over a month ago and it's alr...</td>\n",
              "      <td>1.0 out of 5 stars</td>\n",
              "      <td>negative</td>\n",
              "      <td>1</td>\n",
              "    </tr>\n",
              "    <tr>\n",
              "      <th>...</th>\n",
              "      <td>...</td>\n",
              "      <td>...</td>\n",
              "      <td>...</td>\n",
              "      <td>...</td>\n",
              "      <td>...</td>\n",
              "      <td>...</td>\n",
              "      <td>...</td>\n",
              "    </tr>\n",
              "    <tr>\n",
              "      <th>149476</th>\n",
              "      <td>149500</td>\n",
              "      <td>Joy</td>\n",
              "      <td>Sound and bass</td>\n",
              "      <td>Nice sound qualityNice bass qualityAnd little ...</td>\n",
              "      <td>5.0 out of 5 stars</td>\n",
              "      <td>positive</td>\n",
              "      <td>0</td>\n",
              "    </tr>\n",
              "    <tr>\n",
              "      <th>434287</th>\n",
              "      <td>434350</td>\n",
              "      <td>Syed SADAD</td>\n",
              "      <td>Suction power not mobile holder vibration</td>\n",
              "      <td>Suction cup problem shake mobile holder</td>\n",
              "      <td>1.0 out of 5 stars</td>\n",
              "      <td>negative</td>\n",
              "      <td>1</td>\n",
              "    </tr>\n",
              "    <tr>\n",
              "      <th>200181</th>\n",
              "      <td>200212</td>\n",
              "      <td>Ayush Sharma</td>\n",
              "      <td>4 for sound quality but with this price its de...</td>\n",
              "      <td>Sound quality is pretty decent but bass is a b...</td>\n",
              "      <td>4.0 out of 5 stars</td>\n",
              "      <td>positive</td>\n",
              "      <td>0</td>\n",
              "    </tr>\n",
              "    <tr>\n",
              "      <th>152937</th>\n",
              "      <td>152961</td>\n",
              "      <td>Anisha</td>\n",
              "      <td>Sound quality is nice.</td>\n",
              "      <td>Sound quality is nice.</td>\n",
              "      <td>4.0 out of 5 stars</td>\n",
              "      <td>positive</td>\n",
              "      <td>0</td>\n",
              "    </tr>\n",
              "    <tr>\n",
              "      <th>249996</th>\n",
              "      <td>250033</td>\n",
              "      <td>Raja mohamed</td>\n",
              "      <td>Five Stars</td>\n",
              "      <td>good one.</td>\n",
              "      <td>5.0 out of 5 stars</td>\n",
              "      <td>positive</td>\n",
              "      <td>0</td>\n",
              "    </tr>\n",
              "  </tbody>\n",
              "</table>\n",
              "<p>80000 rows × 7 columns</p>\n",
              "</div>\n",
              "      <button class=\"colab-df-convert\" onclick=\"convertToInteractive('df-fb3a219e-8880-4f66-82e8-2e92ed92298b')\"\n",
              "              title=\"Convert this dataframe to an interactive table.\"\n",
              "              style=\"display:none;\">\n",
              "        \n",
              "  <svg xmlns=\"http://www.w3.org/2000/svg\" height=\"24px\"viewBox=\"0 0 24 24\"\n",
              "       width=\"24px\">\n",
              "    <path d=\"M0 0h24v24H0V0z\" fill=\"none\"/>\n",
              "    <path d=\"M18.56 5.44l.94 2.06.94-2.06 2.06-.94-2.06-.94-.94-2.06-.94 2.06-2.06.94zm-11 1L8.5 8.5l.94-2.06 2.06-.94-2.06-.94L8.5 2.5l-.94 2.06-2.06.94zm10 10l.94 2.06.94-2.06 2.06-.94-2.06-.94-.94-2.06-.94 2.06-2.06.94z\"/><path d=\"M17.41 7.96l-1.37-1.37c-.4-.4-.92-.59-1.43-.59-.52 0-1.04.2-1.43.59L10.3 9.45l-7.72 7.72c-.78.78-.78 2.05 0 2.83L4 21.41c.39.39.9.59 1.41.59.51 0 1.02-.2 1.41-.59l7.78-7.78 2.81-2.81c.8-.78.8-2.07 0-2.86zM5.41 20L4 18.59l7.72-7.72 1.47 1.35L5.41 20z\"/>\n",
              "  </svg>\n",
              "      </button>\n",
              "      \n",
              "  <style>\n",
              "    .colab-df-container {\n",
              "      display:flex;\n",
              "      flex-wrap:wrap;\n",
              "      gap: 12px;\n",
              "    }\n",
              "\n",
              "    .colab-df-convert {\n",
              "      background-color: #E8F0FE;\n",
              "      border: none;\n",
              "      border-radius: 50%;\n",
              "      cursor: pointer;\n",
              "      display: none;\n",
              "      fill: #1967D2;\n",
              "      height: 32px;\n",
              "      padding: 0 0 0 0;\n",
              "      width: 32px;\n",
              "    }\n",
              "\n",
              "    .colab-df-convert:hover {\n",
              "      background-color: #E2EBFA;\n",
              "      box-shadow: 0px 1px 2px rgba(60, 64, 67, 0.3), 0px 1px 3px 1px rgba(60, 64, 67, 0.15);\n",
              "      fill: #174EA6;\n",
              "    }\n",
              "\n",
              "    [theme=dark] .colab-df-convert {\n",
              "      background-color: #3B4455;\n",
              "      fill: #D2E3FC;\n",
              "    }\n",
              "\n",
              "    [theme=dark] .colab-df-convert:hover {\n",
              "      background-color: #434B5C;\n",
              "      box-shadow: 0px 1px 3px 1px rgba(0, 0, 0, 0.15);\n",
              "      filter: drop-shadow(0px 1px 2px rgba(0, 0, 0, 0.3));\n",
              "      fill: #FFFFFF;\n",
              "    }\n",
              "  </style>\n",
              "\n",
              "      <script>\n",
              "        const buttonEl =\n",
              "          document.querySelector('#df-fb3a219e-8880-4f66-82e8-2e92ed92298b button.colab-df-convert');\n",
              "        buttonEl.style.display =\n",
              "          google.colab.kernel.accessAllowed ? 'block' : 'none';\n",
              "\n",
              "        async function convertToInteractive(key) {\n",
              "          const element = document.querySelector('#df-fb3a219e-8880-4f66-82e8-2e92ed92298b');\n",
              "          const dataTable =\n",
              "            await google.colab.kernel.invokeFunction('convertToInteractive',\n",
              "                                                     [key], {});\n",
              "          if (!dataTable) return;\n",
              "\n",
              "          const docLinkHtml = 'Like what you see? Visit the ' +\n",
              "            '<a target=\"_blank\" href=https://colab.research.google.com/notebooks/data_table.ipynb>data table notebook</a>'\n",
              "            + ' to learn more about interactive tables.';\n",
              "          element.innerHTML = '';\n",
              "          dataTable['output_type'] = 'display_data';\n",
              "          await google.colab.output.renderOutput(dataTable, element);\n",
              "          const docLink = document.createElement('div');\n",
              "          docLink.innerHTML = docLinkHtml;\n",
              "          element.appendChild(docLink);\n",
              "        }\n",
              "      </script>\n",
              "    </div>\n",
              "  </div>\n",
              "  "
            ]
          },
          "metadata": {},
          "execution_count": 18
        }
      ],
      "source": [
        "#Criamos data base com menor observação para analise preliminares dos dados \n",
        "df5 = df3.copy()\n",
        "df5 = df5.sample(80000)\n",
        "df5"
      ]
    },
    {
      "cell_type": "code",
      "execution_count": 19,
      "metadata": {
        "colab": {
          "base_uri": "https://localhost:8080/",
          "height": 122
        },
        "id": "3KxhJySWVakS",
        "outputId": "f8f72a6e-3496-4cd6-e76c-5df1f7bd1cf6"
      },
      "outputs": [
        {
          "output_type": "execute_result",
          "data": {
            "text/plain": [
              "\"Easy to installI have been using it for last 4 months but it's only for listening sounds it's not good for calls because voice is not catching properly. You have to speak loudly in calls then only 2nd person can listen you.Good productsatisfiedthis earphone is bestI bought it just over a month ago and it's already got loose contacts. I've to hold the connector pin to hear anything!! The specifications are nice but I don't think it's durable.Good one for the price paidMeet expectations.J'utilise ce casque monitoring AKG K52 dans mon home studio.Il est branché à ma carte son focusrite solo 3e génération et offre un rendu neutre qui est très agréable pour mixer justement.cleaner is not perfact fix and charging is avarage. apps disable feature is not available, slowmotion mode is not good. made in india not printedAfter 1 month usage Except battery everything is awesome . Battery drains very fast even in 60Hz.So upcoming update let hope to see the improvementKharab ho gya hai replacement k\""
            ],
            "application/vnd.google.colaboratory.intrinsic+json": {
              "type": "string"
            }
          },
          "metadata": {},
          "execution_count": 19
        }
      ],
      "source": [
        "#Mude df5 para df3 para pegar toda base\n",
        "texts = df5['review_body'].sum()\n",
        "texts[0:1000]"
      ]
    },
    {
      "cell_type": "code",
      "execution_count": 20,
      "metadata": {
        "id": "7GN6IMI0WTPB"
      },
      "outputs": [],
      "source": [
        "stop_pt = nltk.corpus.stopwords.words('portuguese')\n",
        "stop_en = nltk.corpus.stopwords.words('english')\n",
        "stopwords_pa = stop_en + stop_pt\n",
        "stopwords_pa.extend(['-',''])\n",
        "\n",
        "\n"
      ]
    },
    {
      "cell_type": "code",
      "execution_count": 21,
      "metadata": {
        "colab": {
          "base_uri": "https://localhost:8080/"
        },
        "id": "N24Y7D-CWc6J",
        "outputId": "9178f232-d775-4243-ee14-1c1ad7868827"
      },
      "outputs": [
        {
          "output_type": "execute_result",
          "data": {
            "text/plain": [
              "[('good', 27169),\n",
              " ('quality', 22089),\n",
              " ('product', 17209),\n",
              " ('sound', 12522),\n",
              " ('phone', 11386),\n",
              " ('battery', 7816),\n",
              " ('price', 7484),\n",
              " ('one', 7260),\n",
              " ('also', 7082),\n",
              " ('bass', 6768),\n",
              " ('like', 5709),\n",
              " ('best', 5687),\n",
              " ('camera', 5264),\n",
              " ('use', 4886),\n",
              " ('great', 4800),\n",
              " ('really', 4536),\n",
              " ('buy', 4458),\n",
              " ('using', 4457),\n",
              " ('nice', 4293),\n",
              " ('charging', 4158)]"
            ]
          },
          "metadata": {},
          "execution_count": 21
        }
      ],
      "source": [
        "import string\n",
        "from collections import Counter\n",
        "list_words = texts.split()\n",
        "list_words = [l.strip().lower() for l in list_words]\n",
        "list_words = [l.strip(string.punctuation) for l in list_words]\n",
        "list_words = [l for l in list_words if l not in stopwords_pa]\n",
        "\n",
        "freqdist = Counter(list_words)\n",
        "freqdist.most_common(20)"
      ]
    },
    {
      "cell_type": "code",
      "execution_count": 22,
      "metadata": {
        "id": "MCILPjp3YTqX"
      },
      "outputs": [],
      "source": [
        "from wordcloud import WordCloud\n",
        "cleaned = ' '.join(list_words)\n",
        "wordcloud = WordCloud().generate(cleaned)"
      ]
    },
    {
      "cell_type": "code",
      "execution_count": 23,
      "metadata": {
        "colab": {
          "base_uri": "https://localhost:8080/",
          "height": 387
        },
        "id": "lJeiHfy8YcZ8",
        "outputId": "2d0dccab-0c25-481c-9882-da19e61a988b"
      },
      "outputs": [
        {
          "output_type": "display_data",
          "data": {
            "text/plain": [
              "<Figure size 720x720 with 1 Axes>"
            ],
            "image/png": "[encoded data removed]"
          },
          "metadata": {
            "needs_background": "light"
          }
        }
      ],
      "source": [
        "fig, ax = plt.subplots(figsize=(10, 10))\n",
        "ax.imshow(wordcloud, interpolation='nearest')\n",
        "plt.tight_layout()"
      ]
    },
    {
      "cell_type": "code",
      "execution_count": 24,
      "metadata": {
        "id": "wCRWqvZ0ZbVd"
      },
      "outputs": [],
      "source": [
        "# Using NLTK\n",
        "tknzr = nltk.tokenize.WordPunctTokenizer()\n",
        "tokens = tknzr.tokenize(texts)\n",
        "nltk_text = nltk.Text(tokens)\n",
        "#nltk_text.concordance(expression.lower(), width=120, lines=20)"
      ]
    },
    {
      "cell_type": "code",
      "execution_count": 25,
      "metadata": {
        "colab": {
          "base_uri": "https://localhost:8080/",
          "height": 404
        },
        "id": "QsoSdcC2YuXf",
        "outputId": "eb16026b-3d2e-4e0a-c4e1-833c65c735e1"
      },
      "outputs": [
        {
          "output_type": "display_data",
          "data": {
            "text/plain": [
              "<Figure size 1152x432 with 1 Axes>"
            ],
            "image/png": "[encoded data removed]"
          },
          "metadata": {
            "needs_background": "light"
          }
        }
      ],
      "source": [
        "dispersion_words = ['good', 'product', 'phone', 'best']\n",
        "plt.figure(figsize=(16,6))\n",
        "nltk_text.dispersion_plot(dispersion_words)"
      ]
    },
    {
      "cell_type": "code",
      "execution_count": 26,
      "metadata": {
        "colab": {
          "base_uri": "https://localhost:8080/"
        },
        "id": "4R8ZvECEbG1s",
        "outputId": "5f29e450-8758-43b2-9333-9f21fd80641d"
      },
      "outputs": [
        {
          "output_type": "execute_result",
          "data": {
            "text/plain": [
              "[('good', 27169),\n",
              " ('quality', 22089),\n",
              " ('product', 17209),\n",
              " ('sound', 12522),\n",
              " ('phone', 11386),\n",
              " ('battery', 7816),\n",
              " ('price', 7484),\n",
              " ('one', 7260),\n",
              " ('also', 7082),\n",
              " ('bass', 6768),\n",
              " ('like', 5709),\n",
              " ('best', 5687),\n",
              " ('camera', 5264),\n",
              " ('use', 4886),\n",
              " ('great', 4800),\n",
              " ('really', 4536),\n",
              " ('buy', 4458),\n",
              " ('using', 4457),\n",
              " ('nice', 4293),\n",
              " ('charging', 4158),\n",
              " ('working', 3639),\n",
              " ('time', 3547),\n",
              " ('go', 3531),\n",
              " ('noise', 3423),\n",
              " ('better', 3317),\n",
              " ('mobile', 3294),\n",
              " ('life', 3223),\n",
              " ('earphones', 3197),\n",
              " ('case', 3098),\n",
              " ('cable', 3054),\n",
              " ('well', 3030),\n",
              " ('even', 3016),\n",
              " ('money', 2935),\n",
              " ('much', 2853),\n",
              " ('ear', 2849),\n",
              " ('get', 2805),\n",
              " ('2', 2741),\n",
              " ('fast', 2737),\n",
              " ('awesome', 2669),\n",
              " ('samsung', 2650),\n",
              " ('worth', 2646),\n",
              " ('used', 2611),\n",
              " ('value', 2605),\n",
              " ('cancellation', 2589),\n",
              " ('range', 2551),\n",
              " ('got', 2541),\n",
              " ('amazing', 2316),\n",
              " ('screen', 2300),\n",
              " ('amazon', 2299),\n",
              " ('back', 2270),\n",
              " ('days', 2244),\n",
              " ('bought', 2243),\n",
              " ('would', 2224),\n",
              " ('cover', 2195),\n",
              " ('long', 2180),\n",
              " ('earphone', 2172),\n",
              " ('months', 2144),\n",
              " ('overall', 2060),\n",
              " ('fit', 2020),\n",
              " ('music', 2007),\n",
              " ('looks', 1973),\n",
              " ('charge', 1962),\n",
              " ('boat', 1918),\n",
              " ('u', 1887),\n",
              " ('day', 1883),\n",
              " ('little', 1864),\n",
              " ('bit', 1843),\n",
              " ('works', 1810),\n",
              " ('headphones', 1801),\n",
              " ('display', 1797),\n",
              " ('1', 1767),\n",
              " ('bluetooth', 1747),\n",
              " ('feel', 1729),\n",
              " ('perfect', 1715),\n",
              " ('excellent', 1692),\n",
              " ('3', 1692),\n",
              " ('backup', 1679),\n",
              " ('problem', 1673),\n",
              " ('side', 1663),\n",
              " ('love', 1625),\n",
              " ('low', 1615),\n",
              " ('issue', 1581),\n",
              " ('bad', 1572),\n",
              " ('easy', 1559),\n",
              " ('la', 1518),\n",
              " ('happy', 1512),\n",
              " ('last', 1509),\n",
              " ('performance', 1509),\n",
              " ('without', 1502),\n",
              " ('still', 1502),\n",
              " ('work', 1485),\n",
              " ('look', 1483),\n",
              " ('clear', 1476),\n",
              " ('thing', 1476),\n",
              " ('recommend', 1448),\n",
              " ('high', 1448),\n",
              " ('month', 1433),\n",
              " ('experience', 1432),\n",
              " ('call', 1414),\n",
              " ('comfortable', 1391)]"
            ]
          },
          "metadata": {},
          "execution_count": 26
        }
      ],
      "source": [
        "freqdist.most_common(100)"
      ]
    },
    {
      "cell_type": "code",
      "execution_count": 27,
      "metadata": {
        "colab": {
          "base_uri": "https://localhost:8080/",
          "height": 619
        },
        "id": "4E4h8Y6qbERb",
        "outputId": "9c5990ec-9a46-43b7-b4ee-dce5ea930560"
      },
      "outputs": [
        {
          "output_type": "display_data",
          "data": {
            "text/plain": [
              "<Figure size 1332x756 with 1 Axes>"
            ],
            "image/png": "[encoded data removed]"
          },
          "metadata": {
            "needs_background": "light"
          }
        }
      ],
      "source": [
        "labels, values = zip(*freqdist.most_common(30))\n",
        "\n",
        "indexes = np.arange(len(labels))\n",
        "width = 0.5\n",
        "\n",
        "plt.bar(indexes, values, width)\n",
        "fig = plt.gcf()\n",
        "fig.set_size_inches(18.5, 10.5)\n",
        "plt.xticks(indexes + width * 0.5, labels)\n",
        "plt.show()"
      ]
    },
    {
      "cell_type": "code",
      "execution_count": 28,
      "metadata": {
        "id": "5VHdEYgAcZDO"
      },
      "outputs": [],
      "source": [
        "corpus=[]\n",
        "new = df5['review_body'].str.split()\n",
        "new = new.values.tolist()\n",
        "corpus = [word for i in new for word in i]"
      ]
    },
    {
      "cell_type": "code",
      "execution_count": 29,
      "metadata": {
        "id": "5Ycv0xInMy0D"
      },
      "outputs": [],
      "source": [
        "#import nltk\n",
        "#nltk.download('stopwords')\n",
        "stop = set(nltk.corpus.stopwords.words('english'))\n",
        "\n",
        "\n"
      ]
    },
    {
      "cell_type": "code",
      "execution_count": 30,
      "metadata": {
        "colab": {
          "base_uri": "https://localhost:8080/",
          "height": 282
        },
        "id": "xb1hszDNb591",
        "outputId": "b471ddab-79db-448d-e89d-977c64b2ff4b"
      },
      "outputs": [
        {
          "output_type": "execute_result",
          "data": {
            "text/plain": [
              "<BarContainer object of 10 artists>"
            ]
          },
          "metadata": {},
          "execution_count": 30
        },
        {
          "output_type": "display_data",
          "data": {
            "text/plain": [
              "<Figure size 432x288 with 1 Axes>"
            ],
            "image/png": "[encoded data removed]"
          },
          "metadata": {
            "needs_background": "light"
          }
        }
      ],
      "source": [
        "from collections import defaultdict\n",
        "dic = defaultdict(int)\n",
        "for word in corpus:\n",
        "    if word in stop:\n",
        "        dic[word] += 1\n",
        "top = sorted(dic.items(), key=lambda x:x[1],reverse=True)[:10] \n",
        "x,y = zip(*top)\n",
        "plt.bar(x,y)\n",
        "\n",
        "\n",
        "\n"
      ]
    },
    {
      "cell_type": "code",
      "execution_count": 31,
      "metadata": {
        "colab": {
          "base_uri": "https://localhost:8080/"
        },
        "id": "Nk1qCbhXONk7",
        "outputId": "498fbef3-e9d1-4b3a-c0c7-2171c57f7cc0"
      },
      "outputs": [
        {
          "output_type": "execute_result",
          "data": {
            "text/plain": [
              "[('I', 'went'),\n",
              " ('went', 'to'),\n",
              " ('to', 'the'),\n",
              " ('the', 'river'),\n",
              " ('river', 'bank')]"
            ]
          },
          "metadata": {},
          "execution_count": 31
        }
      ],
      "source": [
        "from nltk.util import ngrams\n",
        "list(ngrams(['I' ,'went','to','the','river','bank'],2))"
      ]
    },
    {
      "cell_type": "code",
      "execution_count": 32,
      "metadata": {
        "id": "OlNBRBPDN-hG"
      },
      "outputs": [],
      "source": [
        "from sklearn.feature_extraction.text import CountVectorizer\n",
        "\n",
        "def get_top_ngram(corpus, n=None):\n",
        "    vec = CountVectorizer(ngram_range=(n, n)).fit(corpus)\n",
        "    bag_of_words = vec.transform(corpus)\n",
        "    sum_words = bag_of_words.sum(axis=0) \n",
        "    words_freq = [(word, sum_words[0, idx]) \n",
        "                  for word, idx in vec.vocabulary_.items()]\n",
        "    words_freq =sorted(words_freq, key = lambda x: x[1], reverse=True)\n",
        "    return words_freq[:10]"
      ]
    },
    {
      "cell_type": "code",
      "execution_count": 33,
      "metadata": {
        "colab": {
          "base_uri": "https://localhost:8080/",
          "height": 282
        },
        "id": "XyFVaXzsOtgt",
        "outputId": "8cd3c317-5034-4583-b213-8c19c4ad4478"
      },
      "outputs": [
        {
          "output_type": "execute_result",
          "data": {
            "text/plain": [
              "<matplotlib.axes._subplots.AxesSubplot at 0x7f894ecda350>"
            ]
          },
          "metadata": {},
          "execution_count": 33
        },
        {
          "output_type": "display_data",
          "data": {
            "text/plain": [
              "<Figure size 432x288 with 1 Axes>"
            ],
            "image/png": "[encoded data removed]"
          },
          "metadata": {
            "needs_background": "light"
          }
        }
      ],
      "source": [
        "top_n_bigrams=get_top_ngram(df5['review_body'],2)[:10]\n",
        "x,y=map(list,zip(*top_n_bigrams))\n",
        "sns.barplot(x=y,y=x)"
      ]
    },
    {
      "cell_type": "code",
      "execution_count": 34,
      "metadata": {
        "colab": {
          "base_uri": "https://localhost:8080/",
          "height": 282
        },
        "id": "Jyz3genaO3ay",
        "outputId": "abab0e7c-b78a-4e70-a884-55f0cf3bebc4"
      },
      "outputs": [
        {
          "output_type": "execute_result",
          "data": {
            "text/plain": [
              "<matplotlib.axes._subplots.AxesSubplot at 0x7f894ecd9ad0>"
            ]
          },
          "metadata": {},
          "execution_count": 34
        },
        {
          "output_type": "display_data",
          "data": {
            "text/plain": [
              "<Figure size 432x288 with 1 Axes>"
            ],
            "image/png": "[encoded data removed]"
          },
          "metadata": {
            "needs_background": "light"
          }
        }
      ],
      "source": [
        "top_tri_grams=get_top_ngram(df5['review_body'],n=3)\n",
        "x,y = map(list,zip(*top_tri_grams))\n",
        "sns.barplot(x=y,y=x)"
      ]
    },
    {
      "cell_type": "code",
      "execution_count": 35,
      "metadata": {
        "colab": {
          "base_uri": "https://localhost:8080/"
        },
        "id": "AJPy8WcFg-DQ",
        "outputId": "9436c54e-e4e3-4897-8c80-53de5c20e42b"
      },
      "outputs": [
        {
          "output_type": "execute_result",
          "data": {
            "text/plain": [
              "pandas.core.series.Series"
            ]
          },
          "metadata": {},
          "execution_count": 35
        }
      ],
      "source": [
        "type(df3.review_body)"
      ]
    },
    {
      "cell_type": "markdown",
      "metadata": {
        "id": "IY4Wl_vN9VXM"
      },
      "source": [
        "*III. Data Preparation*\n",
        "=="
      ]
    },
    {
      "cell_type": "markdown",
      "metadata": {
        "id": "8UcWM62C0Vg8"
      },
      "source": [
        "**Part 1: Dealing with the text**"
      ]
    },
    {
      "cell_type": "markdown",
      "metadata": {
        "id": "9mbFDVDGg-0W"
      },
      "source": [
        "1. Remove HTML tags\n",
        "\n",
        "Regex rule : ‘<.*?>’"
      ]
    },
    {
      "cell_type": "code",
      "execution_count": 36,
      "metadata": {
        "colab": {
          "base_uri": "https://localhost:8080/",
          "height": 35
        },
        "id": "osjxKYOEcC-5",
        "outputId": "09be682e-58d6-4974-b2f9-ee1de8ebe89b"
      },
      "outputs": [
        {
          "output_type": "execute_result",
          "data": {
            "text/plain": [
              "'Sounds effect is good'"
            ],
            "application/vnd.google.colaboratory.intrinsic+json": {
              "type": "string"
            }
          },
          "metadata": {},
          "execution_count": 36
        }
      ],
      "source": [
        "def clean(text):\n",
        "    cleaned = re.compile(r'<.*?>')\n",
        "    return re.sub(cleaned,'',text)\n",
        "\n",
        "df3.review_body = df3.review_body.apply(clean)\n",
        "df3.review_body[48946]"
      ]
    },
    {
      "cell_type": "markdown",
      "metadata": {
        "id": "FtNSZvjVhEY2"
      },
      "source": [
        "2. Remove special characters"
      ]
    },
    {
      "cell_type": "code",
      "execution_count": 37,
      "metadata": {
        "colab": {
          "base_uri": "https://localhost:8080/",
          "height": 53
        },
        "id": "vZP3DlQkgX-G",
        "outputId": "4c5ccbf2-5a21-455f-fa9a-c9494cc1ee38"
      },
      "outputs": [
        {
          "output_type": "execute_result",
          "data": {
            "text/plain": [
              "'Great quality and the sound is actually great Pros1  hd sound quality is great it has micro woffers 2  built quality is great wires are thick 3  hd calling is great my voice was clearly audible to other person on the call Cons1  sometimes earbuds hurt the ears and they might not be comfortable to some people otherwise it s a great product'"
            ],
            "application/vnd.google.colaboratory.intrinsic+json": {
              "type": "string"
            }
          },
          "metadata": {},
          "execution_count": 37
        }
      ],
      "source": [
        "def is_special(text):\n",
        "    rem = ''\n",
        "    for i in text:\n",
        "        if i.isalnum():\n",
        "            rem = rem + i\n",
        "        else:\n",
        "            rem = rem + ' '\n",
        "    return rem\n",
        "\n",
        "df3.review_body = df3.review_body.apply(is_special)\n",
        "df3.review_body[0]"
      ]
    },
    {
      "cell_type": "markdown",
      "metadata": {
        "id": "0uiSUGRohq7-"
      },
      "source": [
        "3. Convert everything to lowercase"
      ]
    },
    {
      "cell_type": "code",
      "execution_count": 38,
      "metadata": {
        "colab": {
          "base_uri": "https://localhost:8080/",
          "height": 53
        },
        "id": "VXp7xN5-htS2",
        "outputId": "9265d65f-88fc-429a-a161-c89717de3305"
      },
      "outputs": [
        {
          "output_type": "execute_result",
          "data": {
            "text/plain": [
              "'great quality and the sound is actually great pros1  hd sound quality is great it has micro woffers 2  built quality is great wires are thick 3  hd calling is great my voice was clearly audible to other person on the call cons1  sometimes earbuds hurt the ears and they might not be comfortable to some people otherwise it s a great product'"
            ],
            "application/vnd.google.colaboratory.intrinsic+json": {
              "type": "string"
            }
          },
          "metadata": {},
          "execution_count": 38
        }
      ],
      "source": [
        "def to_lower(text):\n",
        "    return text.lower()\n",
        "\n",
        "df3.review_body = df3.review_body.apply(to_lower)\n",
        "df3.review_body[0]"
      ]
    },
    {
      "cell_type": "markdown",
      "metadata": {
        "id": "SL3AHk3Nh7nZ"
      },
      "source": [
        "4. Remove stopwords"
      ]
    },
    {
      "cell_type": "code",
      "execution_count": 39,
      "metadata": {
        "colab": {
          "base_uri": "https://localhost:8080/"
        },
        "id": "K9giwn_Ch-LO",
        "outputId": "b1a307f4-66ee-410f-a467-da34ea30bfb1"
      },
      "outputs": [
        {
          "output_type": "stream",
          "name": "stdout",
          "text": [
            "[nltk_data] Downloading package stopwords to /root/nltk_data...\n",
            "[nltk_data]   Package stopwords is already up-to-date!\n",
            "[nltk_data] Downloading package punkt to /root/nltk_data...\n",
            "[nltk_data]   Package punkt is already up-to-date!\n"
          ]
        },
        {
          "output_type": "execute_result",
          "data": {
            "text/plain": [
              "['great',\n",
              " 'quality',\n",
              " 'sound',\n",
              " 'actually',\n",
              " 'great',\n",
              " 'pros1',\n",
              " 'hd',\n",
              " 'sound',\n",
              " 'quality',\n",
              " 'great',\n",
              " 'micro',\n",
              " 'woffers',\n",
              " '2',\n",
              " 'built',\n",
              " 'quality',\n",
              " 'great',\n",
              " 'wires',\n",
              " 'thick',\n",
              " '3',\n",
              " 'hd',\n",
              " 'calling',\n",
              " 'great',\n",
              " 'voice',\n",
              " 'clearly',\n",
              " 'audible',\n",
              " 'person',\n",
              " 'call',\n",
              " 'cons1',\n",
              " 'sometimes',\n",
              " 'earbuds',\n",
              " 'hurt',\n",
              " 'ears',\n",
              " 'might',\n",
              " 'comfortable',\n",
              " 'people',\n",
              " 'otherwise',\n",
              " 'great',\n",
              " 'product']"
            ]
          },
          "metadata": {},
          "execution_count": 39
        }
      ],
      "source": [
        "import nltk\n",
        "nltk.download('stopwords')\n",
        "nltk.download('punkt')\n",
        "\n",
        "def rem_stopwords(text):\n",
        "    stop_words = set(stopwords.words('english'))\n",
        "    words = word_tokenize(text)\n",
        "    return [w for w in words if w not in stop_words]\n",
        "\n",
        "df3.review_body = df3.review_body.apply(rem_stopwords)\n",
        "df3.review_body[0]\n",
        "\n"
      ]
    },
    {
      "cell_type": "markdown",
      "metadata": {
        "id": "6w47a1EHiTO4"
      },
      "source": [
        "5. Stem the words"
      ]
    },
    {
      "cell_type": "code",
      "execution_count": 40,
      "metadata": {
        "colab": {
          "base_uri": "https://localhost:8080/",
          "height": 53
        },
        "id": "LG_hBclriQAs",
        "outputId": "d9c2a7c9-77f5-4cec-a5cd-a2f79a92d28c"
      },
      "outputs": [
        {
          "output_type": "execute_result",
          "data": {
            "text/plain": [
              "'great qualiti sound actual great pros1 hd sound qualiti great micro woffer 2 built qualiti great wire thick 3 hd call great voic clear audibl person call cons1 sometim earbud hurt ear might comfort peopl otherwis great product'"
            ],
            "application/vnd.google.colaboratory.intrinsic+json": {
              "type": "string"
            }
          },
          "metadata": {},
          "execution_count": 40
        }
      ],
      "source": [
        "def stem_txt(text):\n",
        "    ss = SnowballStemmer('english') #tem portugues também\n",
        "    return \" \".join([ss.stem(w) for w in text])\n",
        "\n",
        "df3.review_body = df3.review_body.apply(stem_txt)\n",
        "df3.review_body[0]"
      ]
    },
    {
      "cell_type": "code",
      "execution_count": 41,
      "metadata": {
        "colab": {
          "base_uri": "https://localhost:8080/",
          "height": 206
        },
        "id": "E8D-SQBI0Vg_",
        "outputId": "b098490b-847e-47ea-f00b-3e427d19a045"
      },
      "outputs": [
        {
          "output_type": "execute_result",
          "data": {
            "text/plain": [
              "   index        reviewer_name  \\\n",
              "0      0        Genuine buyer   \n",
              "1      1       CHETAN SHETTER   \n",
              "2      2        Kiran Kumar M   \n",
              "3      3            Raj Patel   \n",
              "4      4  SANJAY KUMAR TIWARI   \n",
              "\n",
              "                                               title  \\\n",
              "0                                      Pros and cons   \n",
              "1  Never Expected in this price range... I Assure...   \n",
              "2  Bass bastler, Awesome HD quality sound, rockin...   \n",
              "3                        Maybe buy boat basshead 100   \n",
              "4     Superb head stereo better than leading brands.   \n",
              "\n",
              "                                         review_body       review_rating  \n",
              "0  great qualiti sound actual great pros1 hd soun...  5.0 out of 5 stars  \n",
              "1  use past 6 month actual earphon search realli ...  5.0 out of 5 stars  \n",
              "2  perfect bass nice one superb sound nois cancel...  5.0 out of 5 stars  \n",
              "3  review 1 week usepro 1 best build qualiti even...  4.0 out of 5 stars  \n",
              "4  purchas see review suspicion may result stupid...  5.0 out of 5 stars  "
            ],
            "text/html": [
              "\n",
              "  <div id=\"df-5ffc9cfe-3189-4ff5-a824-6ddead76b0b6\">\n",
              "    <div class=\"colab-df-container\">\n",
              "      <div>\n",
              "<style scoped>\n",
              "    .dataframe tbody tr th:only-of-type {\n",
              "        vertical-align: middle;\n",
              "    }\n",
              "\n",
              "    .dataframe tbody tr th {\n",
              "        vertical-align: top;\n",
              "    }\n",
              "\n",
              "    .dataframe thead th {\n",
              "        text-align: right;\n",
              "    }\n",
              "</style>\n",
              "<table border=\"1\" class=\"dataframe\">\n",
              "  <thead>\n",
              "    <tr style=\"text-align: right;\">\n",
              "      <th></th>\n",
              "      <th>index</th>\n",
              "      <th>reviewer_name</th>\n",
              "      <th>title</th>\n",
              "      <th>review_body</th>\n",
              "      <th>review_rating</th>\n",
              "    </tr>\n",
              "  </thead>\n",
              "  <tbody>\n",
              "    <tr>\n",
              "      <th>0</th>\n",
              "      <td>0</td>\n",
              "      <td>Genuine buyer</td>\n",
              "      <td>Pros and cons</td>\n",
              "      <td>great qualiti sound actual great pros1 hd soun...</td>\n",
              "      <td>5.0 out of 5 stars</td>\n",
              "    </tr>\n",
              "    <tr>\n",
              "      <th>1</th>\n",
              "      <td>1</td>\n",
              "      <td>CHETAN SHETTER</td>\n",
              "      <td>Never Expected in this price range... I Assure...</td>\n",
              "      <td>use past 6 month actual earphon search realli ...</td>\n",
              "      <td>5.0 out of 5 stars</td>\n",
              "    </tr>\n",
              "    <tr>\n",
              "      <th>2</th>\n",
              "      <td>2</td>\n",
              "      <td>Kiran Kumar M</td>\n",
              "      <td>Bass bastler, Awesome HD quality sound, rockin...</td>\n",
              "      <td>perfect bass nice one superb sound nois cancel...</td>\n",
              "      <td>5.0 out of 5 stars</td>\n",
              "    </tr>\n",
              "    <tr>\n",
              "      <th>3</th>\n",
              "      <td>3</td>\n",
              "      <td>Raj Patel</td>\n",
              "      <td>Maybe buy boat basshead 100</td>\n",
              "      <td>review 1 week usepro 1 best build qualiti even...</td>\n",
              "      <td>4.0 out of 5 stars</td>\n",
              "    </tr>\n",
              "    <tr>\n",
              "      <th>4</th>\n",
              "      <td>4</td>\n",
              "      <td>SANJAY KUMAR TIWARI</td>\n",
              "      <td>Superb head stereo better than leading brands.</td>\n",
              "      <td>purchas see review suspicion may result stupid...</td>\n",
              "      <td>5.0 out of 5 stars</td>\n",
              "    </tr>\n",
              "  </tbody>\n",
              "</table>\n",
              "</div>\n",
              "      <button class=\"colab-df-convert\" onclick=\"convertToInteractive('df-5ffc9cfe-3189-4ff5-a824-6ddead76b0b6')\"\n",
              "              title=\"Convert this dataframe to an interactive table.\"\n",
              "              style=\"display:none;\">\n",
              "        \n",
              "  <svg xmlns=\"http://www.w3.org/2000/svg\" height=\"24px\"viewBox=\"0 0 24 24\"\n",
              "       width=\"24px\">\n",
              "    <path d=\"M0 0h24v24H0V0z\" fill=\"none\"/>\n",
              "    <path d=\"M18.56 5.44l.94 2.06.94-2.06 2.06-.94-2.06-.94-.94-2.06-.94 2.06-2.06.94zm-11 1L8.5 8.5l.94-2.06 2.06-.94-2.06-.94L8.5 2.5l-.94 2.06-2.06.94zm10 10l.94 2.06.94-2.06 2.06-.94-2.06-.94-.94-2.06-.94 2.06-2.06.94z\"/><path d=\"M17.41 7.96l-1.37-1.37c-.4-.4-.92-.59-1.43-.59-.52 0-1.04.2-1.43.59L10.3 9.45l-7.72 7.72c-.78.78-.78 2.05 0 2.83L4 21.41c.39.39.9.59 1.41.59.51 0 1.02-.2 1.41-.59l7.78-7.78 2.81-2.81c.8-.78.8-2.07 0-2.86zM5.41 20L4 18.59l7.72-7.72 1.47 1.35L5.41 20z\"/>\n",
              "  </svg>\n",
              "      </button>\n",
              "      \n",
              "  <style>\n",
              "    .colab-df-container {\n",
              "      display:flex;\n",
              "      flex-wrap:wrap;\n",
              "      gap: 12px;\n",
              "    }\n",
              "\n",
              "    .colab-df-convert {\n",
              "      background-color: #E8F0FE;\n",
              "      border: none;\n",
              "      border-radius: 50%;\n",
              "      cursor: pointer;\n",
              "      display: none;\n",
              "      fill: #1967D2;\n",
              "      height: 32px;\n",
              "      padding: 0 0 0 0;\n",
              "      width: 32px;\n",
              "    }\n",
              "\n",
              "    .colab-df-convert:hover {\n",
              "      background-color: #E2EBFA;\n",
              "      box-shadow: 0px 1px 2px rgba(60, 64, 67, 0.3), 0px 1px 3px 1px rgba(60, 64, 67, 0.15);\n",
              "      fill: #174EA6;\n",
              "    }\n",
              "\n",
              "    [theme=dark] .colab-df-convert {\n",
              "      background-color: #3B4455;\n",
              "      fill: #D2E3FC;\n",
              "    }\n",
              "\n",
              "    [theme=dark] .colab-df-convert:hover {\n",
              "      background-color: #434B5C;\n",
              "      box-shadow: 0px 1px 3px 1px rgba(0, 0, 0, 0.15);\n",
              "      filter: drop-shadow(0px 1px 2px rgba(0, 0, 0, 0.3));\n",
              "      fill: #FFFFFF;\n",
              "    }\n",
              "  </style>\n",
              "\n",
              "      <script>\n",
              "        const buttonEl =\n",
              "          document.querySelector('#df-5ffc9cfe-3189-4ff5-a824-6ddead76b0b6 button.colab-df-convert');\n",
              "        buttonEl.style.display =\n",
              "          google.colab.kernel.accessAllowed ? 'block' : 'none';\n",
              "\n",
              "        async function convertToInteractive(key) {\n",
              "          const element = document.querySelector('#df-5ffc9cfe-3189-4ff5-a824-6ddead76b0b6');\n",
              "          const dataTable =\n",
              "            await google.colab.kernel.invokeFunction('convertToInteractive',\n",
              "                                                     [key], {});\n",
              "          if (!dataTable) return;\n",
              "\n",
              "          const docLinkHtml = 'Like what you see? Visit the ' +\n",
              "            '<a target=\"_blank\" href=https://colab.research.google.com/notebooks/data_table.ipynb>data table notebook</a>'\n",
              "            + ' to learn more about interactive tables.';\n",
              "          element.innerHTML = '';\n",
              "          dataTable['output_type'] = 'display_data';\n",
              "          await google.colab.output.renderOutput(dataTable, element);\n",
              "          const docLink = document.createElement('div');\n",
              "          docLink.innerHTML = docLinkHtml;\n",
              "          element.appendChild(docLink);\n",
              "        }\n",
              "      </script>\n",
              "    </div>\n",
              "  </div>\n",
              "  "
            ]
          },
          "metadata": {},
          "execution_count": 41
        }
      ],
      "source": [
        "#Creat a new data frame withoud laybor\n",
        "todrop = ['sentiment','Negativo']\n",
        "df4 = df3.drop(todrop, axis=1)\n",
        "df4.head()"
      ]
    },
    {
      "cell_type": "code",
      "execution_count": 42,
      "metadata": {
        "colab": {
          "base_uri": "https://localhost:8080/"
        },
        "id": "t4-6GpDyYHPq",
        "outputId": "055af776-77c9-4735-eef7-4cb3db500fdf"
      },
      "outputs": [
        {
          "output_type": "execute_result",
          "data": {
            "text/plain": [
              "Negativo\n",
              "0    0.851786\n",
              "1    0.148214\n",
              "Name: index, dtype: float64"
            ]
          },
          "metadata": {},
          "execution_count": 42
        }
      ],
      "source": [
        "#We found that the base is unbalanced with most positive ratings\n",
        "sentiment_prop = df3.groupby('Negativo')['index'].count()/len(df3)\n",
        "sentiment_prop"
      ]
    },
    {
      "cell_type": "code",
      "execution_count": 43,
      "metadata": {
        "colab": {
          "base_uri": "https://localhost:8080/",
          "height": 423
        },
        "id": "VsfCcC9uuUoA",
        "outputId": "c7c9d408-bf68-435a-f4e2-9b6fae2ca911"
      },
      "outputs": [
        {
          "output_type": "execute_result",
          "data": {
            "text/plain": [
              "        index     reviewer_name  \\\n",
              "0      268917             Vikas   \n",
              "1      284534   Amazon Customer   \n",
              "2      137574         Mihir Das   \n",
              "3      242698    Surendra Singh   \n",
              "4       59577                FJ   \n",
              "...       ...               ...   \n",
              "79995  171013  Nandini Yamdagni   \n",
              "79996  231557   Amazon Customer   \n",
              "79997  162323          Aritra M   \n",
              "79998  149195            Nikesh   \n",
              "79999  236887      Mandip Singh   \n",
              "\n",
              "                                                   title  \\\n",
              "0                                           Good product   \n",
              "1                                        Best for 🚗 vent   \n",
              "2                                           Good to go 👍   \n",
              "3      Bass quality and noise cancellation are batter...   \n",
              "4                                           Good product   \n",
              "...                                                  ...   \n",
              "79995                          Perfect vin budget gadget   \n",
              "79996                                         Superb !!!   \n",
              "79997                         Good Product on this price   \n",
              "79998                        Satisfied with this product   \n",
              "79999                                      Great Product   \n",
              "\n",
              "                                             review_body       review_rating  \\\n",
              "0      sound qualiti nois cancel bass qualiti good va...  5.0 out of 5 stars   \n",
              "1                                                   good  5.0 out of 5 stars   \n",
              "2      deliv today use hr sound qualiti seem ok good ...  4.0 out of 5 stars   \n",
              "3      sound qualiti batteri life realli goodi happi ...  5.0 out of 5 stars   \n",
              "4                                                   good  5.0 out of 5 stars   \n",
              "...                                                  ...                 ...   \n",
              "79995                                        sister love  5.0 out of 5 stars   \n",
              "79996                                    best charg wire  5.0 out of 5 stars   \n",
              "79997                                       good product  5.0 out of 5 stars   \n",
              "79998  build good sound good bass medium case charg e...  5.0 out of 5 stars   \n",
              "79999  excel product help record video differ purpos ...  5.0 out of 5 stars   \n",
              "\n",
              "      sentiment  Negativo  \n",
              "0      positive         0  \n",
              "1      positive         0  \n",
              "2      positive         0  \n",
              "3      positive         0  \n",
              "4      positive         0  \n",
              "...         ...       ...  \n",
              "79995  positive         0  \n",
              "79996  positive         0  \n",
              "79997  positive         0  \n",
              "79998  positive         0  \n",
              "79999  positive         0  \n",
              "\n",
              "[80000 rows x 7 columns]"
            ],
            "text/html": [
              "\n",
              "  <div id=\"df-f1bf13ee-5abb-4f8e-a54d-0ea136b71bed\">\n",
              "    <div class=\"colab-df-container\">\n",
              "      <div>\n",
              "<style scoped>\n",
              "    .dataframe tbody tr th:only-of-type {\n",
              "        vertical-align: middle;\n",
              "    }\n",
              "\n",
              "    .dataframe tbody tr th {\n",
              "        vertical-align: top;\n",
              "    }\n",
              "\n",
              "    .dataframe thead th {\n",
              "        text-align: right;\n",
              "    }\n",
              "</style>\n",
              "<table border=\"1\" class=\"dataframe\">\n",
              "  <thead>\n",
              "    <tr style=\"text-align: right;\">\n",
              "      <th></th>\n",
              "      <th>index</th>\n",
              "      <th>reviewer_name</th>\n",
              "      <th>title</th>\n",
              "      <th>review_body</th>\n",
              "      <th>review_rating</th>\n",
              "      <th>sentiment</th>\n",
              "      <th>Negativo</th>\n",
              "    </tr>\n",
              "  </thead>\n",
              "  <tbody>\n",
              "    <tr>\n",
              "      <th>0</th>\n",
              "      <td>268917</td>\n",
              "      <td>Vikas</td>\n",
              "      <td>Good product</td>\n",
              "      <td>sound qualiti nois cancel bass qualiti good va...</td>\n",
              "      <td>5.0 out of 5 stars</td>\n",
              "      <td>positive</td>\n",
              "      <td>0</td>\n",
              "    </tr>\n",
              "    <tr>\n",
              "      <th>1</th>\n",
              "      <td>284534</td>\n",
              "      <td>Amazon Customer</td>\n",
              "      <td>Best for 🚗 vent</td>\n",
              "      <td>good</td>\n",
              "      <td>5.0 out of 5 stars</td>\n",
              "      <td>positive</td>\n",
              "      <td>0</td>\n",
              "    </tr>\n",
              "    <tr>\n",
              "      <th>2</th>\n",
              "      <td>137574</td>\n",
              "      <td>Mihir Das</td>\n",
              "      <td>Good to go 👍</td>\n",
              "      <td>deliv today use hr sound qualiti seem ok good ...</td>\n",
              "      <td>4.0 out of 5 stars</td>\n",
              "      <td>positive</td>\n",
              "      <td>0</td>\n",
              "    </tr>\n",
              "    <tr>\n",
              "      <th>3</th>\n",
              "      <td>242698</td>\n",
              "      <td>Surendra Singh</td>\n",
              "      <td>Bass quality and noise cancellation are batter...</td>\n",
              "      <td>sound qualiti batteri life realli goodi happi ...</td>\n",
              "      <td>5.0 out of 5 stars</td>\n",
              "      <td>positive</td>\n",
              "      <td>0</td>\n",
              "    </tr>\n",
              "    <tr>\n",
              "      <th>4</th>\n",
              "      <td>59577</td>\n",
              "      <td>FJ</td>\n",
              "      <td>Good product</td>\n",
              "      <td>good</td>\n",
              "      <td>5.0 out of 5 stars</td>\n",
              "      <td>positive</td>\n",
              "      <td>0</td>\n",
              "    </tr>\n",
              "    <tr>\n",
              "      <th>...</th>\n",
              "      <td>...</td>\n",
              "      <td>...</td>\n",
              "      <td>...</td>\n",
              "      <td>...</td>\n",
              "      <td>...</td>\n",
              "      <td>...</td>\n",
              "      <td>...</td>\n",
              "    </tr>\n",
              "    <tr>\n",
              "      <th>79995</th>\n",
              "      <td>171013</td>\n",
              "      <td>Nandini Yamdagni</td>\n",
              "      <td>Perfect vin budget gadget</td>\n",
              "      <td>sister love</td>\n",
              "      <td>5.0 out of 5 stars</td>\n",
              "      <td>positive</td>\n",
              "      <td>0</td>\n",
              "    </tr>\n",
              "    <tr>\n",
              "      <th>79996</th>\n",
              "      <td>231557</td>\n",
              "      <td>Amazon Customer</td>\n",
              "      <td>Superb !!!</td>\n",
              "      <td>best charg wire</td>\n",
              "      <td>5.0 out of 5 stars</td>\n",
              "      <td>positive</td>\n",
              "      <td>0</td>\n",
              "    </tr>\n",
              "    <tr>\n",
              "      <th>79997</th>\n",
              "      <td>162323</td>\n",
              "      <td>Aritra M</td>\n",
              "      <td>Good Product on this price</td>\n",
              "      <td>good product</td>\n",
              "      <td>5.0 out of 5 stars</td>\n",
              "      <td>positive</td>\n",
              "      <td>0</td>\n",
              "    </tr>\n",
              "    <tr>\n",
              "      <th>79998</th>\n",
              "      <td>149195</td>\n",
              "      <td>Nikesh</td>\n",
              "      <td>Satisfied with this product</td>\n",
              "      <td>build good sound good bass medium case charg e...</td>\n",
              "      <td>5.0 out of 5 stars</td>\n",
              "      <td>positive</td>\n",
              "      <td>0</td>\n",
              "    </tr>\n",
              "    <tr>\n",
              "      <th>79999</th>\n",
              "      <td>236887</td>\n",
              "      <td>Mandip Singh</td>\n",
              "      <td>Great Product</td>\n",
              "      <td>excel product help record video differ purpos ...</td>\n",
              "      <td>5.0 out of 5 stars</td>\n",
              "      <td>positive</td>\n",
              "      <td>0</td>\n",
              "    </tr>\n",
              "  </tbody>\n",
              "</table>\n",
              "<p>80000 rows × 7 columns</p>\n",
              "</div>\n",
              "      <button class=\"colab-df-convert\" onclick=\"convertToInteractive('df-f1bf13ee-5abb-4f8e-a54d-0ea136b71bed')\"\n",
              "              title=\"Convert this dataframe to an interactive table.\"\n",
              "              style=\"display:none;\">\n",
              "        \n",
              "  <svg xmlns=\"http://www.w3.org/2000/svg\" height=\"24px\"viewBox=\"0 0 24 24\"\n",
              "       width=\"24px\">\n",
              "    <path d=\"M0 0h24v24H0V0z\" fill=\"none\"/>\n",
              "    <path d=\"M18.56 5.44l.94 2.06.94-2.06 2.06-.94-2.06-.94-.94-2.06-.94 2.06-2.06.94zm-11 1L8.5 8.5l.94-2.06 2.06-.94-2.06-.94L8.5 2.5l-.94 2.06-2.06.94zm10 10l.94 2.06.94-2.06 2.06-.94-2.06-.94-.94-2.06-.94 2.06-2.06.94z\"/><path d=\"M17.41 7.96l-1.37-1.37c-.4-.4-.92-.59-1.43-.59-.52 0-1.04.2-1.43.59L10.3 9.45l-7.72 7.72c-.78.78-.78 2.05 0 2.83L4 21.41c.39.39.9.59 1.41.59.51 0 1.02-.2 1.41-.59l7.78-7.78 2.81-2.81c.8-.78.8-2.07 0-2.86zM5.41 20L4 18.59l7.72-7.72 1.47 1.35L5.41 20z\"/>\n",
              "  </svg>\n",
              "      </button>\n",
              "      \n",
              "  <style>\n",
              "    .colab-df-container {\n",
              "      display:flex;\n",
              "      flex-wrap:wrap;\n",
              "      gap: 12px;\n",
              "    }\n",
              "\n",
              "    .colab-df-convert {\n",
              "      background-color: #E8F0FE;\n",
              "      border: none;\n",
              "      border-radius: 50%;\n",
              "      cursor: pointer;\n",
              "      display: none;\n",
              "      fill: #1967D2;\n",
              "      height: 32px;\n",
              "      padding: 0 0 0 0;\n",
              "      width: 32px;\n",
              "    }\n",
              "\n",
              "    .colab-df-convert:hover {\n",
              "      background-color: #E2EBFA;\n",
              "      box-shadow: 0px 1px 2px rgba(60, 64, 67, 0.3), 0px 1px 3px 1px rgba(60, 64, 67, 0.15);\n",
              "      fill: #174EA6;\n",
              "    }\n",
              "\n",
              "    [theme=dark] .colab-df-convert {\n",
              "      background-color: #3B4455;\n",
              "      fill: #D2E3FC;\n",
              "    }\n",
              "\n",
              "    [theme=dark] .colab-df-convert:hover {\n",
              "      background-color: #434B5C;\n",
              "      box-shadow: 0px 1px 3px 1px rgba(0, 0, 0, 0.15);\n",
              "      filter: drop-shadow(0px 1px 2px rgba(0, 0, 0, 0.3));\n",
              "      fill: #FFFFFF;\n",
              "    }\n",
              "  </style>\n",
              "\n",
              "      <script>\n",
              "        const buttonEl =\n",
              "          document.querySelector('#df-f1bf13ee-5abb-4f8e-a54d-0ea136b71bed button.colab-df-convert');\n",
              "        buttonEl.style.display =\n",
              "          google.colab.kernel.accessAllowed ? 'block' : 'none';\n",
              "\n",
              "        async function convertToInteractive(key) {\n",
              "          const element = document.querySelector('#df-f1bf13ee-5abb-4f8e-a54d-0ea136b71bed');\n",
              "          const dataTable =\n",
              "            await google.colab.kernel.invokeFunction('convertToInteractive',\n",
              "                                                     [key], {});\n",
              "          if (!dataTable) return;\n",
              "\n",
              "          const docLinkHtml = 'Like what you see? Visit the ' +\n",
              "            '<a target=\"_blank\" href=https://colab.research.google.com/notebooks/data_table.ipynb>data table notebook</a>'\n",
              "            + ' to learn more about interactive tables.';\n",
              "          element.innerHTML = '';\n",
              "          dataTable['output_type'] = 'display_data';\n",
              "          await google.colab.output.renderOutput(dataTable, element);\n",
              "          const docLink = document.createElement('div');\n",
              "          docLink.innerHTML = docLinkHtml;\n",
              "          element.appendChild(docLink);\n",
              "        }\n",
              "      </script>\n",
              "    </div>\n",
              "  </div>\n",
              "  "
            ]
          },
          "metadata": {},
          "execution_count": 43
        }
      ],
      "source": [
        "#Criamos data base com menor observação para analise preliminares de modelos \n",
        "df6 = df3.copy()\n",
        "df6 = df6.sample(80000)\n",
        "df6.reset_index(drop=True, inplace=True)\n",
        "df6"
      ]
    },
    {
      "cell_type": "code",
      "execution_count": 44,
      "metadata": {
        "colab": {
          "base_uri": "https://localhost:8080/",
          "height": 423
        },
        "id": "6GqlTVL3pEQ9",
        "outputId": "dbf54d51-ec21-4086-8bc9-ba9a52efac1b"
      },
      "outputs": [
        {
          "output_type": "execute_result",
          "data": {
            "text/plain": [
              "          reviewer_name                                              title  \\\n",
              "0                 Vikas                                       Good product   \n",
              "1       Amazon Customer                                    Best for 🚗 vent   \n",
              "2             Mihir Das                                       Good to go 👍   \n",
              "3        Surendra Singh  Bass quality and noise cancellation are batter...   \n",
              "4                    FJ                                       Good product   \n",
              "...                 ...                                                ...   \n",
              "79995  Nandini Yamdagni                          Perfect vin budget gadget   \n",
              "79996   Amazon Customer                                         Superb !!!   \n",
              "79997          Aritra M                         Good Product on this price   \n",
              "79998            Nikesh                        Satisfied with this product   \n",
              "79999      Mandip Singh                                      Great Product   \n",
              "\n",
              "                                             review_body       review_rating  \\\n",
              "0      sound qualiti nois cancel bass qualiti good va...  5.0 out of 5 stars   \n",
              "1                                                   good  5.0 out of 5 stars   \n",
              "2      deliv today use hr sound qualiti seem ok good ...  4.0 out of 5 stars   \n",
              "3      sound qualiti batteri life realli goodi happi ...  5.0 out of 5 stars   \n",
              "4                                                   good  5.0 out of 5 stars   \n",
              "...                                                  ...                 ...   \n",
              "79995                                        sister love  5.0 out of 5 stars   \n",
              "79996                                    best charg wire  5.0 out of 5 stars   \n",
              "79997                                       good product  5.0 out of 5 stars   \n",
              "79998  build good sound good bass medium case charg e...  5.0 out of 5 stars   \n",
              "79999  excel product help record video differ purpos ...  5.0 out of 5 stars   \n",
              "\n",
              "      sentiment  Negativo  \n",
              "0      positive         0  \n",
              "1      positive         0  \n",
              "2      positive         0  \n",
              "3      positive         0  \n",
              "4      positive         0  \n",
              "...         ...       ...  \n",
              "79995  positive         0  \n",
              "79996  positive         0  \n",
              "79997  positive         0  \n",
              "79998  positive         0  \n",
              "79999  positive         0  \n",
              "\n",
              "[80000 rows x 6 columns]"
            ],
            "text/html": [
              "\n",
              "  <div id=\"df-77f99905-020e-4062-bc1f-93a17c4ac97c\">\n",
              "    <div class=\"colab-df-container\">\n",
              "      <div>\n",
              "<style scoped>\n",
              "    .dataframe tbody tr th:only-of-type {\n",
              "        vertical-align: middle;\n",
              "    }\n",
              "\n",
              "    .dataframe tbody tr th {\n",
              "        vertical-align: top;\n",
              "    }\n",
              "\n",
              "    .dataframe thead th {\n",
              "        text-align: right;\n",
              "    }\n",
              "</style>\n",
              "<table border=\"1\" class=\"dataframe\">\n",
              "  <thead>\n",
              "    <tr style=\"text-align: right;\">\n",
              "      <th></th>\n",
              "      <th>reviewer_name</th>\n",
              "      <th>title</th>\n",
              "      <th>review_body</th>\n",
              "      <th>review_rating</th>\n",
              "      <th>sentiment</th>\n",
              "      <th>Negativo</th>\n",
              "    </tr>\n",
              "  </thead>\n",
              "  <tbody>\n",
              "    <tr>\n",
              "      <th>0</th>\n",
              "      <td>Vikas</td>\n",
              "      <td>Good product</td>\n",
              "      <td>sound qualiti nois cancel bass qualiti good va...</td>\n",
              "      <td>5.0 out of 5 stars</td>\n",
              "      <td>positive</td>\n",
              "      <td>0</td>\n",
              "    </tr>\n",
              "    <tr>\n",
              "      <th>1</th>\n",
              "      <td>Amazon Customer</td>\n",
              "      <td>Best for 🚗 vent</td>\n",
              "      <td>good</td>\n",
              "      <td>5.0 out of 5 stars</td>\n",
              "      <td>positive</td>\n",
              "      <td>0</td>\n",
              "    </tr>\n",
              "    <tr>\n",
              "      <th>2</th>\n",
              "      <td>Mihir Das</td>\n",
              "      <td>Good to go 👍</td>\n",
              "      <td>deliv today use hr sound qualiti seem ok good ...</td>\n",
              "      <td>4.0 out of 5 stars</td>\n",
              "      <td>positive</td>\n",
              "      <td>0</td>\n",
              "    </tr>\n",
              "    <tr>\n",
              "      <th>3</th>\n",
              "      <td>Surendra Singh</td>\n",
              "      <td>Bass quality and noise cancellation are batter...</td>\n",
              "      <td>sound qualiti batteri life realli goodi happi ...</td>\n",
              "      <td>5.0 out of 5 stars</td>\n",
              "      <td>positive</td>\n",
              "      <td>0</td>\n",
              "    </tr>\n",
              "    <tr>\n",
              "      <th>4</th>\n",
              "      <td>FJ</td>\n",
              "      <td>Good product</td>\n",
              "      <td>good</td>\n",
              "      <td>5.0 out of 5 stars</td>\n",
              "      <td>positive</td>\n",
              "      <td>0</td>\n",
              "    </tr>\n",
              "    <tr>\n",
              "      <th>...</th>\n",
              "      <td>...</td>\n",
              "      <td>...</td>\n",
              "      <td>...</td>\n",
              "      <td>...</td>\n",
              "      <td>...</td>\n",
              "      <td>...</td>\n",
              "    </tr>\n",
              "    <tr>\n",
              "      <th>79995</th>\n",
              "      <td>Nandini Yamdagni</td>\n",
              "      <td>Perfect vin budget gadget</td>\n",
              "      <td>sister love</td>\n",
              "      <td>5.0 out of 5 stars</td>\n",
              "      <td>positive</td>\n",
              "      <td>0</td>\n",
              "    </tr>\n",
              "    <tr>\n",
              "      <th>79996</th>\n",
              "      <td>Amazon Customer</td>\n",
              "      <td>Superb !!!</td>\n",
              "      <td>best charg wire</td>\n",
              "      <td>5.0 out of 5 stars</td>\n",
              "      <td>positive</td>\n",
              "      <td>0</td>\n",
              "    </tr>\n",
              "    <tr>\n",
              "      <th>79997</th>\n",
              "      <td>Aritra M</td>\n",
              "      <td>Good Product on this price</td>\n",
              "      <td>good product</td>\n",
              "      <td>5.0 out of 5 stars</td>\n",
              "      <td>positive</td>\n",
              "      <td>0</td>\n",
              "    </tr>\n",
              "    <tr>\n",
              "      <th>79998</th>\n",
              "      <td>Nikesh</td>\n",
              "      <td>Satisfied with this product</td>\n",
              "      <td>build good sound good bass medium case charg e...</td>\n",
              "      <td>5.0 out of 5 stars</td>\n",
              "      <td>positive</td>\n",
              "      <td>0</td>\n",
              "    </tr>\n",
              "    <tr>\n",
              "      <th>79999</th>\n",
              "      <td>Mandip Singh</td>\n",
              "      <td>Great Product</td>\n",
              "      <td>excel product help record video differ purpos ...</td>\n",
              "      <td>5.0 out of 5 stars</td>\n",
              "      <td>positive</td>\n",
              "      <td>0</td>\n",
              "    </tr>\n",
              "  </tbody>\n",
              "</table>\n",
              "<p>80000 rows × 6 columns</p>\n",
              "</div>\n",
              "      <button class=\"colab-df-convert\" onclick=\"convertToInteractive('df-77f99905-020e-4062-bc1f-93a17c4ac97c')\"\n",
              "              title=\"Convert this dataframe to an interactive table.\"\n",
              "              style=\"display:none;\">\n",
              "        \n",
              "  <svg xmlns=\"http://www.w3.org/2000/svg\" height=\"24px\"viewBox=\"0 0 24 24\"\n",
              "       width=\"24px\">\n",
              "    <path d=\"M0 0h24v24H0V0z\" fill=\"none\"/>\n",
              "    <path d=\"M18.56 5.44l.94 2.06.94-2.06 2.06-.94-2.06-.94-.94-2.06-.94 2.06-2.06.94zm-11 1L8.5 8.5l.94-2.06 2.06-.94-2.06-.94L8.5 2.5l-.94 2.06-2.06.94zm10 10l.94 2.06.94-2.06 2.06-.94-2.06-.94-.94-2.06-.94 2.06-2.06.94z\"/><path d=\"M17.41 7.96l-1.37-1.37c-.4-.4-.92-.59-1.43-.59-.52 0-1.04.2-1.43.59L10.3 9.45l-7.72 7.72c-.78.78-.78 2.05 0 2.83L4 21.41c.39.39.9.59 1.41.59.51 0 1.02-.2 1.41-.59l7.78-7.78 2.81-2.81c.8-.78.8-2.07 0-2.86zM5.41 20L4 18.59l7.72-7.72 1.47 1.35L5.41 20z\"/>\n",
              "  </svg>\n",
              "      </button>\n",
              "      \n",
              "  <style>\n",
              "    .colab-df-container {\n",
              "      display:flex;\n",
              "      flex-wrap:wrap;\n",
              "      gap: 12px;\n",
              "    }\n",
              "\n",
              "    .colab-df-convert {\n",
              "      background-color: #E8F0FE;\n",
              "      border: none;\n",
              "      border-radius: 50%;\n",
              "      cursor: pointer;\n",
              "      display: none;\n",
              "      fill: #1967D2;\n",
              "      height: 32px;\n",
              "      padding: 0 0 0 0;\n",
              "      width: 32px;\n",
              "    }\n",
              "\n",
              "    .colab-df-convert:hover {\n",
              "      background-color: #E2EBFA;\n",
              "      box-shadow: 0px 1px 2px rgba(60, 64, 67, 0.3), 0px 1px 3px 1px rgba(60, 64, 67, 0.15);\n",
              "      fill: #174EA6;\n",
              "    }\n",
              "\n",
              "    [theme=dark] .colab-df-convert {\n",
              "      background-color: #3B4455;\n",
              "      fill: #D2E3FC;\n",
              "    }\n",
              "\n",
              "    [theme=dark] .colab-df-convert:hover {\n",
              "      background-color: #434B5C;\n",
              "      box-shadow: 0px 1px 3px 1px rgba(0, 0, 0, 0.15);\n",
              "      filter: drop-shadow(0px 1px 2px rgba(0, 0, 0, 0.3));\n",
              "      fill: #FFFFFF;\n",
              "    }\n",
              "  </style>\n",
              "\n",
              "      <script>\n",
              "        const buttonEl =\n",
              "          document.querySelector('#df-77f99905-020e-4062-bc1f-93a17c4ac97c button.colab-df-convert');\n",
              "        buttonEl.style.display =\n",
              "          google.colab.kernel.accessAllowed ? 'block' : 'none';\n",
              "\n",
              "        async function convertToInteractive(key) {\n",
              "          const element = document.querySelector('#df-77f99905-020e-4062-bc1f-93a17c4ac97c');\n",
              "          const dataTable =\n",
              "            await google.colab.kernel.invokeFunction('convertToInteractive',\n",
              "                                                     [key], {});\n",
              "          if (!dataTable) return;\n",
              "\n",
              "          const docLinkHtml = 'Like what you see? Visit the ' +\n",
              "            '<a target=\"_blank\" href=https://colab.research.google.com/notebooks/data_table.ipynb>data table notebook</a>'\n",
              "            + ' to learn more about interactive tables.';\n",
              "          element.innerHTML = '';\n",
              "          dataTable['output_type'] = 'display_data';\n",
              "          await google.colab.output.renderOutput(dataTable, element);\n",
              "          const docLink = document.createElement('div');\n",
              "          docLink.innerHTML = docLinkHtml;\n",
              "          element.appendChild(docLink);\n",
              "        }\n",
              "      </script>\n",
              "    </div>\n",
              "  </div>\n",
              "  "
            ]
          },
          "metadata": {},
          "execution_count": 44
        }
      ],
      "source": [
        "del df6['index']\n",
        "df6"
      ]
    },
    {
      "cell_type": "markdown",
      "metadata": {
        "id": "lcwuyW6rj0fo",
        "outputId": "215c9ae6-74d2-4394-ef67-e9b8053fdbe5"
      },
      "source": [
        "**Separating test base from training base for n= 10000 da amostra**"
      ]
    },
    {
      "cell_type": "code",
      "execution_count": 45,
      "metadata": {
        "id": "BvKDtVpQmd-V"
      },
      "outputs": [],
      "source": [
        "from sklearn.model_selection import StratifiedShuffleSplit\n",
        "\n",
        "split = StratifiedShuffleSplit(n_splits=1, test_size=0.2)\n",
        "for train_index, test_index in split.split(df6, df6['Negativo']):\n",
        "    train_set = df6.loc[train_index]\n",
        "    test_set = df6.loc[test_index]"
      ]
    },
    {
      "cell_type": "code",
      "execution_count": 46,
      "metadata": {
        "id": "hEIlTHhtr30_"
      },
      "outputs": [],
      "source": [
        "#Utilizaremos essa linha de código para validação na amostra completa e desabilitaremos código anterior\n",
        "#from sklearn.model_selection import StratifiedShuffleSplit\n",
        "#split = StratifiedShuffleSplit(n_splits=1, test_size=0.2)\n",
        "#for train_index, test_index in split.split(df3, df3['Negativo']):\n",
        " #   train_set = df3.loc[train_index]\n",
        "#    test_set = df3.loc[test_index]"
      ]
    },
    {
      "cell_type": "code",
      "execution_count": 47,
      "metadata": {
        "colab": {
          "base_uri": "https://localhost:8080/"
        },
        "id": "mWbtIHr2Vh2r",
        "outputId": "0f40c200-bfd2-466b-d341-29d240c593b7"
      },
      "outputs": [
        {
          "output_type": "stream",
          "name": "stdout",
          "text": [
            "Treino: 64000\n",
            "Teste: 16000\n"
          ]
        }
      ],
      "source": [
        "print(f\"Treino: {len(train_set)}\\nTeste: {len(test_set)}\")"
      ]
    },
    {
      "cell_type": "code",
      "execution_count": 48,
      "metadata": {
        "id": "ama4R1oVnk-A"
      },
      "outputs": [],
      "source": [
        "#Definindo o X e Y da base\n",
        "train_setx = train_set.copy()\n",
        "test_setx = test_set.copy()\n",
        "xtrain = np.array(train_setx.drop('Negativo', axis=1, inplace=True))\n",
        "xtest = np.array(test_setx.drop('Negativo', axis=1, inplace=True))"
      ]
    },
    {
      "cell_type": "code",
      "execution_count": 49,
      "metadata": {
        "id": "yaUvh3Yu0VhA"
      },
      "outputs": [],
      "source": [
        "ytrain = np.array(train_set['Negativo'])\n",
        "ytest=np.array(test_set['Negativo'])"
      ]
    },
    {
      "cell_type": "code",
      "execution_count": 50,
      "metadata": {
        "colab": {
          "base_uri": "https://localhost:8080/"
        },
        "id": "qA8CNcOA0VhA",
        "outputId": "81214c4b-7cef-46f4-a99d-573404d296f0"
      },
      "outputs": [
        {
          "output_type": "stream",
          "name": "stdout",
          "text": [
            "X.shape =  (64000, 2000)\n",
            "y.shape =  (64000,)\n",
            "X.shape =  (16000, 2000)\n",
            "y.shape =  (16000,)\n"
          ]
        }
      ],
      "source": [
        "Xtest_reg = np.array(test_setx.iloc[:,2].values)\n",
        "Xtrain_reg = np.array(train_setx.iloc[:,2].values)\n",
        "ytrain = np.array(train_set.Negativo.values)\n",
        "ytest = np.array(test_set.Negativo.values)\n",
        "cv = CountVectorizer(max_features = 2000)\n",
        "Xtrain_reg = cv.fit_transform(train_setx.review_body).toarray()\n",
        "Xtest_reg = cv.fit_transform(test_setx.review_body).toarray()\n",
        "print(\"X.shape = \",Xtrain_reg.shape)\n",
        "print(\"y.shape = \",ytrain.shape)\n",
        "print(\"X.shape = \",Xtest_reg.shape)\n",
        "print(\"y.shape = \",ytest.shape)"
      ]
    },
    {
      "cell_type": "markdown",
      "metadata": {
        "id": "bW_g2zWF0VhB"
      },
      "source": [
        "**After identifying which basis is unbalanced, we will use Smote's technique that consists of generating synthetic (non-duplicated) data of the minority class from neighbors.**\n",
        "\n",
        "https://minerandodados.com.br/lidando-com-classes-desbalanceadas-machine-learning/"
      ]
    },
    {
      "cell_type": "code",
      "execution_count": 51,
      "metadata": {
        "id": "CehyR09f0VhB"
      },
      "outputs": [],
      "source": [
        "from imblearn.over_sampling import SMOTE\n",
        "smt = SMOTE()"
      ]
    },
    {
      "cell_type": "code",
      "execution_count": 52,
      "metadata": {
        "id": "Qzn2C3gJ0VhB"
      },
      "outputs": [],
      "source": [
        "X1_train_smote = Xtrain_reg\n",
        "Y1_train_smote = ytrain\n",
        "X1_test_smote = Xtest_reg\n",
        "Y1_test_smote= ytest\n",
        "X1_train_smote, Y1_train_smote = smt.fit_resample(X1_train_smote, Y1_train_smote)\n",
        "X1_test_smote, Y1_test_smote = smt.fit_resample(X1_test_smote, Y1_test_smote)"
      ]
    },
    {
      "cell_type": "code",
      "execution_count": 53,
      "metadata": {
        "colab": {
          "base_uri": "https://localhost:8080/"
        },
        "id": "rQ8dgKwb0VhF",
        "outputId": "7dda31bc-a422-40c3-9a95-1e134dbb6ace"
      },
      "outputs": [
        {
          "output_type": "execute_result",
          "data": {
            "text/plain": [
              "array([13650, 13650])"
            ]
          },
          "metadata": {},
          "execution_count": 53
        }
      ],
      "source": [
        "np.bincount(Y1_train_smote)\n",
        "np.bincount(Y1_test_smote)"
      ]
    },
    {
      "cell_type": "code",
      "execution_count": 54,
      "metadata": {
        "colab": {
          "base_uri": "https://localhost:8080/",
          "height": 320
        },
        "id": "Sg22OuAl0VhF",
        "outputId": "8c180444-aef6-48e2-f6db-da3cb10e5599"
      },
      "outputs": [
        {
          "output_type": "stream",
          "name": "stderr",
          "text": [
            "/usr/local/lib/python3.7/dist-packages/seaborn/_decorators.py:43: FutureWarning: Pass the following variable as a keyword arg: x. From version 0.12, the only valid positional argument will be `data`, and passing other arguments without an explicit keyword will result in an error or misinterpretation.\n",
            "  FutureWarning\n"
          ]
        },
        {
          "output_type": "display_data",
          "data": {
            "text/plain": [
              "<Figure size 432x288 with 1 Axes>"
            ],
            "image/png": "[encoded data removed]"
          },
          "metadata": {
            "needs_background": "light"
          }
        }
      ],
      "source": [
        "#import seaborn as sns\n",
        "ax = sns.countplot(Y1_train_smote)"
      ]
    },
    {
      "cell_type": "code",
      "execution_count": 55,
      "metadata": {
        "colab": {
          "base_uri": "https://localhost:8080/",
          "height": 320
        },
        "id": "iRYrC1kl0VhF",
        "outputId": "980abecf-f194-4629-acb1-60f1939f009f"
      },
      "outputs": [
        {
          "output_type": "stream",
          "name": "stderr",
          "text": [
            "/usr/local/lib/python3.7/dist-packages/seaborn/_decorators.py:43: FutureWarning: Pass the following variable as a keyword arg: x. From version 0.12, the only valid positional argument will be `data`, and passing other arguments without an explicit keyword will result in an error or misinterpretation.\n",
            "  FutureWarning\n"
          ]
        },
        {
          "output_type": "display_data",
          "data": {
            "text/plain": [
              "<Figure size 432x288 with 1 Axes>"
            ],
            "image/png": "[encoded data removed]"
          },
          "metadata": {
            "needs_background": "light"
          }
        }
      ],
      "source": [
        "#import seaborn as sns\n",
        "ax_test = sns.countplot(Y1_test_smote)"
      ]
    },
    {
      "cell_type": "markdown",
      "metadata": {
        "id": "-dKNigfLlUiT"
      },
      "source": [
        "**IV. Defining the models and Training them**\n",
        "==\n"
      ]
    },
    {
      "cell_type": "markdown",
      "metadata": {
        "id": "2442b4H90VhF"
      },
      "source": [
        "**Importing modules for evaluation of the models**\n",
        "\n"
      ]
    },
    {
      "cell_type": "code",
      "execution_count": 56,
      "metadata": {
        "id": "A26pBDPS0VhG"
      },
      "outputs": [],
      "source": [
        "from sklearn.metrics import confusion_matrix\n",
        "from sklearn.metrics import classification_report\n",
        "from sklearn.metrics import confusion_matrix\n",
        "from sklearn.metrics import roc_auc_score\n",
        "from sklearn.metrics import roc_curve\n",
        "from sklearn.metrics import auc\n",
        "from sklearn.metrics import accuracy_score\n",
        "from sklearn.metrics import average_precision_score\n",
        "from sklearn.metrics import f1_score\n",
        "from sklearn.metrics import precision_recall_curve"
      ]
    },
    {
      "cell_type": "code",
      "execution_count": 57,
      "metadata": {
        "id": "6PeiH27O0VhG"
      },
      "outputs": [],
      "source": [
        "#Criando funções para avaliação dos modelos\n",
        "def plot_confusion_matrix(cm, classes,\n",
        "                          normalize=False,\n",
        "                          title='Confusion matrix',\n",
        "                          cmap=plt.cm.Blues):\n",
        "    \"\"\"\n",
        "    This function prints and plots the confusion matrix.\n",
        "    Normalization can be applied by setting `normalize=True`.\n",
        "    \"\"\"\n",
        "    plt.figure(figsize=(8,8))\n",
        "    plt.imshow(cm, interpolation='nearest', cmap=cmap, aspect='auto')\n",
        "    plt.title(title)\n",
        "    plt.colorbar()\n",
        "    tick_marks = np.arange(len(classes))\n",
        "    plt.xticks(tick_marks, classes, rotation=45)\n",
        "    plt.yticks(tick_marks, classes)\n",
        "    \n",
        "    if normalize:\n",
        "        cm = cm.astype('float') / cm.sum(axis=1)[:, np.newaxis]\n",
        "        print(\"Normalized confusion matrix\")\n",
        "    else:\n",
        "        print('Confusion matrix, without normalization')\n",
        "\n",
        "    print(cm)\n",
        "\n",
        "    thresh = cm.max() / 2.\n",
        "    for i in range(cm.shape[0]):\n",
        "        for j in range(cm.shape[1]):\n",
        "            plt.text(j, i, cm[i, j],\n",
        "                 horizontalalignment=\"center\",\n",
        "                 color=\"white\" if cm[i, j] > thresh else \"black\")\n",
        "\n",
        "    plt.tight_layout()\n",
        "    plt.ylabel('True label')\n",
        "    plt.xlabel('Predicted label')\n",
        "    \n",
        "def clf_eval(clf, X, y_true, classes=['Positivo', 'Negativo']):\n",
        "    y_pred = clf.predict(X)\n",
        "    clf_matrix = confusion_matrix(y_true, y_pred)\n",
        "    print('Classification Report')\n",
        "    print(classification_report(y_true, y_pred, target_names=classes))\n",
        "    print('ROC Score: {}'.format(roc_auc_score(y_true, y_pred)))\n",
        "    print('Accuracy Score: {}'.format(accuracy_score(y_true, y_pred)))\n",
        "    print('Average Precision Score: {}'.format(average_precision_score(y_true, y_pred)))\n",
        "    print('f1 Score: {}'.format(f1_score(y_true, y_pred)))\n",
        "    plot_confusion_matrix(clf_matrix, classes=classes)\n",
        "    return roc_auc_score(y_true, y_pred)\n",
        "\n",
        "\n"
      ]
    },
    {
      "cell_type": "code",
      "execution_count": null,
      "metadata": {
        "colab": {
          "background_save": true
        },
        "id": "mzWJsxixp8lj"
      },
      "outputs": [],
      "source": [
        "#GridSeach para Modelo Gaussiano, para economizar poder computacional , nao rodamos \n",
        "#from sklearn.model_selection import GridSearchCV\n",
        "#param_grid1 = [{'var_smoothing': np.logspace(0,-9, num=100)}]\n",
        "#clf_gnb_gs = GaussianNB()\n",
        "#grid_search_clf_gnb_gs = GridSearchCV(clf_gnb_gs, param_grid1, cv=5,\n",
        "#                           scoring='recall')\n",
        "#grid_search_clf_gnb_gs.fit(X1_train_smote, Y1_train_smote)"
      ]
    },
    {
      "cell_type": "markdown",
      "metadata": {
        "id": "6-79tKLb0VhG"
      },
      "source": [
        "**Bayesian Classifiers**"
      ]
    },
    {
      "cell_type": "code",
      "execution_count": 58,
      "metadata": {
        "colab": {
          "base_uri": "https://localhost:8080/",
          "height": 894
        },
        "id": "BwPIFbjZ0VhG",
        "outputId": "ac256011-506c-4571-d304-04e188b7f367"
      },
      "outputs": [
        {
          "output_type": "stream",
          "name": "stdout",
          "text": [
            "Classification Report\n",
            "              precision    recall  f1-score   support\n",
            "\n",
            "    Positivo       0.60      0.89      0.72     13650\n",
            "    Negativo       0.78      0.41      0.53     13650\n",
            "\n",
            "    accuracy                           0.65     27300\n",
            "   macro avg       0.69      0.65      0.62     27300\n",
            "weighted avg       0.69      0.65      0.62     27300\n",
            "\n",
            "ROC Score: 0.6463369963369963\n",
            "Accuracy Score: 0.6463369963369964\n",
            "Average Precision Score: 0.6145426170903878\n",
            "f1 Score: 0.5339126237026309\n",
            "Confusion matrix, without normalization\n",
            "[[12115  1535]\n",
            " [ 8120  5530]]\n"
          ]
        },
        {
          "output_type": "display_data",
          "data": {
            "text/plain": [
              "<Figure size 576x576 with 2 Axes>"
            ],
            "image/png": "[encoded data removed]"
          },
          "metadata": {
            "needs_background": "light"
          }
        }
      ],
      "source": [
        "from sklearn.naive_bayes import GaussianNB\n",
        "\n",
        "clf_gnb = GaussianNB().fit(X1_train_smote, Y1_train_smote)\n",
        "\n",
        "roc_gnb = clf_eval(clf_gnb, X1_test_smote, Y1_test_smote)"
      ]
    },
    {
      "cell_type": "code",
      "execution_count": 59,
      "metadata": {
        "colab": {
          "base_uri": "https://localhost:8080/",
          "height": 894
        },
        "id": "q79Tmk0a0VhG",
        "outputId": "d277e9fb-0f89-48af-bc99-72473639432f"
      },
      "outputs": [
        {
          "output_type": "stream",
          "name": "stdout",
          "text": [
            "Classification Report\n",
            "              precision    recall  f1-score   support\n",
            "\n",
            "    Positivo       0.67      0.72      0.69     13650\n",
            "    Negativo       0.70      0.64      0.67     13650\n",
            "\n",
            "    accuracy                           0.68     27300\n",
            "   macro avg       0.68      0.68      0.68     27300\n",
            "weighted avg       0.68      0.68      0.68     27300\n",
            "\n",
            "ROC Score: 0.6812454212454212\n",
            "Accuracy Score: 0.6812454212454212\n",
            "Average Precision Score: 0.6261593386272417\n",
            "f1 Score: 0.6687223998781787\n",
            "Confusion matrix, without normalization\n",
            "[[9815 3835]\n",
            " [4867 8783]]\n"
          ]
        },
        {
          "output_type": "display_data",
          "data": {
            "text/plain": [
              "<Figure size 576x576 with 2 Axes>"
            ],
            "image/png": "[encoded data removed]"
          },
          "metadata": {
            "needs_background": "light"
          }
        }
      ],
      "source": [
        "from sklearn.naive_bayes import BernoulliNB\n",
        "\n",
        "clf_bnb = BernoulliNB(alpha=0.20, \n",
        "                     binarize=0.0, \n",
        "                     fit_prior=True, \n",
        "                     class_prior=None).fit(X1_train_smote, Y1_train_smote)\n",
        "\n",
        "roc_bnb = clf_eval(clf_bnb, X1_test_smote, Y1_test_smote)"
      ]
    },
    {
      "cell_type": "code",
      "execution_count": null,
      "metadata": {
        "colab": {
          "background_save": true
        },
        "id": "RQNil3sB0VhG"
      },
      "outputs": [],
      "source": [
        "#!pip install imblearn\n",
        "#!pip install scikit-learn\n"
      ]
    },
    {
      "cell_type": "code",
      "execution_count": 60,
      "metadata": {
        "colab": {
          "base_uri": "https://localhost:8080/"
        },
        "id": "_YsRgruc0VhH",
        "outputId": "0926065c-f63b-41ec-e1da-e872dc842aa0"
      },
      "outputs": [
        {
          "output_type": "stream",
          "name": "stderr",
          "text": [
            "/usr/local/lib/python3.7/dist-packages/sklearn/linear_model/_logistic.py:818: ConvergenceWarning: lbfgs failed to converge (status=1):\n",
            "STOP: TOTAL NO. of ITERATIONS REACHED LIMIT.\n",
            "\n",
            "Increase the number of iterations (max_iter) or scale the data as shown in:\n",
            "    https://scikit-learn.org/stable/modules/preprocessing.html\n",
            "Please also refer to the documentation for alternative solver options:\n",
            "    https://scikit-learn.org/stable/modules/linear_model.html#logistic-regression\n",
            "  extra_warning_msg=_LOGISTIC_SOLVER_CONVERGENCE_MSG,\n"
          ]
        }
      ],
      "source": [
        "#Modelo Regressão Linear\n",
        "from sklearn.linear_model import LogisticRegression\n",
        "from sklearn.metrics import recall_score\n",
        "lr = LogisticRegression(max_iter=200)\n",
        "clf_lr = lr.fit(X1_train_smote, Y1_train_smote)\n",
        "pred_train_lr_smote = clf_lr.predict(X1_train_smote)\n",
        "pred_train_lr_test_smote = clf_lr.predict(X1_test_smote)\n"
      ]
    },
    {
      "cell_type": "code",
      "execution_count": 62,
      "metadata": {
        "colab": {
          "base_uri": "https://localhost:8080/"
        },
        "id": "wFdS4wTH0VhH",
        "outputId": "0b07fe35-3155-4c6a-da3f-e9da5d9b5468"
      },
      "outputs": [
        {
          "output_type": "stream",
          "name": "stdout",
          "text": [
            "0.5878388278388278\n"
          ]
        }
      ],
      "source": [
        "print(recall_score(Y1_test_smote,pred_train_lr_test_smote))"
      ]
    },
    {
      "cell_type": "code",
      "execution_count": 61,
      "metadata": {
        "colab": {
          "base_uri": "https://localhost:8080/",
          "height": 894
        },
        "id": "nz-wAOOk0VhH",
        "outputId": "de3b685b-8136-4d4f-b594-316644cba6d9"
      },
      "outputs": [
        {
          "output_type": "stream",
          "name": "stdout",
          "text": [
            "Classification Report\n",
            "              precision    recall  f1-score   support\n",
            "\n",
            "    Positivo       0.60      0.61      0.60     13650\n",
            "    Negativo       0.60      0.59      0.59     13650\n",
            "\n",
            "    accuracy                           0.60     27300\n",
            "   macro avg       0.60      0.60      0.60     27300\n",
            "weighted avg       0.60      0.60      0.60     27300\n",
            "\n",
            "ROC Score: 0.5995604395604395\n",
            "Accuracy Score: 0.5995604395604396\n",
            "Average Precision Score: 0.5599304551412578\n",
            "f1 Score: 0.594810971089696\n",
            "Confusion matrix, without normalization\n",
            "[[8344 5306]\n",
            " [5626 8024]]\n"
          ]
        },
        {
          "output_type": "display_data",
          "data": {
            "text/plain": [
              "<Figure size 576x576 with 2 Axes>"
            ],
            "image/png": "[encoded data removed]"
          },
          "metadata": {
            "needs_background": "light"
          }
        }
      ],
      "source": [
        "roc_reg_lin = clf_eval(clf_lr, X1_test_smote, Y1_test_smote)"
      ]
    },
    {
      "cell_type": "code",
      "execution_count": null,
      "metadata": {
        "colab": {
          "background_save": true
        },
        "id": "TSYdU-vLzGGE"
      },
      "outputs": [],
      "source": [
        "#from sklearn.model_selection import GridSearchCV\n",
        "\n",
        "#param_grid = [\n",
        " #             {'learning_rate': [0.1, 0.05], 'n_estimators': [50, 100], \n",
        "  #             'max_depth': [19, 29]}\n",
        "#              ]\n",
        "#gb_clf_gscv = GradientBoostingClassifier()\n",
        "\n",
        "#grid_search_gb = GridSearchCV(gb_clf_gscv, param_grid, cv=5, return_train_score=True)\n",
        "\n",
        "#grid_search_gb.fit(X1_train_smote, Y1_train_smote)"
      ]
    },
    {
      "cell_type": "code",
      "execution_count": 63,
      "metadata": {
        "id": "arsc5QIp0VhH"
      },
      "outputs": [],
      "source": [
        "from sklearn.ensemble import GradientBoostingClassifier\n",
        "gb_clf = GradientBoostingClassifier()\n",
        "gb_clf_sa =gb_clf.fit(X1_train_smote, Y1_train_smote)\n",
        "pred_train_gb_clf = gb_clf_sa.predict(X1_train_smote)\n",
        "pred_test_gb_clf = gb_clf_sa.predict(X1_test_smote)\n"
      ]
    },
    {
      "cell_type": "code",
      "execution_count": null,
      "metadata": {
        "colab": {
          "background_save": true
        },
        "id": "69VjtcGH0ZqF"
      },
      "outputs": [],
      "source": [
        "#Rodando sem balanciamento para teste, nao performou bem no Recall\n",
        "#gb_clf_sembal = GradientBoostingClassifier()\n",
        "#gb_clf_sasembal =gb_clf_sembal.fit(Xtrain_reg, ytrain)\n",
        "#pred_train_gb_clfsembal = gb_clf_sasembal.predict(Xtrain_reg)\n",
        "#pred_test_gb_clfsembal = gb_clf_sasembal.predict(Xtest_reg)\n",
        "#roc_gb_sembal = clf_eval(gb_clf_sasembal, Xtest_reg, ytest)"
      ]
    },
    {
      "cell_type": "code",
      "execution_count": 64,
      "metadata": {
        "colab": {
          "base_uri": "https://localhost:8080/",
          "height": 894
        },
        "id": "hazfszm31oms",
        "outputId": "5e44c5c6-6d55-4ed8-874d-2916ed0fd1e3"
      },
      "outputs": [
        {
          "output_type": "stream",
          "name": "stdout",
          "text": [
            "Classification Report\n",
            "              precision    recall  f1-score   support\n",
            "\n",
            "    Positivo       0.76      0.08      0.14     13650\n",
            "    Negativo       0.51      0.98      0.67     13650\n",
            "\n",
            "    accuracy                           0.53     27300\n",
            "   macro avg       0.64      0.53      0.41     27300\n",
            "weighted avg       0.64      0.53      0.41     27300\n",
            "\n",
            "ROC Score: 0.5264102564102564\n",
            "Accuracy Score: 0.5264102564102564\n",
            "Average Precision Score: 0.5135725176489213\n",
            "f1 Score: 0.6732212814356123\n",
            "Confusion matrix, without normalization\n",
            "[[ 1053 12597]\n",
            " [  332 13318]]\n"
          ]
        },
        {
          "output_type": "display_data",
          "data": {
            "text/plain": [
              "<Figure size 576x576 with 2 Axes>"
            ],
            "image/png": "[encoded data removed]"
          },
          "metadata": {
            "needs_background": "light"
          }
        }
      ],
      "source": [
        "roc_gb = clf_eval(gb_clf_sa, X1_test_smote, Y1_test_smote)"
      ]
    },
    {
      "cell_type": "code",
      "execution_count": 66,
      "metadata": {
        "id": "dtioTmbU0VhI"
      },
      "outputs": [],
      "source": [
        "#Salvando modelo \n",
        "pickle.dump(gb_clf_sa,open('model1.pkl','wb'))"
      ]
    },
    {
      "cell_type": "code",
      "execution_count": 65,
      "metadata": {
        "colab": {
          "base_uri": "https://localhost:8080/"
        },
        "id": "Gl1ehy3a0VhI",
        "outputId": "947fb1b0-b7db-464a-93d7-0f0b3ec03ace"
      },
      "outputs": [
        {
          "output_type": "execute_result",
          "data": {
            "text/plain": [
              "array([1])"
            ]
          },
          "metadata": {},
          "execution_count": 65
        }
      ],
      "source": [
        "rev =  \"\"\"Terrible. Complete trash. Brainless tripe. Insulting to anyone who isn't an 8 year old fan boy. Im actually pretty disgusted that this movie is making the money it is - what does it say about the people who brainlessly hand over the hard earned cash to be 'entertained' in this fashion and then come here to leave a positive 8.8 review?? Oh yes, they are morons. Its the only sensible conclusion to draw. How anyone can rate this movie amongst the pantheon of great titles is beyond me.\n",
        "\n",
        "So trying to find something constructive to say about this title is hard...I enjoyed Iron Man? Tony Stark is an inspirational character in his own movies but here he is a pale shadow of that...About the only 'hook' this movie had into me was wondering when and if Iron Man would knock Captain America out...Oh how I wished he had :( What were these other characters anyways? Useless, bickering idiots who really couldn't organise happy times in a brewery. The film was a chaotic mish mash of action elements and failed 'set pieces'...\n",
        "\n",
        "I found the villain to be quite amusing.\n",
        "\n",
        "And now I give up. This movie is not robbing any more of my time but I felt I ought to contribute to restoring the obvious fake rating and reviews this movie has been getting on IMDb.\"\"\"\n",
        "f1 = clean(rev)\n",
        "f2 = is_special(f1)\n",
        "f3 = to_lower(f2)\n",
        "f4 = rem_stopwords(f3)\n",
        "f5 = stem_txt(f4)\n",
        "\n",
        "bow,words = [],word_tokenize(f5)\n",
        "for word in words:\n",
        "    bow.append(words.count(word))\n",
        "\n",
        "word_dict = cv.vocabulary_\n",
        "pickle.dump(word_dict,open('model1.pkl','wb'))\n",
        "\n",
        "inp = []\n",
        "for i in word_dict:\n",
        "    inp.append(f5.count(i[0]))\n",
        "y_pred = gb_clf_sa.predict(np.array(inp).reshape(1,2000))\n",
        "y_pred"
      ]
    },
    {
      "cell_type": "code",
      "execution_count": 67,
      "metadata": {
        "colab": {
          "base_uri": "https://localhost:8080/"
        },
        "id": "4WN-Dv5E0VhI",
        "outputId": "2321c947-46cb-46f7-d038-d6fe76499bcb"
      },
      "outputs": [
        {
          "output_type": "execute_result",
          "data": {
            "text/plain": [
              "array([1])"
            ]
          },
          "metadata": {},
          "execution_count": 67
        }
      ],
      "source": [
        "rev2 =  \"\"\"Best product I could have bought in my life. Undoubtedly, this product is incredible, I have no words to express my joy and satisfaction of having bought from this store. \n",
        "I was looking for a complete product and no doubt I found. If someone really looks for quality,that really is the product they should buy. \n",
        "The manufacturer was amazing,seller quickly responded all requests, you should buy this product. When I bought the product, I sent a request to the color exchange seller, he immediately made the exchange, showing attention to me and quickly. \n",
        "I also thank the company's affection with after sales, no doubt this was my best purchase this year\"\"\"\n",
        "f11 = clean(rev2)\n",
        "f22 = is_special(f11)\n",
        "f33 = to_lower(f22)\n",
        "f44 = rem_stopwords(f33)\n",
        "f55 = stem_txt(f44)\n",
        "\n",
        "bow,words = [],word_tokenize(f55)\n",
        "for word in words:\n",
        "    bow.append(words.count(word))\n",
        "\n",
        "word_dict = cv.vocabulary_\n",
        "pickle.dump(word_dict,open('model1.pkl','wb'))\n",
        "\n",
        "inp3 = []\n",
        "for i in word_dict:\n",
        "    inp3.append(f55.count(i[0]))\n",
        "y_pred2 = gb_clf_sa.predict(np.array(inp3).reshape(1,2000))\n",
        "y_pred2\n"
      ]
    },
    {
      "cell_type": "markdown",
      "metadata": {
        "id": "rM_KBDjwT4fs"
      },
      "source": [
        "Abaixo estamos fazendo aplicação do modelo que melhor desempenhou para uma base de dados avulsa "
      ]
    },
    {
      "cell_type": "code",
      "execution_count": 68,
      "metadata": {
        "colab": {
          "base_uri": "https://localhost:8080/",
          "height": 842
        },
        "id": "LTVJA5u_qtQA",
        "outputId": "3b443ad9-d3e4-4115-f65c-36a4d4743a8f"
      },
      "outputs": [
        {
          "output_type": "execute_result",
          "data": {
            "text/plain": [
              "    Unnamed: 0  Unnamed: 0.1        asin  helpful  rating  \\\n",
              "0            0         11539  B0033UV8HI  [8, 10]       3   \n",
              "1            1          5957  B002HJV4DE   [1, 1]       5   \n",
              "2            2          9146  B002ZG96I4   [0, 0]       3   \n",
              "3            3          7038  B002QHWOEU   [1, 3]       3   \n",
              "4            4          1776  B001A06VJ8   [0, 1]       4   \n",
              "5            5          3744  B0021L9YDK   [6, 6]       5   \n",
              "6            6         13641  B0038NN38W   [1, 1]       2   \n",
              "7            7          4448  B002AJ7X2C   [1, 1]       4   \n",
              "8            8          2797  B001L5T22U   [0, 0]       5   \n",
              "9            9          5294  B002F3PPVE   [0, 1]       4   \n",
              "10          10         47234  B004NIFTI8  [3, 19]       1   \n",
              "11          11          9401  B0030CMJEK   [0, 0]       4   \n",
              "12          12         33185  B004AYDLOO  [4, 10]       1   \n",
              "13          13          2573  B001IP0UII   [2, 2]       4   \n",
              "14          14          3150  B001U0Q17K   [0, 0]       5   \n",
              "\n",
              "                                           reviewText   reviewTime  \\\n",
              "0   Jace Rankin may be short, but he's nothing to ...   09 2, 2010   \n",
              "1   Great short read.  I didn't want to put it dow...   10 8, 2013   \n",
              "2   I'll start by saying this is the first of four...  04 11, 2014   \n",
              "3   Aggie is Angela Lansbury who carries pocketboo...   07 5, 2014   \n",
              "4   I did not expect this type of book to be in li...  12 31, 2012   \n",
              "5   Aislinn is a little girl with big dreams. Afte...   12 7, 2009   \n",
              "6   This has the makings of a good story... unfort...  08 18, 2011   \n",
              "7   I got this because I like collaborated short s...   03 8, 2010   \n",
              "8   Loved this book, I am hooked on this series an...  09 30, 2013   \n",
              "9   And that's a good thing. Short, sweet tease th...  07 29, 2009   \n",
              "10  I received a copy of book to review. \"A secret...  10 10, 2011   \n",
              "11  Even though you already know what the outcome ...   05 8, 2013   \n",
              "12  I read the other reviews and decided to give i...  05 23, 2012   \n",
              "13  I just finished a re-read of WICKED GARDEN and...  09 26, 2012   \n",
              "14  But it's from the King James Version, so far a...  05 12, 2013   \n",
              "\n",
              "        reviewerID                                      reviewerName  \\\n",
              "0   A3HHXRELK8BHQG                                            Ridley   \n",
              "1   A2RGNZ0TRF578I                                      Holly Butler   \n",
              "2   A3S0H2HV6U1I7F                                           Merissa   \n",
              "3    AC4OQW3GZ919J                                        Cleargrace   \n",
              "4   A3C9V987IQHOQD                                          Rjostler   \n",
              "5   A3J5NN6MJK4M4A         Aubrie A. Dionne \"Fantasy, Sci Fi Author\"   \n",
              "6    A531QY5K7JVXI                                           Chicano   \n",
              "7     AN8ELR6AHMMQ  Jessss \"I read to find stories that inspire m...   \n",
              "8    AMSWCFSQ8SLK9                                   Amazon Customer   \n",
              "9    AB53C7GYZHYIE                              A. Williams \"blkkat\"   \n",
              "10  A1W50RO0EBZF8B                                             Elysa   \n",
              "11  A1LIS1DJXN2P7C                                         Butterfly   \n",
              "12  A38STH7HRC6ACX                                         aVaReader   \n",
              "13   A3LXRIY0HE71K  Guilty Pleasures Book Reviews \"Guilty Pleasur...   \n",
              "14   AXJ9V25Q88GAA           John Alldredge \"Anglo-Catholic fanatic\"   \n",
              "\n",
              "                                              summary  unixReviewTime  \n",
              "0                            Entertaining But Average      1283385600  \n",
              "1                             Terrific menage scenes!      1381190400  \n",
              "2                                    Snapdragon Alley      1397174400  \n",
              "3                              very light murder cozy      1404518400  \n",
              "4                                                Book      1356912000  \n",
              "5           A story of a little girl with big dreams.      1260144000  \n",
              "6   This story has potential but ultimately disapp...      1313625600  \n",
              "7                                       Good thriller      1268006400  \n",
              "8                                           Loved it!      1380499200  \n",
              "9                                     I was scared...      1248825600  \n",
              "10                                            Um, no.      1318204800  \n",
              "11                                  A bit predictable      1367971200  \n",
              "12                                        Truly Awful      1337731200  \n",
              "13                              Sweet and Super SEXY!      1348617600  \n",
              "14                             Text not credited. . .      1368316800  "
            ],
            "text/html": [
              "\n",
              "  <div id=\"df-06346d30-fe3f-4608-a478-749c9f607608\">\n",
              "    <div class=\"colab-df-container\">\n",
              "      <div>\n",
              "<style scoped>\n",
              "    .dataframe tbody tr th:only-of-type {\n",
              "        vertical-align: middle;\n",
              "    }\n",
              "\n",
              "    .dataframe tbody tr th {\n",
              "        vertical-align: top;\n",
              "    }\n",
              "\n",
              "    .dataframe thead th {\n",
              "        text-align: right;\n",
              "    }\n",
              "</style>\n",
              "<table border=\"1\" class=\"dataframe\">\n",
              "  <thead>\n",
              "    <tr style=\"text-align: right;\">\n",
              "      <th></th>\n",
              "      <th>Unnamed: 0</th>\n",
              "      <th>Unnamed: 0.1</th>\n",
              "      <th>asin</th>\n",
              "      <th>helpful</th>\n",
              "      <th>rating</th>\n",
              "      <th>reviewText</th>\n",
              "      <th>reviewTime</th>\n",
              "      <th>reviewerID</th>\n",
              "      <th>reviewerName</th>\n",
              "      <th>summary</th>\n",
              "      <th>unixReviewTime</th>\n",
              "    </tr>\n",
              "  </thead>\n",
              "  <tbody>\n",
              "    <tr>\n",
              "      <th>0</th>\n",
              "      <td>0</td>\n",
              "      <td>11539</td>\n",
              "      <td>B0033UV8HI</td>\n",
              "      <td>[8, 10]</td>\n",
              "      <td>3</td>\n",
              "      <td>Jace Rankin may be short, but he's nothing to ...</td>\n",
              "      <td>09 2, 2010</td>\n",
              "      <td>A3HHXRELK8BHQG</td>\n",
              "      <td>Ridley</td>\n",
              "      <td>Entertaining But Average</td>\n",
              "      <td>1283385600</td>\n",
              "    </tr>\n",
              "    <tr>\n",
              "      <th>1</th>\n",
              "      <td>1</td>\n",
              "      <td>5957</td>\n",
              "      <td>B002HJV4DE</td>\n",
              "      <td>[1, 1]</td>\n",
              "      <td>5</td>\n",
              "      <td>Great short read.  I didn't want to put it dow...</td>\n",
              "      <td>10 8, 2013</td>\n",
              "      <td>A2RGNZ0TRF578I</td>\n",
              "      <td>Holly Butler</td>\n",
              "      <td>Terrific menage scenes!</td>\n",
              "      <td>1381190400</td>\n",
              "    </tr>\n",
              "    <tr>\n",
              "      <th>2</th>\n",
              "      <td>2</td>\n",
              "      <td>9146</td>\n",
              "      <td>B002ZG96I4</td>\n",
              "      <td>[0, 0]</td>\n",
              "      <td>3</td>\n",
              "      <td>I'll start by saying this is the first of four...</td>\n",
              "      <td>04 11, 2014</td>\n",
              "      <td>A3S0H2HV6U1I7F</td>\n",
              "      <td>Merissa</td>\n",
              "      <td>Snapdragon Alley</td>\n",
              "      <td>1397174400</td>\n",
              "    </tr>\n",
              "    <tr>\n",
              "      <th>3</th>\n",
              "      <td>3</td>\n",
              "      <td>7038</td>\n",
              "      <td>B002QHWOEU</td>\n",
              "      <td>[1, 3]</td>\n",
              "      <td>3</td>\n",
              "      <td>Aggie is Angela Lansbury who carries pocketboo...</td>\n",
              "      <td>07 5, 2014</td>\n",
              "      <td>AC4OQW3GZ919J</td>\n",
              "      <td>Cleargrace</td>\n",
              "      <td>very light murder cozy</td>\n",
              "      <td>1404518400</td>\n",
              "    </tr>\n",
              "    <tr>\n",
              "      <th>4</th>\n",
              "      <td>4</td>\n",
              "      <td>1776</td>\n",
              "      <td>B001A06VJ8</td>\n",
              "      <td>[0, 1]</td>\n",
              "      <td>4</td>\n",
              "      <td>I did not expect this type of book to be in li...</td>\n",
              "      <td>12 31, 2012</td>\n",
              "      <td>A3C9V987IQHOQD</td>\n",
              "      <td>Rjostler</td>\n",
              "      <td>Book</td>\n",
              "      <td>1356912000</td>\n",
              "    </tr>\n",
              "    <tr>\n",
              "      <th>5</th>\n",
              "      <td>5</td>\n",
              "      <td>3744</td>\n",
              "      <td>B0021L9YDK</td>\n",
              "      <td>[6, 6]</td>\n",
              "      <td>5</td>\n",
              "      <td>Aislinn is a little girl with big dreams. Afte...</td>\n",
              "      <td>12 7, 2009</td>\n",
              "      <td>A3J5NN6MJK4M4A</td>\n",
              "      <td>Aubrie A. Dionne \"Fantasy, Sci Fi Author\"</td>\n",
              "      <td>A story of a little girl with big dreams.</td>\n",
              "      <td>1260144000</td>\n",
              "    </tr>\n",
              "    <tr>\n",
              "      <th>6</th>\n",
              "      <td>6</td>\n",
              "      <td>13641</td>\n",
              "      <td>B0038NN38W</td>\n",
              "      <td>[1, 1]</td>\n",
              "      <td>2</td>\n",
              "      <td>This has the makings of a good story... unfort...</td>\n",
              "      <td>08 18, 2011</td>\n",
              "      <td>A531QY5K7JVXI</td>\n",
              "      <td>Chicano</td>\n",
              "      <td>This story has potential but ultimately disapp...</td>\n",
              "      <td>1313625600</td>\n",
              "    </tr>\n",
              "    <tr>\n",
              "      <th>7</th>\n",
              "      <td>7</td>\n",
              "      <td>4448</td>\n",
              "      <td>B002AJ7X2C</td>\n",
              "      <td>[1, 1]</td>\n",
              "      <td>4</td>\n",
              "      <td>I got this because I like collaborated short s...</td>\n",
              "      <td>03 8, 2010</td>\n",
              "      <td>AN8ELR6AHMMQ</td>\n",
              "      <td>Jessss \"I read to find stories that inspire m...</td>\n",
              "      <td>Good thriller</td>\n",
              "      <td>1268006400</td>\n",
              "    </tr>\n",
              "    <tr>\n",
              "      <th>8</th>\n",
              "      <td>8</td>\n",
              "      <td>2797</td>\n",
              "      <td>B001L5T22U</td>\n",
              "      <td>[0, 0]</td>\n",
              "      <td>5</td>\n",
              "      <td>Loved this book, I am hooked on this series an...</td>\n",
              "      <td>09 30, 2013</td>\n",
              "      <td>AMSWCFSQ8SLK9</td>\n",
              "      <td>Amazon Customer</td>\n",
              "      <td>Loved it!</td>\n",
              "      <td>1380499200</td>\n",
              "    </tr>\n",
              "    <tr>\n",
              "      <th>9</th>\n",
              "      <td>9</td>\n",
              "      <td>5294</td>\n",
              "      <td>B002F3PPVE</td>\n",
              "      <td>[0, 1]</td>\n",
              "      <td>4</td>\n",
              "      <td>And that's a good thing. Short, sweet tease th...</td>\n",
              "      <td>07 29, 2009</td>\n",
              "      <td>AB53C7GYZHYIE</td>\n",
              "      <td>A. Williams \"blkkat\"</td>\n",
              "      <td>I was scared...</td>\n",
              "      <td>1248825600</td>\n",
              "    </tr>\n",
              "    <tr>\n",
              "      <th>10</th>\n",
              "      <td>10</td>\n",
              "      <td>47234</td>\n",
              "      <td>B004NIFTI8</td>\n",
              "      <td>[3, 19]</td>\n",
              "      <td>1</td>\n",
              "      <td>I received a copy of book to review. \"A secret...</td>\n",
              "      <td>10 10, 2011</td>\n",
              "      <td>A1W50RO0EBZF8B</td>\n",
              "      <td>Elysa</td>\n",
              "      <td>Um, no.</td>\n",
              "      <td>1318204800</td>\n",
              "    </tr>\n",
              "    <tr>\n",
              "      <th>11</th>\n",
              "      <td>11</td>\n",
              "      <td>9401</td>\n",
              "      <td>B0030CMJEK</td>\n",
              "      <td>[0, 0]</td>\n",
              "      <td>4</td>\n",
              "      <td>Even though you already know what the outcome ...</td>\n",
              "      <td>05 8, 2013</td>\n",
              "      <td>A1LIS1DJXN2P7C</td>\n",
              "      <td>Butterfly</td>\n",
              "      <td>A bit predictable</td>\n",
              "      <td>1367971200</td>\n",
              "    </tr>\n",
              "    <tr>\n",
              "      <th>12</th>\n",
              "      <td>12</td>\n",
              "      <td>33185</td>\n",
              "      <td>B004AYDLOO</td>\n",
              "      <td>[4, 10]</td>\n",
              "      <td>1</td>\n",
              "      <td>I read the other reviews and decided to give i...</td>\n",
              "      <td>05 23, 2012</td>\n",
              "      <td>A38STH7HRC6ACX</td>\n",
              "      <td>aVaReader</td>\n",
              "      <td>Truly Awful</td>\n",
              "      <td>1337731200</td>\n",
              "    </tr>\n",
              "    <tr>\n",
              "      <th>13</th>\n",
              "      <td>13</td>\n",
              "      <td>2573</td>\n",
              "      <td>B001IP0UII</td>\n",
              "      <td>[2, 2]</td>\n",
              "      <td>4</td>\n",
              "      <td>I just finished a re-read of WICKED GARDEN and...</td>\n",
              "      <td>09 26, 2012</td>\n",
              "      <td>A3LXRIY0HE71K</td>\n",
              "      <td>Guilty Pleasures Book Reviews \"Guilty Pleasur...</td>\n",
              "      <td>Sweet and Super SEXY!</td>\n",
              "      <td>1348617600</td>\n",
              "    </tr>\n",
              "    <tr>\n",
              "      <th>14</th>\n",
              "      <td>14</td>\n",
              "      <td>3150</td>\n",
              "      <td>B001U0Q17K</td>\n",
              "      <td>[0, 0]</td>\n",
              "      <td>5</td>\n",
              "      <td>But it's from the King James Version, so far a...</td>\n",
              "      <td>05 12, 2013</td>\n",
              "      <td>AXJ9V25Q88GAA</td>\n",
              "      <td>John Alldredge \"Anglo-Catholic fanatic\"</td>\n",
              "      <td>Text not credited. . .</td>\n",
              "      <td>1368316800</td>\n",
              "    </tr>\n",
              "  </tbody>\n",
              "</table>\n",
              "</div>\n",
              "      <button class=\"colab-df-convert\" onclick=\"convertToInteractive('df-06346d30-fe3f-4608-a478-749c9f607608')\"\n",
              "              title=\"Convert this dataframe to an interactive table.\"\n",
              "              style=\"display:none;\">\n",
              "        \n",
              "  <svg xmlns=\"http://www.w3.org/2000/svg\" height=\"24px\"viewBox=\"0 0 24 24\"\n",
              "       width=\"24px\">\n",
              "    <path d=\"M0 0h24v24H0V0z\" fill=\"none\"/>\n",
              "    <path d=\"M18.56 5.44l.94 2.06.94-2.06 2.06-.94-2.06-.94-.94-2.06-.94 2.06-2.06.94zm-11 1L8.5 8.5l.94-2.06 2.06-.94-2.06-.94L8.5 2.5l-.94 2.06-2.06.94zm10 10l.94 2.06.94-2.06 2.06-.94-2.06-.94-.94-2.06-.94 2.06-2.06.94z\"/><path d=\"M17.41 7.96l-1.37-1.37c-.4-.4-.92-.59-1.43-.59-.52 0-1.04.2-1.43.59L10.3 9.45l-7.72 7.72c-.78.78-.78 2.05 0 2.83L4 21.41c.39.39.9.59 1.41.59.51 0 1.02-.2 1.41-.59l7.78-7.78 2.81-2.81c.8-.78.8-2.07 0-2.86zM5.41 20L4 18.59l7.72-7.72 1.47 1.35L5.41 20z\"/>\n",
              "  </svg>\n",
              "      </button>\n",
              "      \n",
              "  <style>\n",
              "    .colab-df-container {\n",
              "      display:flex;\n",
              "      flex-wrap:wrap;\n",
              "      gap: 12px;\n",
              "    }\n",
              "\n",
              "    .colab-df-convert {\n",
              "      background-color: #E8F0FE;\n",
              "      border: none;\n",
              "      border-radius: 50%;\n",
              "      cursor: pointer;\n",
              "      display: none;\n",
              "      fill: #1967D2;\n",
              "      height: 32px;\n",
              "      padding: 0 0 0 0;\n",
              "      width: 32px;\n",
              "    }\n",
              "\n",
              "    .colab-df-convert:hover {\n",
              "      background-color: #E2EBFA;\n",
              "      box-shadow: 0px 1px 2px rgba(60, 64, 67, 0.3), 0px 1px 3px 1px rgba(60, 64, 67, 0.15);\n",
              "      fill: #174EA6;\n",
              "    }\n",
              "\n",
              "    [theme=dark] .colab-df-convert {\n",
              "      background-color: #3B4455;\n",
              "      fill: #D2E3FC;\n",
              "    }\n",
              "\n",
              "    [theme=dark] .colab-df-convert:hover {\n",
              "      background-color: #434B5C;\n",
              "      box-shadow: 0px 1px 3px 1px rgba(0, 0, 0, 0.15);\n",
              "      filter: drop-shadow(0px 1px 2px rgba(0, 0, 0, 0.3));\n",
              "      fill: #FFFFFF;\n",
              "    }\n",
              "  </style>\n",
              "\n",
              "      <script>\n",
              "        const buttonEl =\n",
              "          document.querySelector('#df-06346d30-fe3f-4608-a478-749c9f607608 button.colab-df-convert');\n",
              "        buttonEl.style.display =\n",
              "          google.colab.kernel.accessAllowed ? 'block' : 'none';\n",
              "\n",
              "        async function convertToInteractive(key) {\n",
              "          const element = document.querySelector('#df-06346d30-fe3f-4608-a478-749c9f607608');\n",
              "          const dataTable =\n",
              "            await google.colab.kernel.invokeFunction('convertToInteractive',\n",
              "                                                     [key], {});\n",
              "          if (!dataTable) return;\n",
              "\n",
              "          const docLinkHtml = 'Like what you see? Visit the ' +\n",
              "            '<a target=\"_blank\" href=https://colab.research.google.com/notebooks/data_table.ipynb>data table notebook</a>'\n",
              "            + ' to learn more about interactive tables.';\n",
              "          element.innerHTML = '';\n",
              "          dataTable['output_type'] = 'display_data';\n",
              "          await google.colab.output.renderOutput(dataTable, element);\n",
              "          const docLink = document.createElement('div');\n",
              "          docLink.innerHTML = docLinkHtml;\n",
              "          element.appendChild(docLink);\n",
              "        }\n",
              "      </script>\n",
              "    </div>\n",
              "  </div>\n",
              "  "
            ]
          },
          "metadata": {},
          "execution_count": 68
        }
      ],
      "source": [
        "df_books.head(15)"
      ]
    },
    {
      "cell_type": "code",
      "execution_count": 69,
      "metadata": {
        "colab": {
          "base_uri": "https://localhost:8080/"
        },
        "id": "WkwlM3vjnz1Z",
        "outputId": "ff5c8d91-b7a4-4c63-b882-f57307a9f7e7"
      },
      "outputs": [
        {
          "output_type": "stream",
          "name": "stdout",
          "text": [
            "0\n",
            "1\n",
            "1\n",
            "1\n",
            "1\n"
          ]
        }
      ],
      "source": [
        "#Rodando com o tratamento dos dados\n",
        "f111 = df_books.reviewText.apply(clean)\n",
        "f222 = df_books.reviewText.apply(is_special)\n",
        "f333 = df_books.reviewText.apply(to_lower)\n",
        "f444 = df_books.reviewText.apply(rem_stopwords)\n",
        "f555 = df_books.reviewText.apply(stem_txt)\n",
        "\n",
        "Xtest_nov2 = np.array(f444)\n",
        "#Xtrain_reg = np.array(train_setx.iloc[:,3].values)\n",
        "#ytrain = np.array(train_set.Negativo.values)\n",
        "#ytest = np.array(test_set.Negativo.values)\n",
        "cv3 = CountVectorizer(max_features = 2000)\n",
        "Xtrain_nov2 = cv3.fit_transform(df_books.reviewText).toarray()\n",
        "y_pred3 = gb_clf_sa.predict(np.array(Xtrain_nov2))\n",
        "print(y_pred3[10])\n",
        "print(y_pred3[11])\n",
        "print(y_pred3[12])\n",
        "print(y_pred3[13])\n",
        "print(y_pred3[14])\n"
      ]
    },
    {
      "cell_type": "code",
      "execution_count": 70,
      "metadata": {
        "colab": {
          "base_uri": "https://localhost:8080/"
        },
        "id": "MJa2KpbQB4li",
        "outputId": "25a73621-4bef-452a-deea-5ba0b714c9ed"
      },
      "outputs": [
        {
          "output_type": "stream",
          "name": "stdout",
          "text": [
            "0\n",
            "1\n",
            "1\n",
            "1\n",
            "1\n"
          ]
        }
      ],
      "source": [
        "#Rodando sem tratamento\n",
        "Xtest_nov = np.array(df_books.iloc[:,5].values)\n",
        "#Xtrain_reg = np.array(train_setx.iloc[:,3].values)\n",
        "#ytrain = np.array(train_set.Negativo.values)\n",
        "#ytest = np.array(test_set.Negativo.values)\n",
        "cv2 = CountVectorizer(max_features = 2000)\n",
        "Xtrain_nov = cv2.fit_transform(df_books.reviewText).toarray()\n",
        "Xtrain_nov[27]\n",
        "y_pred2 = gb_clf_sa.predict(np.array(Xtrain_nov))\n",
        "print(y_pred2[10])\n",
        "print(y_pred2[11])\n",
        "print(y_pred2[12])\n",
        "print(y_pred2[13])\n",
        "print(y_pred2[14])\n",
        "\n",
        "\n"
      ]
    },
    {
      "cell_type": "code",
      "execution_count": 71,
      "metadata": {
        "id": "m225FxuO0VhI"
      },
      "outputs": [],
      "source": [
        "# Setup plotting\n",
        "import matplotlib.pyplot as plt\n",
        "import pandas as pd\n",
        "import numpy as np\n",
        "\n",
        "import tensorflow as tf\n",
        "from tensorflow import keras\n",
        "from tensorflow.keras import layers\n",
        "from tensorflow.keras.callbacks import EarlyStopping\n",
        "\n",
        "plt.style.use('seaborn-whitegrid')\n",
        "# Set Matplotlib defaults\n",
        "plt.rc('figure', autolayout=True)\n",
        "plt.rc('axes', labelweight='bold', labelsize='large',\n",
        "       titleweight='bold', titlesize=18, titlepad=10)"
      ]
    },
    {
      "cell_type": "code",
      "execution_count": 72,
      "metadata": {
        "colab": {
          "base_uri": "https://localhost:8080/"
        },
        "id": "7QW4E8FJ0VhJ",
        "outputId": "09d99891-101f-41e1-c3ea-e3a0d2c0d781"
      },
      "outputs": [
        {
          "output_type": "stream",
          "name": "stdout",
          "text": [
            "Epoch 1/10\n",
            "427/427 [==============================] - 41s 94ms/step - loss: 0.4168 - val_loss: 0.4631\n",
            "Epoch 2/10\n",
            "427/427 [==============================] - 40s 95ms/step - loss: 0.1860 - val_loss: 0.4158\n",
            "Epoch 3/10\n",
            "427/427 [==============================] - 39s 91ms/step - loss: 0.1657 - val_loss: 0.4083\n",
            "Epoch 4/10\n",
            "427/427 [==============================] - 42s 97ms/step - loss: 0.1544 - val_loss: 0.4233\n",
            "Epoch 5/10\n",
            "427/427 [==============================] - 39s 90ms/step - loss: 0.1465 - val_loss: 0.4108\n",
            "Epoch 6/10\n",
            "427/427 [==============================] - 38s 89ms/step - loss: 0.1393 - val_loss: 0.4339\n",
            "Epoch 7/10\n",
            "427/427 [==============================] - 38s 89ms/step - loss: 0.1363 - val_loss: 0.4105\n",
            "Epoch 8/10\n",
            "427/427 [==============================] - 38s 88ms/step - loss: 0.1324 - val_loss: 0.4119\n",
            "Epoch 9/10\n",
            "427/427 [==============================] - 38s 89ms/step - loss: 0.1284 - val_loss: 0.3885\n",
            "Epoch 10/10\n",
            "427/427 [==============================] - 39s 91ms/step - loss: 0.1264 - val_loss: 0.3969\n"
          ]
        }
      ],
      "source": [
        "model = keras.Sequential([layers.Dense(1024, activation='relu'),\n",
        "                          layers.Dropout(0.3),\n",
        "                          layers.BatchNormalization(),\n",
        "                          layers.Dense(1024, activation='relu'),\n",
        "                          layers.Dropout(0.3),\n",
        "                          layers.BatchNormalization(),\n",
        "                          layers.Dense(1024, activation='sigmoid'),\n",
        "                          layers.Dropout(0.3),\n",
        "                          layers.BatchNormalization(),\n",
        "                          layers.Dense(1),\n",
        "                         ])\n",
        "\n",
        "model.compile(optimizer='adam', loss='mae',)\n",
        "\n",
        "history = model.fit(X1_train_smote, Y1_train_smote,\n",
        "                    validation_data=(X1_test_smote, Y1_test_smote),\n",
        "                    batch_size=256,\n",
        "                    epochs=10,\n",
        "                    verbose=1,\n",
        "                   )"
      ]
    },
    {
      "cell_type": "code",
      "execution_count": 73,
      "metadata": {
        "colab": {
          "base_uri": "https://localhost:8080/",
          "height": 297
        },
        "id": "y1Wz8pFb0VhJ",
        "outputId": "2a5abd2d-27f6-430f-8f8e-ff04f1373b0e"
      },
      "outputs": [
        {
          "output_type": "display_data",
          "data": {
            "text/plain": [
              "<Figure size 432x288 with 1 Axes>"
            ],
            "image/png": "[encoded data removed]"
          },
          "metadata": {}
        }
      ],
      "source": [
        "# Show the learning curves\n",
        "history_df = pd.DataFrame(history.history)\n",
        "history_df.loc[:, ['loss', 'val_loss']].plot();"
      ]
    },
    {
      "cell_type": "code",
      "execution_count": 74,
      "metadata": {
        "colab": {
          "base_uri": "https://localhost:8080/"
        },
        "id": "WeQUMvw09Eud",
        "outputId": "1367463c-6a5c-4f9a-cc2b-3aff6a2ed933"
      },
      "outputs": [
        {
          "output_type": "stream",
          "name": "stdout",
          "text": [
            "Epoch 1/10\n",
            "427/427 [==============================] - 41s 92ms/step - loss: 0.4323 - val_loss: 0.4575\n",
            "Epoch 2/10\n",
            "427/427 [==============================] - 39s 91ms/step - loss: 0.1886 - val_loss: 0.3943\n",
            "Epoch 3/10\n",
            "427/427 [==============================] - 39s 91ms/step - loss: 0.1671 - val_loss: 0.4030\n",
            "Epoch 4/10\n",
            "427/427 [==============================] - 40s 93ms/step - loss: 0.1553 - val_loss: 0.3992\n",
            "Epoch 5/10\n",
            "427/427 [==============================] - 39s 92ms/step - loss: 0.1472 - val_loss: 0.4305\n",
            "Epoch 6/10\n",
            "427/427 [==============================] - 43s 100ms/step - loss: 0.1413 - val_loss: 0.4033\n",
            "Epoch 7/10\n",
            "427/427 [==============================] - 39s 91ms/step - loss: 0.1362 - val_loss: 0.4244\n",
            "Epoch 8/10\n",
            "427/427 [==============================] - 40s 94ms/step - loss: 0.1325 - val_loss: 0.3964\n",
            "Epoch 9/10\n",
            "427/427 [==============================] - 39s 91ms/step - loss: 0.1275 - val_loss: 0.3927\n",
            "Epoch 10/10\n",
            "427/427 [==============================] - 38s 89ms/step - loss: 0.1259 - val_loss: 0.4097\n"
          ]
        }
      ],
      "source": [
        "model1 = keras.Sequential([layers.Dense(1024, activation='relu'),\n",
        "                          layers.Dropout(0.3),\n",
        "                          layers.BatchNormalization(),\n",
        "                          layers.Dense(1024, activation='relu'),\n",
        "                          layers.Dropout(0.3),\n",
        "                          layers.BatchNormalization(),\n",
        "                          layers.Dense(1024, activation='sigmoid'),\n",
        "                          layers.Dropout(0.3),\n",
        "                          layers.BatchNormalization(),\n",
        "                          layers.Dense(1),\n",
        "                         ])\n",
        "\n",
        "model1.compile(optimizer='adam', loss='mae',)\n",
        "\n",
        "history1 = model1.fit(X1_train_smote, Y1_train_smote,\n",
        "                    validation_data=(X1_test_smote, Y1_test_smote),\n",
        "                    batch_size=256,\n",
        "                    epochs=10,\n",
        "                    verbose=1,\n",
        "                   )"
      ]
    },
    {
      "cell_type": "code",
      "execution_count": 75,
      "metadata": {
        "colab": {
          "base_uri": "https://localhost:8080/",
          "height": 297
        },
        "id": "OMCctouM9Ly5",
        "outputId": "eb964222-e728-45c6-f695-ecc5340352cb"
      },
      "outputs": [
        {
          "output_type": "display_data",
          "data": {
            "text/plain": [
              "<Figure size 432x288 with 1 Axes>"
            ],
            "image/png": "[encoded data removed]"
          },
          "metadata": {}
        }
      ],
      "source": [
        "# Show the learning curves\n",
        "history_df1 = pd.DataFrame(history1.history)\n",
        "history_df1.loc[:, ['loss', 'val_loss']].plot();"
      ]
    },
    {
      "cell_type": "code",
      "execution_count": 76,
      "metadata": {
        "id": "LaP5YiiG1AXl"
      },
      "outputs": [],
      "source": [
        "from tensorflow.keras.layers import Dense, Activation, Dropout\n",
        "from tensorflow.keras.layers import LSTM, GRU\n",
        "from tensorflow.keras.models import Sequential\n",
        "from tensorflow.keras import optimizers\n",
        "from sklearn.preprocessing import MinMaxScaler"
      ]
    },
    {
      "cell_type": "code",
      "execution_count": 77,
      "metadata": {
        "id": "StZZHq3H6LoS"
      },
      "outputs": [],
      "source": [
        "from tensorflow.keras.models import Sequential\n",
        "from tensorflow.keras.layers import Dense, Dropout, Conv2D, MaxPool2D, Flatten\n",
        "from tensorflow.python.keras import utils\n",
        "from sklearn.metrics import accuracy_score"
      ]
    },
    {
      "cell_type": "code",
      "execution_count": 78,
      "metadata": {
        "id": "K0C3yjeJNE0r"
      },
      "outputs": [],
      "source": [
        "# The LSTM model I would like to test not performace interesting\n",
        "# Note: replace LSTM with GRU or RNN if you want to try those\n",
        "\n",
        "#model2 = Sequential()\n",
        "#model2.add(LSTM(12, return_sequences=True, input_shape=(X1_train_smote.shape[1],1)))\n",
        "#model2.add(Dropout(0.2))\n",
        "#model2.add(LSTM(6, return_sequences=False))\n",
        "#model2.add(Dropout(0.2))\n",
        "#model2.add(Dense(1, activation = \"linear\"))\n",
        "\n",
        "#model2.compile(loss='mse', optimizer='adam')\n",
        "#history2 =  model2.fit(X1_train_smote, Y1_train_smote, batch_size=100, epochs=10, validation_data=(X1_test_smote, Y1_test_smote))\n",
        "#print (model2.summary())"
      ]
    },
    {
      "cell_type": "code",
      "execution_count": 79,
      "metadata": {
        "id": "uGNCYSgM8E1z"
      },
      "outputs": [],
      "source": [
        "import tensorflow as tf\n",
        "from keras import regularizers\n"
      ]
    },
    {
      "cell_type": "code",
      "execution_count": 80,
      "metadata": {
        "id": "bEKoq9TPAae1"
      },
      "outputs": [],
      "source": [
        "#Este modelo overfitou\n",
        "batch_size = int(len(X1_train_smote)/130)\n",
        "epochs = 30\n",
        "\n",
        "model7 = tf.keras.Sequential()\n",
        "model7.add(tf.keras.layers.Dense(8,input_dim=X1_train_smote.shape[1], activation='relu',kernel_regularizer=regularizers.l1(0.005)))\n",
        "model7.add(tf.keras.layers.Dense(4, activation='relu', kernel_regularizer=regularizers.l1(0.005)))\n",
        "model7.add(tf.keras.layers.BatchNormalization())\n",
        "model7.add(Flatten())\n",
        "model7.add(tf.keras.layers.Dense(16, kernel_regularizer=regularizers.l1(0.005)))\n",
        "model7.add(Activation(\"relu\"))\n",
        "model7.add(Dropout(0.5))\n",
        "model7.add(tf.keras.layers.Dense(4, kernel_regularizer=regularizers.l1(0.005)))\n",
        "model7.add(Activation(\"relu\"))\n",
        "model7.add(tf.keras.layers.Dense(4, activation='relu', kernel_regularizer=regularizers.l1(0.005)))\n",
        "model7.add(tf.keras.layers.Dense(1, activation='sigmoid', kernel_regularizer=regularizers.l1(0.005)))\n"
      ]
    },
    {
      "cell_type": "code",
      "execution_count": 81,
      "metadata": {
        "colab": {
          "base_uri": "https://localhost:8080/"
        },
        "id": "TEHALGcpFSpo",
        "outputId": "34a463c4-ff15-4dbb-ab99-ec25b46353d4"
      },
      "outputs": [
        {
          "output_type": "stream",
          "name": "stdout",
          "text": [
            "Epoch 1/30\n",
            "130/130 [==============================] - 3s 14ms/step - loss: 1.0979 - val_loss: 0.7298\n",
            "Epoch 2/30\n",
            "130/130 [==============================] - 2s 12ms/step - loss: 0.6679 - val_loss: 0.6822\n",
            "Epoch 3/30\n",
            "130/130 [==============================] - 2s 12ms/step - loss: 0.6000 - val_loss: 0.6515\n",
            "Epoch 4/30\n",
            "130/130 [==============================] - 2s 12ms/step - loss: 0.5511 - val_loss: 0.6315\n",
            "Epoch 5/30\n",
            "130/130 [==============================] - 2s 12ms/step - loss: 0.5183 - val_loss: 0.6155\n",
            "Epoch 6/30\n",
            "130/130 [==============================] - 2s 12ms/step - loss: 0.4987 - val_loss: 0.6127\n",
            "Epoch 7/30\n",
            "130/130 [==============================] - 2s 12ms/step - loss: 0.4812 - val_loss: 0.6007\n",
            "Epoch 8/30\n",
            "130/130 [==============================] - 2s 12ms/step - loss: 0.4668 - val_loss: 0.6069\n",
            "Epoch 9/30\n",
            "130/130 [==============================] - 2s 12ms/step - loss: 0.4509 - val_loss: 0.6037\n",
            "Epoch 10/30\n",
            "130/130 [==============================] - 2s 12ms/step - loss: 0.4366 - val_loss: 0.6067\n",
            "Epoch 11/30\n",
            "130/130 [==============================] - 2s 13ms/step - loss: 0.4200 - val_loss: 0.6046\n",
            "Epoch 12/30\n",
            "130/130 [==============================] - 2s 12ms/step - loss: 0.4064 - val_loss: 0.6131\n",
            "Epoch 13/30\n",
            "130/130 [==============================] - 2s 12ms/step - loss: 0.3911 - val_loss: 0.6065\n",
            "Epoch 14/30\n",
            "130/130 [==============================] - 2s 12ms/step - loss: 0.3762 - val_loss: 0.6091\n",
            "Epoch 15/30\n",
            "130/130 [==============================] - 2s 12ms/step - loss: 0.3539 - val_loss: 0.6161\n",
            "Epoch 16/30\n",
            "130/130 [==============================] - 2s 12ms/step - loss: 0.3335 - val_loss: 0.6112\n",
            "Epoch 17/30\n",
            "130/130 [==============================] - 2s 12ms/step - loss: 0.3182 - val_loss: 0.6194\n",
            "Epoch 18/30\n",
            "130/130 [==============================] - 2s 12ms/step - loss: 0.3071 - val_loss: 0.6186\n",
            "Epoch 19/30\n",
            "130/130 [==============================] - 2s 12ms/step - loss: 0.3003 - val_loss: 0.6166\n",
            "Epoch 20/30\n",
            "130/130 [==============================] - 2s 12ms/step - loss: 0.2932 - val_loss: 0.6161\n",
            "Epoch 21/30\n",
            "130/130 [==============================] - 2s 12ms/step - loss: 0.2906 - val_loss: 0.6188\n",
            "Epoch 22/30\n",
            "130/130 [==============================] - 2s 12ms/step - loss: 0.2850 - val_loss: 0.6167\n",
            "Epoch 23/30\n",
            "130/130 [==============================] - 2s 12ms/step - loss: 0.2832 - val_loss: 0.6179\n",
            "Epoch 24/30\n",
            "130/130 [==============================] - 2s 12ms/step - loss: 0.2793 - val_loss: 0.6180\n",
            "Epoch 25/30\n",
            "130/130 [==============================] - 2s 12ms/step - loss: 0.2780 - val_loss: 0.6217\n",
            "Epoch 26/30\n",
            "130/130 [==============================] - 2s 12ms/step - loss: 0.2774 - val_loss: 0.6176\n",
            "Epoch 27/30\n",
            "130/130 [==============================] - 2s 12ms/step - loss: 0.2756 - val_loss: 0.6181\n",
            "Epoch 28/30\n",
            "130/130 [==============================] - 2s 12ms/step - loss: 0.2728 - val_loss: 0.6176\n",
            "Epoch 29/30\n",
            "130/130 [==============================] - 2s 12ms/step - loss: 0.2735 - val_loss: 0.6183\n",
            "Epoch 30/30\n",
            "130/130 [==============================] - 2s 12ms/step - loss: 0.2711 - val_loss: 0.6174\n"
          ]
        }
      ],
      "source": [
        "model7.compile(optimizer='adam', loss='mae',\n",
        "              )\n",
        "\n",
        "history7 = model7.fit(X1_train_smote, Y1_train_smote,\n",
        "                    batch_size=batch_size,\n",
        "                    epochs=epochs,\n",
        "                    verbose=1,\n",
        "                    shuffle=False,\n",
        "                    validation_data=(X1_test_smote, Y1_test_smote))"
      ]
    },
    {
      "cell_type": "code",
      "execution_count": 82,
      "metadata": {
        "colab": {
          "base_uri": "https://localhost:8080/",
          "height": 297
        },
        "id": "7mfaFoAIGGQv",
        "outputId": "6c9da968-406b-46d4-b510-a67763364286"
      },
      "outputs": [
        {
          "output_type": "display_data",
          "data": {
            "text/plain": [
              "<Figure size 432x288 with 1 Axes>"
            ],
            "image/png": "[encoded data removed]"
          },
          "metadata": {}
        }
      ],
      "source": [
        "# Show the learning curves\n",
        "history_df7 = pd.DataFrame(history7.history)\n",
        "history_df7.loc[:, ['loss', 'val_loss']].plot();"
      ]
    },
    {
      "cell_type": "code",
      "execution_count": 83,
      "metadata": {
        "id": "7ZrvYc-3E0pu"
      },
      "outputs": [],
      "source": [
        "import numpy as np\n",
        "import tensorflow as tf\n",
        "from tensorflow import keras\n",
        "from tensorflow.keras import layers"
      ]
    },
    {
      "cell_type": "code",
      "execution_count": 84,
      "metadata": {
        "colab": {
          "base_uri": "https://localhost:8080/",
          "height": 1000
        },
        "id": "b1KcVFcyIOl8",
        "outputId": "53429cfa-2eb4-4b9d-e87f-1f0a2598e6d1"
      },
      "outputs": [
        {
          "output_type": "stream",
          "name": "stdout",
          "text": [
            "Epoch 1/50\n",
            "1707/1707 [==============================] - 6s 3ms/step - loss: 0.5970 - val_loss: 0.4744\n",
            "Epoch 2/50\n",
            "1707/1707 [==============================] - 6s 4ms/step - loss: 0.4034 - val_loss: 0.4390\n",
            "Epoch 3/50\n",
            "1707/1707 [==============================] - 5s 3ms/step - loss: 0.3045 - val_loss: 0.4157\n",
            "Epoch 4/50\n",
            "1707/1707 [==============================] - 5s 3ms/step - loss: 0.2644 - val_loss: 0.4067\n",
            "Epoch 5/50\n",
            "1707/1707 [==============================] - 5s 3ms/step - loss: 0.2429 - val_loss: 0.3968\n",
            "Epoch 6/50\n",
            "1707/1707 [==============================] - 5s 3ms/step - loss: 0.2256 - val_loss: 0.3873\n",
            "Epoch 7/50\n",
            "1707/1707 [==============================] - 6s 3ms/step - loss: 0.2150 - val_loss: 0.3829\n",
            "Epoch 8/50\n",
            "1707/1707 [==============================] - 6s 3ms/step - loss: 0.2084 - val_loss: 0.3801\n",
            "Epoch 9/50\n",
            "1707/1707 [==============================] - 6s 4ms/step - loss: 0.2036 - val_loss: 0.3779\n",
            "Epoch 10/50\n",
            "1707/1707 [==============================] - 6s 3ms/step - loss: 0.1999 - val_loss: 0.3763\n",
            "Epoch 11/50\n",
            "1707/1707 [==============================] - 6s 3ms/step - loss: 0.1971 - val_loss: 0.3751\n",
            "Epoch 12/50\n",
            "1707/1707 [==============================] - 6s 4ms/step - loss: 0.1951 - val_loss: 0.3745\n",
            "Epoch 13/50\n",
            "1707/1707 [==============================] - 6s 3ms/step - loss: 0.1935 - val_loss: 0.3741\n",
            "Epoch 14/50\n",
            "1707/1707 [==============================] - 6s 3ms/step - loss: 0.1922 - val_loss: 0.3737\n",
            "Epoch 15/50\n",
            "1707/1707 [==============================] - 6s 3ms/step - loss: 0.1910 - val_loss: 0.3735\n",
            "Epoch 16/50\n",
            "1707/1707 [==============================] - 5s 3ms/step - loss: 0.1900 - val_loss: 0.3730\n",
            "Epoch 17/50\n",
            "1707/1707 [==============================] - 6s 3ms/step - loss: 0.1891 - val_loss: 0.3725\n",
            "Epoch 18/50\n",
            "1707/1707 [==============================] - 6s 3ms/step - loss: 0.1883 - val_loss: 0.3726\n",
            "Epoch 19/50\n",
            "1707/1707 [==============================] - 6s 3ms/step - loss: 0.1876 - val_loss: 0.3725\n",
            "Epoch 20/50\n",
            "1707/1707 [==============================] - 6s 4ms/step - loss: 0.1870 - val_loss: 0.3725\n",
            "Epoch 21/50\n",
            "1707/1707 [==============================] - 6s 3ms/step - loss: 0.1864 - val_loss: 0.3721\n",
            "Epoch 22/50\n",
            "1707/1707 [==============================] - 7s 4ms/step - loss: 0.1859 - val_loss: 0.3720\n",
            "Epoch 23/50\n",
            "1707/1707 [==============================] - 7s 4ms/step - loss: 0.1854 - val_loss: 0.3722\n",
            "Epoch 24/50\n",
            "1707/1707 [==============================] - 6s 4ms/step - loss: 0.1849 - val_loss: 0.3723\n",
            "Epoch 25/50\n",
            "1707/1707 [==============================] - 6s 4ms/step - loss: 0.1845 - val_loss: 0.3724\n",
            "Epoch 26/50\n",
            "1707/1707 [==============================] - 6s 4ms/step - loss: 0.1841 - val_loss: 0.3726\n",
            "Epoch 27/50\n",
            "1707/1707 [==============================] - 6s 3ms/step - loss: 0.1837 - val_loss: 0.3725\n",
            "Epoch 28/50\n",
            "1707/1707 [==============================] - 6s 3ms/step - loss: 0.1833 - val_loss: 0.3727\n",
            "Epoch 29/50\n",
            "1707/1707 [==============================] - 7s 4ms/step - loss: 0.1830 - val_loss: 0.3727\n",
            "Epoch 30/50\n",
            "1707/1707 [==============================] - 6s 4ms/step - loss: 0.1826 - val_loss: 0.3728\n",
            "Epoch 31/50\n",
            "1707/1707 [==============================] - 6s 3ms/step - loss: 0.1823 - val_loss: 0.3728\n",
            "Epoch 32/50\n",
            "1707/1707 [==============================] - 6s 4ms/step - loss: 0.1819 - val_loss: 0.3726\n",
            "Epoch 33/50\n",
            "1707/1707 [==============================] - 6s 4ms/step - loss: 0.1816 - val_loss: 0.3724\n",
            "Epoch 34/50\n",
            "1707/1707 [==============================] - 6s 3ms/step - loss: 0.1813 - val_loss: 0.3725\n",
            "Epoch 35/50\n",
            "1707/1707 [==============================] - 6s 3ms/step - loss: 0.1810 - val_loss: 0.3724\n",
            "Epoch 36/50\n",
            "1707/1707 [==============================] - 6s 4ms/step - loss: 0.1807 - val_loss: 0.3724\n",
            "Epoch 37/50\n",
            "1707/1707 [==============================] - 6s 3ms/step - loss: 0.1804 - val_loss: 0.3724\n",
            "Epoch 38/50\n",
            "1707/1707 [==============================] - 7s 4ms/step - loss: 0.1801 - val_loss: 0.3721\n",
            "Epoch 39/50\n",
            "1707/1707 [==============================] - 6s 4ms/step - loss: 0.1798 - val_loss: 0.3725\n",
            "Epoch 40/50\n",
            "1707/1707 [==============================] - 7s 4ms/step - loss: 0.1795 - val_loss: 0.3725\n",
            "Epoch 41/50\n",
            "1707/1707 [==============================] - 7s 4ms/step - loss: 0.1792 - val_loss: 0.3725\n",
            "Epoch 42/50\n",
            "1707/1707 [==============================] - 7s 4ms/step - loss: 0.1788 - val_loss: 0.3722\n",
            "Epoch 43/50\n",
            "1707/1707 [==============================] - 6s 4ms/step - loss: 0.1785 - val_loss: 0.3721\n",
            "Epoch 44/50\n",
            "1707/1707 [==============================] - 6s 4ms/step - loss: 0.1782 - val_loss: 0.3724\n",
            "Epoch 45/50\n",
            "1707/1707 [==============================] - 7s 4ms/step - loss: 0.1779 - val_loss: 0.3723\n",
            "Epoch 46/50\n",
            "1707/1707 [==============================] - 7s 4ms/step - loss: 0.1775 - val_loss: 0.3723\n",
            "Epoch 47/50\n",
            "1707/1707 [==============================] - 6s 4ms/step - loss: 0.1772 - val_loss: 0.3723\n",
            "Epoch 48/50\n",
            "1707/1707 [==============================] - 6s 4ms/step - loss: 0.1768 - val_loss: 0.3724\n",
            "Epoch 49/50\n",
            "1707/1707 [==============================] - 6s 4ms/step - loss: 0.1765 - val_loss: 0.3725\n",
            "Epoch 50/50\n",
            "1707/1707 [==============================] - 7s 4ms/step - loss: 0.1761 - val_loss: 0.3724\n",
            "Minimum validation loss: 0.3720499873161316\n"
          ]
        },
        {
          "output_type": "display_data",
          "data": {
            "text/plain": [
              "<Figure size 432x288 with 1 Axes>"
            ],
            "image/png": "[encoded data removed]"
          },
          "metadata": {}
        }
      ],
      "source": [
        "model10 = keras.Sequential([layers.Dense(4, activation='relu'),\n",
        "                          layers.Dense(4, activation='sigmoid'),\n",
        "                          layers.Dense(1),\n",
        "                         ])\n",
        "opt = tf.keras.optimizers.Adam(learning_rate=0.0001,name='Adam')\n",
        "model10.compile(optimizer=opt, loss='mae')\n",
        "history10 = model10.fit(X1_train_smote, Y1_train_smote,\n",
        "                    validation_data=(X1_test_smote, Y1_test_smote),\n",
        "                    batch_size=64,\n",
        "                    epochs=50,\n",
        "                    verbose=1,  # turn off training log\n",
        "                   )\n",
        "\n",
        "history_df10 = pd.DataFrame(history10.history)\n",
        "history_df10.loc[:, ['loss', 'val_loss']].plot();\n",
        "print(\"Minimum validation loss: {}\".format(history_df10['val_loss'].min()))"
      ]
    },
    {
      "cell_type": "code",
      "execution_count": 85,
      "metadata": {
        "id": "2ZnElllU2F-s",
        "colab": {
          "base_uri": "https://localhost:8080/"
        },
        "outputId": "07479be5-0137-4812-9508-6a415cad5a89"
      },
      "outputs": [
        {
          "output_type": "stream",
          "name": "stdout",
          "text": [
            "Epoch 1/50\n",
            "1707/1707 [==============================] - 9s 5ms/step - loss: 0.4338 - binary_accuracy: 0.5823 - val_loss: 0.4616 - val_binary_accuracy: 0.6008\n",
            "Epoch 2/50\n",
            "1707/1707 [==============================] - 7s 4ms/step - loss: 0.2726 - binary_accuracy: 0.8202 - val_loss: 0.4296 - val_binary_accuracy: 0.6137\n",
            "Epoch 3/50\n",
            "1707/1707 [==============================] - 7s 4ms/step - loss: 0.2293 - binary_accuracy: 0.8338 - val_loss: 0.4122 - val_binary_accuracy: 0.6257\n",
            "Epoch 4/50\n",
            "1707/1707 [==============================] - 7s 4ms/step - loss: 0.1977 - binary_accuracy: 0.8385 - val_loss: 0.3974 - val_binary_accuracy: 0.6267\n",
            "Epoch 5/50\n",
            "1707/1707 [==============================] - 7s 4ms/step - loss: 0.1780 - binary_accuracy: 0.8443 - val_loss: 0.3912 - val_binary_accuracy: 0.6289\n",
            "Epoch 6/50\n",
            "1707/1707 [==============================] - 6s 4ms/step - loss: 0.1687 - binary_accuracy: 0.8491 - val_loss: 0.3909 - val_binary_accuracy: 0.6301\n",
            "Epoch 7/50\n",
            "1707/1707 [==============================] - 7s 4ms/step - loss: 0.1621 - binary_accuracy: 0.8530 - val_loss: 0.3898 - val_binary_accuracy: 0.6271\n",
            "Epoch 8/50\n",
            "1707/1707 [==============================] - 7s 4ms/step - loss: 0.1565 - binary_accuracy: 0.8562 - val_loss: 0.3892 - val_binary_accuracy: 0.6148\n",
            "Epoch 9/50\n",
            "1707/1707 [==============================] - 7s 4ms/step - loss: 0.1514 - binary_accuracy: 0.8596 - val_loss: 0.3904 - val_binary_accuracy: 0.6103\n",
            "Epoch 10/50\n",
            "1707/1707 [==============================] - 7s 4ms/step - loss: 0.1473 - binary_accuracy: 0.8622 - val_loss: 0.3909 - val_binary_accuracy: 0.6110\n",
            "Epoch 11/50\n",
            "1707/1707 [==============================] - 7s 4ms/step - loss: 0.1447 - binary_accuracy: 0.8635 - val_loss: 0.3912 - val_binary_accuracy: 0.6110\n",
            "Epoch 12/50\n",
            "1707/1707 [==============================] - 7s 4ms/step - loss: 0.1421 - binary_accuracy: 0.8656 - val_loss: 0.3932 - val_binary_accuracy: 0.6107\n",
            "Epoch 13/50\n",
            "1707/1707 [==============================] - 6s 4ms/step - loss: 0.1405 - binary_accuracy: 0.8667 - val_loss: 0.3951 - val_binary_accuracy: 0.6021\n",
            "Epoch 14/50\n",
            "1707/1707 [==============================] - 7s 4ms/step - loss: 0.1382 - binary_accuracy: 0.8682 - val_loss: 0.3961 - val_binary_accuracy: 0.6022\n",
            "Epoch 15/50\n",
            "1707/1707 [==============================] - 6s 3ms/step - loss: 0.1370 - binary_accuracy: 0.8689 - val_loss: 0.4000 - val_binary_accuracy: 0.6028\n",
            "Epoch 16/50\n",
            "1707/1707 [==============================] - 6s 4ms/step - loss: 0.1352 - binary_accuracy: 0.8700 - val_loss: 0.4018 - val_binary_accuracy: 0.5881\n",
            "Epoch 17/50\n",
            "1707/1707 [==============================] - 7s 4ms/step - loss: 0.1342 - binary_accuracy: 0.8708 - val_loss: 0.4024 - val_binary_accuracy: 0.5883\n",
            "Epoch 18/50\n",
            "1707/1707 [==============================] - 7s 4ms/step - loss: 0.1326 - binary_accuracy: 0.8725 - val_loss: 0.4035 - val_binary_accuracy: 0.5885\n",
            "Epoch 19/50\n",
            "1707/1707 [==============================] - 7s 4ms/step - loss: 0.1315 - binary_accuracy: 0.8726 - val_loss: 0.4033 - val_binary_accuracy: 0.5875\n",
            "Epoch 20/50\n",
            "1707/1707 [==============================] - 6s 4ms/step - loss: 0.1305 - binary_accuracy: 0.8735 - val_loss: 0.4048 - val_binary_accuracy: 0.5871\n",
            "Epoch 21/50\n",
            "1707/1707 [==============================] - 6s 4ms/step - loss: 0.1300 - binary_accuracy: 0.8740 - val_loss: 0.4063 - val_binary_accuracy: 0.5858\n",
            "Epoch 22/50\n",
            "1707/1707 [==============================] - 7s 4ms/step - loss: 0.1290 - binary_accuracy: 0.8748 - val_loss: 0.4064 - val_binary_accuracy: 0.5857\n",
            "Epoch 23/50\n",
            "1707/1707 [==============================] - 7s 4ms/step - loss: 0.1283 - binary_accuracy: 0.8755 - val_loss: 0.4055 - val_binary_accuracy: 0.5873\n",
            "Epoch 24/50\n",
            "1707/1707 [==============================] - 6s 4ms/step - loss: 0.1280 - binary_accuracy: 0.8756 - val_loss: 0.4058 - val_binary_accuracy: 0.5873\n",
            "Epoch 25/50\n",
            "1707/1707 [==============================] - 6s 4ms/step - loss: 0.1270 - binary_accuracy: 0.8765 - val_loss: 0.4073 - val_binary_accuracy: 0.5879\n",
            "Epoch 26/50\n",
            "1707/1707 [==============================] - 6s 4ms/step - loss: 0.1264 - binary_accuracy: 0.8771 - val_loss: 0.4070 - val_binary_accuracy: 0.5887\n",
            "Epoch 27/50\n",
            "1707/1707 [==============================] - 7s 4ms/step - loss: 0.1259 - binary_accuracy: 0.8773 - val_loss: 0.4081 - val_binary_accuracy: 0.5863\n"
          ]
        }
      ],
      "source": [
        "from tensorflow.keras.callbacks import EarlyStopping\n",
        "early_stopping = EarlyStopping(min_delta=0.001, # minimium amount of change to count as an improvement\n",
        "                               patience=20, # how many epochs to wait before stopping\n",
        "                               restore_best_weights=True,\n",
        "                              )\n",
        "\n",
        "model13 = keras.Sequential([layers.Dense(12, activation='relu'),\n",
        "                            layers.Dropout(0.3),\n",
        "                            layers.Dense(8, activation='relu'),\n",
        "                            layers.Dense(8, activation='sigmoid'),\n",
        "                            layers.Dense(1),\n",
        "                         ])\n",
        "opt = tf.keras.optimizers.Adam(learning_rate=0.0001,name='Adam')\n",
        "model13.compile(optimizer=opt, loss='mae',metrics=['binary_accuracy'])\n",
        "history13 = model13.fit(X1_train_smote, Y1_train_smote,\n",
        "                    validation_data=(X1_test_smote, Y1_test_smote),\n",
        "                    batch_size=64,\n",
        "                    epochs=50,\n",
        "                    callbacks=[early_stopping],\n",
        "                    verbose=1,  # turn off training log\n",
        "                   )"
      ]
    },
    {
      "cell_type": "code",
      "execution_count": 86,
      "metadata": {
        "id": "m7_ac9xd2_D7",
        "colab": {
          "base_uri": "https://localhost:8080/",
          "height": 314
        },
        "outputId": "23cda2f6-540f-4c34-e131-0c19e0067d5d"
      },
      "outputs": [
        {
          "output_type": "stream",
          "name": "stdout",
          "text": [
            "Minimum validation loss: 0.3892095685005188\n"
          ]
        },
        {
          "output_type": "display_data",
          "data": {
            "text/plain": [
              "<Figure size 432x288 with 1 Axes>"
            ],
            "image/png": "[encoded data removed]"
          },
          "metadata": {}
        }
      ],
      "source": [
        "history_df13 = pd.DataFrame(history13.history)\n",
        "history_df13.loc[:, ['loss', 'val_loss']].plot();\n",
        "print(\"Minimum validation loss: {}\".format(history_df13['val_loss'].min()))"
      ]
    },
    {
      "cell_type": "code",
      "execution_count": 89,
      "metadata": {
        "id": "28IAi-ZJGTUf",
        "colab": {
          "base_uri": "https://localhost:8080/",
          "height": 880
        },
        "outputId": "8fb619aa-2eca-404e-803b-c73074720e2c"
      },
      "outputs": [
        {
          "output_type": "stream",
          "name": "stdout",
          "text": [
            "Classification Report\n",
            "              precision    recall  f1-score   support\n",
            "\n",
            "    Positivo       0.64      0.59      0.61     13650\n",
            "    Negativo       0.62      0.67      0.64     13650\n",
            "\n",
            "    accuracy                           0.63     27300\n",
            "   macro avg       0.63      0.63      0.63     27300\n",
            "weighted avg       0.63      0.63      0.63     27300\n",
            "\n",
            "ROC Score: 0.6270695970695971\n",
            "Accuracy Score: 0.6270695970695971\n",
            "Average Precision Score: 0.5784905029602051\n",
            "f1 Score: 0.6413499136928876\n",
            "Confusion matrix, without normalization\n",
            "[[8016 5634]\n",
            " [4547 9103]]\n"
          ]
        },
        {
          "output_type": "display_data",
          "data": {
            "text/plain": [
              "<Figure size 576x576 with 2 Axes>"
            ],
            "image/png": "[encoded data removed]"
          },
          "metadata": {}
        }
      ],
      "source": [
        "y_pred_redes= (model13.predict(X1_test_smote) > 0.5).astype(\"int32\")\n",
        "\n",
        "clf_matrix = confusion_matrix(Y1_test_smote, y_pred_redes)\n",
        "print('Classification Report')\n",
        "print(classification_report(Y1_test_smote, y_pred_redes, target_names=['Positivo', 'Negativo']))\n",
        "print('ROC Score: {}'.format(roc_auc_score(Y1_test_smote,y_pred_redes)))\n",
        "print('Accuracy Score: {}'.format(accuracy_score(Y1_test_smote, y_pred_redes)))\n",
        "print('Average Precision Score: {}'.format(average_precision_score(Y1_test_smote, y_pred_redes)))\n",
        "print('f1 Score: {}'.format(f1_score(Y1_test_smote, y_pred_redes)))\n",
        "plot_confusion_matrix(clf_matrix, classes=['Positivo', 'Negativo'])\n",
        "roc_keras = roc_auc_score(Y1_test_smote, y_pred_redes)"
      ]
    },
    {
      "cell_type": "code",
      "execution_count": 90,
      "metadata": {
        "id": "SsTx-h3qxhKA"
      },
      "outputs": [],
      "source": [
        "from sklearn.metrics import precision_recall_curve\n",
        "from sklearn.metrics import roc_curve\n",
        "from sklearn.metrics import roc_auc_score"
      ]
    },
    {
      "cell_type": "code",
      "execution_count": 91,
      "metadata": {
        "id": "67UV9AMExi9U"
      },
      "outputs": [],
      "source": [
        "def plot_roc_curve(fpr, tpr, label=None):\n",
        "    plt.plot(fpr, tpr, linewidth=2, label=label)\n",
        "    plt.plot([0, 1], [0, 1], 'k--') \n",
        "    plt.axis([0, 1, 0, 1])                                    \n",
        "    plt.xlabel('False Positive Rate (Fall-Out)', fontsize=16) \n",
        "    plt.ylabel('True Positive Rate (Recall)', fontsize=16)    \n",
        "    plt.grid(True) "
      ]
    },
    {
      "cell_type": "code",
      "execution_count": 92,
      "metadata": {
        "id": "pTK_yRcYxnGJ"
      },
      "outputs": [],
      "source": [
        "clf_gnb_roc = clf_gnb.predict(X1_test_smote)\n",
        "clf_bnb_roc = clf_bnb.predict(X1_test_smote)\n",
        "model_roc = model1.predict(X1_test_smote)\n",
        "\n",
        "fpr_lr, tpr_lr, thresholds_lr = roc_curve(Y1_test_smote, clf_gnb_roc)\n",
        "fpr_bag_lr, tpr_bag_lr, thresholds_bag_lr = roc_curve(Y1_test_smote, pred_train_lr_test_smote)\n",
        "fpr_gb, tpr_gb, thresholds_gb = roc_curve(Y1_test_smote, pred_test_gb_clf)\n",
        "fpr_net, tpr_net_lr, thresholds_net_lr = roc_curve(Y1_test_smote, model_roc)\n",
        "fpr_bnb, tpr_bnb, thresholds_bnb = roc_curve(Y1_test_smote, clf_bnb_roc)\n",
        "\n"
      ]
    },
    {
      "cell_type": "code",
      "execution_count": 93,
      "metadata": {
        "id": "iCuhk1B30VtL",
        "colab": {
          "base_uri": "https://localhost:8080/",
          "height": 873
        },
        "outputId": "9e80af4c-338d-4b41-f855-26f2b7491079"
      },
      "outputs": [
        {
          "output_type": "display_data",
          "data": {
            "text/plain": [
              "<Figure size 1152x864 with 1 Axes>"
            ],
            "image/png": "[encoded data removed]"
          },
          "metadata": {}
        }
      ],
      "source": [
        "plt.figure(figsize=(16, 12))                                    # Not shown\n",
        "plot_roc_curve(fpr_lr, tpr_lr, label='GaussianNB')\n",
        "plot_roc_curve(fpr_bag_lr, tpr_bag_lr, label='Regressão Logística')\n",
        "plot_roc_curve(fpr_net, tpr_net_lr, label='Redes Neurais')\n",
        "plot_roc_curve(fpr_bnb, tpr_bnb, label='BernoulliNB')\n",
        "plot_roc_curve(fpr_gb, tpr_gb, label='Gradient Boosting')\n",
        "plt.legend(loc=\"lower right\")\n",
        "plt.title('Curva ROC', fontweight=\"bold\")\n",
        "plt.show()"
      ]
    },
    {
      "cell_type": "code",
      "execution_count": 94,
      "metadata": {
        "id": "3zYbKxLI5-Qj"
      },
      "outputs": [],
      "source": [
        "from sklearn.metrics import accuracy_score, confusion_matrix, precision_score, recall_score, f1_score\n",
        "from sklearn.model_selection import cross_val_score"
      ]
    },
    {
      "cell_type": "code",
      "execution_count": 95,
      "metadata": {
        "id": "lQ_BuuPd13Xy"
      },
      "outputs": [],
      "source": [
        "#função para calcular o cross validation para as métricas accuracy, precision, recall e f1\n",
        "def resumo_xval_score(model, X, Y):\n",
        "\n",
        "  accuracy = cross_val_score(model, X, Y,  scoring=\"accuracy\")\n",
        "  precision = cross_val_score(model, X, Y, scoring=\"precision\")\n",
        "  recall = cross_val_score(model, X, Y,  scoring=\"recall\")\n",
        "  f1 = cross_val_score(model, X, Y, scoring=\"f1\")\n",
        "\n",
        "  return accuracy.mean(), precision.mean(), recall.mean(), f1.mean()"
      ]
    },
    {
      "cell_type": "code",
      "source": [
        "def resumo_xval_score_rede(Y, Ypred):\n",
        "\n",
        "  accuracy= accuracy_score(Y, Ypred)\n",
        "  precision = average_precision_score(Y, Ypred)\n",
        "  recall = recall_score(Y, Ypred)\n",
        "  f1 = f1_score(Y, Ypred)\n",
        "\n",
        "  return accuracy.mean(), precision.mean(), recall.mean(), f1.mean()"
      ],
      "metadata": {
        "id": "IKKV0jZaKrY9"
      },
      "execution_count": 106,
      "outputs": []
    },
    {
      "cell_type": "code",
      "execution_count": 99,
      "metadata": {
        "id": "jUmmrl_464WI",
        "colab": {
          "base_uri": "https://localhost:8080/"
        },
        "outputId": "c881a1b1-ff90-4797-f076-caa99112af42"
      },
      "outputs": [
        {
          "output_type": "stream",
          "name": "stdout",
          "text": [
            "3413/3413 [==============================] - 112s 33ms/step - loss: 0.1823\n"
          ]
        }
      ],
      "source": [
        "red_neu = model.fit(X1_train_smote, Y1_train_smote)"
      ]
    },
    {
      "cell_type": "code",
      "execution_count": 109,
      "metadata": {
        "id": "WlyDI09S1-XK"
      },
      "outputs": [],
      "source": [
        "#Score com validação cruzada 5 fold na base de teste após o GridSearch nao tive poder computacional para rodar\n",
        "from sklearn.model_selection import cross_val_score\n",
        "score_gs_test_lr = resumo_xval_score(clf_gnb, X1_test_smote, Y1_test_smote)\n",
        "score_gs_test_bag_lr_2 = resumo_xval_score(clf_lr, X1_test_smote, Y1_test_smote)\n",
        "#score_gs_test_tree_clf_3 = resumo_xval_score(gb_clf_sa, X1_test_smote, Y1_test_smote)\n",
        "#score_gs_test_redes = resumo_xval_score(y_pred_redes, X1_test_smote, Y1_test_smote)\n",
        "score_gs_test_bnb = resumo_xval_score(clf_bnb, X1_test_smote, Y1_test_smote)"
      ]
    },
    {
      "cell_type": "code",
      "source": [
        "score_gs_test_redes2 = resumo_xval_score_rede(Y1_test_smote, y_pred_redes)"
      ],
      "metadata": {
        "id": "t13tzgeI7Vs3"
      },
      "execution_count": 110,
      "outputs": []
    },
    {
      "cell_type": "code",
      "execution_count": 111,
      "metadata": {
        "id": "npBuUwoc2CKL",
        "colab": {
          "base_uri": "https://localhost:8080/",
          "height": 174
        },
        "outputId": "4293e567-1996-4340-cb00-dbda4f493b46"
      },
      "outputs": [
        {
          "output_type": "execute_result",
          "data": {
            "text/plain": [
              "             Accuracy  Precision    Recall        F1\n",
              "GNB          0.634139   0.582100  0.902344  0.701827\n",
              "LR           0.824945   0.821020  0.826300  0.822226\n",
              "BN           0.724359   0.663618  0.869377  0.746213\n",
              "Rede Neural  0.627070   0.578491  0.666886  0.641350"
            ],
            "text/html": [
              "\n",
              "  <div id=\"df-5ec8396e-4791-4388-bb60-72bc5f1da31f\">\n",
              "    <div class=\"colab-df-container\">\n",
              "      <div>\n",
              "<style scoped>\n",
              "    .dataframe tbody tr th:only-of-type {\n",
              "        vertical-align: middle;\n",
              "    }\n",
              "\n",
              "    .dataframe tbody tr th {\n",
              "        vertical-align: top;\n",
              "    }\n",
              "\n",
              "    .dataframe thead th {\n",
              "        text-align: right;\n",
              "    }\n",
              "</style>\n",
              "<table border=\"1\" class=\"dataframe\">\n",
              "  <thead>\n",
              "    <tr style=\"text-align: right;\">\n",
              "      <th></th>\n",
              "      <th>Accuracy</th>\n",
              "      <th>Precision</th>\n",
              "      <th>Recall</th>\n",
              "      <th>F1</th>\n",
              "    </tr>\n",
              "  </thead>\n",
              "  <tbody>\n",
              "    <tr>\n",
              "      <th>GNB</th>\n",
              "      <td>0.634139</td>\n",
              "      <td>0.582100</td>\n",
              "      <td>0.902344</td>\n",
              "      <td>0.701827</td>\n",
              "    </tr>\n",
              "    <tr>\n",
              "      <th>LR</th>\n",
              "      <td>0.824945</td>\n",
              "      <td>0.821020</td>\n",
              "      <td>0.826300</td>\n",
              "      <td>0.822226</td>\n",
              "    </tr>\n",
              "    <tr>\n",
              "      <th>BN</th>\n",
              "      <td>0.724359</td>\n",
              "      <td>0.663618</td>\n",
              "      <td>0.869377</td>\n",
              "      <td>0.746213</td>\n",
              "    </tr>\n",
              "    <tr>\n",
              "      <th>Rede Neural</th>\n",
              "      <td>0.627070</td>\n",
              "      <td>0.578491</td>\n",
              "      <td>0.666886</td>\n",
              "      <td>0.641350</td>\n",
              "    </tr>\n",
              "  </tbody>\n",
              "</table>\n",
              "</div>\n",
              "      <button class=\"colab-df-convert\" onclick=\"convertToInteractive('df-5ec8396e-4791-4388-bb60-72bc5f1da31f')\"\n",
              "              title=\"Convert this dataframe to an interactive table.\"\n",
              "              style=\"display:none;\">\n",
              "        \n",
              "  <svg xmlns=\"http://www.w3.org/2000/svg\" height=\"24px\"viewBox=\"0 0 24 24\"\n",
              "       width=\"24px\">\n",
              "    <path d=\"M0 0h24v24H0V0z\" fill=\"none\"/>\n",
              "    <path d=\"M18.56 5.44l.94 2.06.94-2.06 2.06-.94-2.06-.94-.94-2.06-.94 2.06-2.06.94zm-11 1L8.5 8.5l.94-2.06 2.06-.94-2.06-.94L8.5 2.5l-.94 2.06-2.06.94zm10 10l.94 2.06.94-2.06 2.06-.94-2.06-.94-.94-2.06-.94 2.06-2.06.94z\"/><path d=\"M17.41 7.96l-1.37-1.37c-.4-.4-.92-.59-1.43-.59-.52 0-1.04.2-1.43.59L10.3 9.45l-7.72 7.72c-.78.78-.78 2.05 0 2.83L4 21.41c.39.39.9.59 1.41.59.51 0 1.02-.2 1.41-.59l7.78-7.78 2.81-2.81c.8-.78.8-2.07 0-2.86zM5.41 20L4 18.59l7.72-7.72 1.47 1.35L5.41 20z\"/>\n",
              "  </svg>\n",
              "      </button>\n",
              "      \n",
              "  <style>\n",
              "    .colab-df-container {\n",
              "      display:flex;\n",
              "      flex-wrap:wrap;\n",
              "      gap: 12px;\n",
              "    }\n",
              "\n",
              "    .colab-df-convert {\n",
              "      background-color: #E8F0FE;\n",
              "      border: none;\n",
              "      border-radius: 50%;\n",
              "      cursor: pointer;\n",
              "      display: none;\n",
              "      fill: #1967D2;\n",
              "      height: 32px;\n",
              "      padding: 0 0 0 0;\n",
              "      width: 32px;\n",
              "    }\n",
              "\n",
              "    .colab-df-convert:hover {\n",
              "      background-color: #E2EBFA;\n",
              "      box-shadow: 0px 1px 2px rgba(60, 64, 67, 0.3), 0px 1px 3px 1px rgba(60, 64, 67, 0.15);\n",
              "      fill: #174EA6;\n",
              "    }\n",
              "\n",
              "    [theme=dark] .colab-df-convert {\n",
              "      background-color: #3B4455;\n",
              "      fill: #D2E3FC;\n",
              "    }\n",
              "\n",
              "    [theme=dark] .colab-df-convert:hover {\n",
              "      background-color: #434B5C;\n",
              "      box-shadow: 0px 1px 3px 1px rgba(0, 0, 0, 0.15);\n",
              "      filter: drop-shadow(0px 1px 2px rgba(0, 0, 0, 0.3));\n",
              "      fill: #FFFFFF;\n",
              "    }\n",
              "  </style>\n",
              "\n",
              "      <script>\n",
              "        const buttonEl =\n",
              "          document.querySelector('#df-5ec8396e-4791-4388-bb60-72bc5f1da31f button.colab-df-convert');\n",
              "        buttonEl.style.display =\n",
              "          google.colab.kernel.accessAllowed ? 'block' : 'none';\n",
              "\n",
              "        async function convertToInteractive(key) {\n",
              "          const element = document.querySelector('#df-5ec8396e-4791-4388-bb60-72bc5f1da31f');\n",
              "          const dataTable =\n",
              "            await google.colab.kernel.invokeFunction('convertToInteractive',\n",
              "                                                     [key], {});\n",
              "          if (!dataTable) return;\n",
              "\n",
              "          const docLinkHtml = 'Like what you see? Visit the ' +\n",
              "            '<a target=\"_blank\" href=https://colab.research.google.com/notebooks/data_table.ipynb>data table notebook</a>'\n",
              "            + ' to learn more about interactive tables.';\n",
              "          element.innerHTML = '';\n",
              "          dataTable['output_type'] = 'display_data';\n",
              "          await google.colab.output.renderOutput(dataTable, element);\n",
              "          const docLink = document.createElement('div');\n",
              "          docLink.innerHTML = docLinkHtml;\n",
              "          element.appendChild(docLink);\n",
              "        }\n",
              "      </script>\n",
              "    </div>\n",
              "  </div>\n",
              "  "
            ]
          },
          "metadata": {},
          "execution_count": 111
        }
      ],
      "source": [
        "#DataFrame com todos os resultados no conjunto de testes após o GridSearch\n",
        "score_gs_test_df = pd.DataFrame(\n",
        "   np.array([score_gs_test_lr, score_gs_test_bag_lr_2,score_gs_test_bnb,score_gs_test_redes2]),\n",
        "    index=['GNB', 'LR','BN','Rede Neural'],\n",
        "    columns=['Accuracy', 'Precision', 'Recall', 'F1']\n",
        "    )\n",
        "score_gs_test_df"
      ]
    },
    {
      "cell_type": "markdown",
      "metadata": {
        "id": "OM7gxYMF3eci"
      },
      "source": [
        "modelo que queremos bater"
      ]
    },
    {
      "cell_type": "code",
      "execution_count": null,
      "metadata": {
        "id": "eAi0o-p40p_j"
      },
      "outputs": [],
      "source": [
        "#!pip install happytransformer"
      ]
    },
    {
      "cell_type": "code",
      "execution_count": null,
      "metadata": {
        "id": "NJ9m50sI0fz7"
      },
      "outputs": [],
      "source": [
        "from happytransformer import HappyTextClassification\n",
        "\n",
        "happy_tc = HappyTextClassification(model_type=\"DISTILBERT\",  model_name=\"distilbert-base-uncased-finetuned-sst-2-english\")\n",
        "result = happy_tc.classify_text(\"Great movie! 5/5\")\n",
        "print(type(result))  # <class 'happytransformer.happy_text_classification.TextClassificationResult'>\n",
        "print(result)  # TextClassificationResult(label='POSITIVE', score=0.9998761415481567)\n",
        "print(result.label)  # LABEL_1"
      ]
    },
    {
      "cell_type": "code",
      "execution_count": null,
      "metadata": {
        "id": "lxmAOolF1aaJ"
      },
      "outputs": [],
      "source": [
        "rev =  \"\"\"Terrible. Complete trash. Brainless tripe. Insulting to anyone who isn't an 8 year old fan boy. Im actually pretty disgusted that this movie is making the money it is - what does it say about the people who brainlessly hand over the hard earned cash to be 'entertained' in this fashion and then come here to leave a positive 8.8 review?? Oh yes, they are morons. Its the only sensible conclusion to draw. How anyone can rate this movie amongst the pantheon of great titles is beyond me.\n",
        "\n",
        "So trying to find something constructive to say about this title is hard...I enjoyed Iron Man? Tony Stark is an inspirational character in his own movies but here he is a pale shadow of that...About the only 'hook' this movie had into me was wondering when and if Iron Man would knock Captain America out...Oh how I wished he had :( What were these other characters anyways? Useless, bickering idiots who really couldn't organise happy times in a brewery. The film was a chaotic mish mash of action elements and failed 'set pieces'...\n",
        "\n",
        "I found the villain to be quite amusing.\n",
        "\n",
        "And now I give up. This movie is not robbing any more of my time but I felt I ought to contribute to restoring the obvious fake rating and reviews this movie has been getting on IMDb.\"\"\""
      ]
    },
    {
      "cell_type": "code",
      "execution_count": null,
      "metadata": {
        "id": "rrExN-X22Kvr"
      },
      "outputs": [],
      "source": [
        "df_books.reviewText[10]"
      ]
    },
    {
      "cell_type": "code",
      "execution_count": null,
      "metadata": {
        "id": "OsENOPDj1RY9"
      },
      "outputs": [],
      "source": [
        "result1 = happy_tc.classify_text(df_books.reviewText[10])\n",
        "print(type(result1))  # <class 'happytransformer.happy_text_classification.TextClassificationResult'>\n",
        "print(result1)  # TextClassificationResult(label='POSITIVE', score=0.9998761415481567)\n",
        "print(result1.label)  # LABEL_1"
      ]
    }
  ],
  "metadata": {
    "colab": {
      "collapsed_sections": [],
      "machine_shape": "hm",
      "name": "Final para Entrega Completo Versao 07 - Trabalho_Deep_Marlon_e_Thamiris_Analise_Sentimento-Versão 1-Versão 5.ipynb",
      "provenance": []
    },
    "kernelspec": {
      "display_name": "Python 3",
      "language": "python",
      "name": "python3"
    },
    "language_info": {
      "codemirror_mode": {
        "name": "ipython",
        "version": 3
      },
      "file_extension": ".py",
      "mimetype": "text/x-python",
      "name": "python",
      "nbconvert_exporter": "python",
      "pygments_lexer": "ipython3",
      "version": "3.8.8"
    }
  },
  "nbformat": 4,
  "nbformat_minor": 0
}